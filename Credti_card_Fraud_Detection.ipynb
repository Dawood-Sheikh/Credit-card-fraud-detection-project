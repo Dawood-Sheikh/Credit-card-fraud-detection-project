{
  "cells": [
    {
      "cell_type": "raw",
      "source": [
        "importing the libraries / dependencies"
      ],
      "metadata": {},
      "id": "d0822681"
    },
    {
      "cell_type": "code",
      "source": [
        "from azureml.core import Workspace"
      ],
      "outputs": [],
      "execution_count": 1,
      "metadata": {
        "jupyter": {
          "source_hidden": false,
          "outputs_hidden": false
        },
        "nteract": {
          "transient": {
            "deleting": false
          }
        },
        "gather": {
          "logged": 1642701943730
        }
      },
      "id": "789c5338-7be0-48bd-837c-b7505fe009d3"
    },
    {
      "cell_type": "code",
      "source": [
        "import numpy as np\n",
        "import pandas as pd\n",
        "from sklearn.model_selection import train_test_split\n",
        "from sklearn.linear_model import LogisticRegression\n",
        "from sklearn.metrics import accuracy_score"
      ],
      "outputs": [],
      "execution_count": 2,
      "metadata": {
        "gather": {
          "logged": 1642701957286
        }
      },
      "id": "70f32909"
    },
    {
      "cell_type": "code",
      "source": [
        "#load the dataset to a pandas dataframe\n",
        "credit_card_data = pd.read_csv(\"creditcard.csv\")"
      ],
      "outputs": [],
      "execution_count": 3,
      "metadata": {
        "gather": {
          "logged": 1642701961365
        }
      },
      "id": "0470a177"
    },
    {
      "cell_type": "code",
      "source": [
        "#first 5 rows of the datasets\n",
        "credit_card_data.head()"
      ],
      "outputs": [
        {
          "output_type": "execute_result",
          "execution_count": 4,
          "data": {
            "text/plain": "   Time        V1        V2        V3        V4        V5        V6        V7  \\\n0   0.0 -1.359807 -0.072781  2.536347  1.378155 -0.338321  0.462388  0.239599   \n1   0.0  1.191857  0.266151  0.166480  0.448154  0.060018 -0.082361 -0.078803   \n2   1.0 -1.358354 -1.340163  1.773209  0.379780 -0.503198  1.800499  0.791461   \n3   1.0 -0.966272 -0.185226  1.792993 -0.863291 -0.010309  1.247203  0.237609   \n4   2.0 -1.158233  0.877737  1.548718  0.403034 -0.407193  0.095921  0.592941   \n\n         V8        V9  ...       V21       V22       V23       V24       V25  \\\n0  0.098698  0.363787  ... -0.018307  0.277838 -0.110474  0.066928  0.128539   \n1  0.085102 -0.255425  ... -0.225775 -0.638672  0.101288 -0.339846  0.167170   \n2  0.247676 -1.514654  ...  0.247998  0.771679  0.909412 -0.689281 -0.327642   \n3  0.377436 -1.387024  ... -0.108300  0.005274 -0.190321 -1.175575  0.647376   \n4 -0.270533  0.817739  ... -0.009431  0.798278 -0.137458  0.141267 -0.206010   \n\n        V26       V27       V28  Amount  Class  \n0 -0.189115  0.133558 -0.021053  149.62      0  \n1  0.125895 -0.008983  0.014724    2.69      0  \n2 -0.139097 -0.055353 -0.059752  378.66      0  \n3 -0.221929  0.062723  0.061458  123.50      0  \n4  0.502292  0.219422  0.215153   69.99      0  \n\n[5 rows x 31 columns]",
            "text/html": "<div>\n<style scoped>\n    .dataframe tbody tr th:only-of-type {\n        vertical-align: middle;\n    }\n\n    .dataframe tbody tr th {\n        vertical-align: top;\n    }\n\n    .dataframe thead th {\n        text-align: right;\n    }\n</style>\n<table border=\"1\" class=\"dataframe\">\n  <thead>\n    <tr style=\"text-align: right;\">\n      <th></th>\n      <th>Time</th>\n      <th>V1</th>\n      <th>V2</th>\n      <th>V3</th>\n      <th>V4</th>\n      <th>V5</th>\n      <th>V6</th>\n      <th>V7</th>\n      <th>V8</th>\n      <th>V9</th>\n      <th>...</th>\n      <th>V21</th>\n      <th>V22</th>\n      <th>V23</th>\n      <th>V24</th>\n      <th>V25</th>\n      <th>V26</th>\n      <th>V27</th>\n      <th>V28</th>\n      <th>Amount</th>\n      <th>Class</th>\n    </tr>\n  </thead>\n  <tbody>\n    <tr>\n      <th>0</th>\n      <td>0.0</td>\n      <td>-1.359807</td>\n      <td>-0.072781</td>\n      <td>2.536347</td>\n      <td>1.378155</td>\n      <td>-0.338321</td>\n      <td>0.462388</td>\n      <td>0.239599</td>\n      <td>0.098698</td>\n      <td>0.363787</td>\n      <td>...</td>\n      <td>-0.018307</td>\n      <td>0.277838</td>\n      <td>-0.110474</td>\n      <td>0.066928</td>\n      <td>0.128539</td>\n      <td>-0.189115</td>\n      <td>0.133558</td>\n      <td>-0.021053</td>\n      <td>149.62</td>\n      <td>0</td>\n    </tr>\n    <tr>\n      <th>1</th>\n      <td>0.0</td>\n      <td>1.191857</td>\n      <td>0.266151</td>\n      <td>0.166480</td>\n      <td>0.448154</td>\n      <td>0.060018</td>\n      <td>-0.082361</td>\n      <td>-0.078803</td>\n      <td>0.085102</td>\n      <td>-0.255425</td>\n      <td>...</td>\n      <td>-0.225775</td>\n      <td>-0.638672</td>\n      <td>0.101288</td>\n      <td>-0.339846</td>\n      <td>0.167170</td>\n      <td>0.125895</td>\n      <td>-0.008983</td>\n      <td>0.014724</td>\n      <td>2.69</td>\n      <td>0</td>\n    </tr>\n    <tr>\n      <th>2</th>\n      <td>1.0</td>\n      <td>-1.358354</td>\n      <td>-1.340163</td>\n      <td>1.773209</td>\n      <td>0.379780</td>\n      <td>-0.503198</td>\n      <td>1.800499</td>\n      <td>0.791461</td>\n      <td>0.247676</td>\n      <td>-1.514654</td>\n      <td>...</td>\n      <td>0.247998</td>\n      <td>0.771679</td>\n      <td>0.909412</td>\n      <td>-0.689281</td>\n      <td>-0.327642</td>\n      <td>-0.139097</td>\n      <td>-0.055353</td>\n      <td>-0.059752</td>\n      <td>378.66</td>\n      <td>0</td>\n    </tr>\n    <tr>\n      <th>3</th>\n      <td>1.0</td>\n      <td>-0.966272</td>\n      <td>-0.185226</td>\n      <td>1.792993</td>\n      <td>-0.863291</td>\n      <td>-0.010309</td>\n      <td>1.247203</td>\n      <td>0.237609</td>\n      <td>0.377436</td>\n      <td>-1.387024</td>\n      <td>...</td>\n      <td>-0.108300</td>\n      <td>0.005274</td>\n      <td>-0.190321</td>\n      <td>-1.175575</td>\n      <td>0.647376</td>\n      <td>-0.221929</td>\n      <td>0.062723</td>\n      <td>0.061458</td>\n      <td>123.50</td>\n      <td>0</td>\n    </tr>\n    <tr>\n      <th>4</th>\n      <td>2.0</td>\n      <td>-1.158233</td>\n      <td>0.877737</td>\n      <td>1.548718</td>\n      <td>0.403034</td>\n      <td>-0.407193</td>\n      <td>0.095921</td>\n      <td>0.592941</td>\n      <td>-0.270533</td>\n      <td>0.817739</td>\n      <td>...</td>\n      <td>-0.009431</td>\n      <td>0.798278</td>\n      <td>-0.137458</td>\n      <td>0.141267</td>\n      <td>-0.206010</td>\n      <td>0.502292</td>\n      <td>0.219422</td>\n      <td>0.215153</td>\n      <td>69.99</td>\n      <td>0</td>\n    </tr>\n  </tbody>\n</table>\n<p>5 rows × 31 columns</p>\n</div>"
          },
          "metadata": {}
        }
      ],
      "execution_count": 4,
      "metadata": {
        "gather": {
          "logged": 1642701963489
        }
      },
      "id": "2c0a79e7"
    },
    {
      "cell_type": "code",
      "source": [
        "#Info about the dataset\n",
        "credit_card_data.info()"
      ],
      "outputs": [
        {
          "output_type": "stream",
          "name": "stdout",
          "text": "<class 'pandas.core.frame.DataFrame'>\nRangeIndex: 284807 entries, 0 to 284806\nData columns (total 31 columns):\nTime      284807 non-null float64\nV1        284807 non-null float64\nV2        284807 non-null float64\nV3        284807 non-null float64\nV4        284807 non-null float64\nV5        284807 non-null float64\nV6        284807 non-null float64\nV7        284807 non-null float64\nV8        284807 non-null float64\nV9        284807 non-null float64\nV10       284807 non-null float64\nV11       284807 non-null float64\nV12       284807 non-null float64\nV13       284807 non-null float64\nV14       284807 non-null float64\nV15       284807 non-null float64\nV16       284807 non-null float64\nV17       284807 non-null float64\nV18       284807 non-null float64\nV19       284807 non-null float64\nV20       284807 non-null float64\nV21       284807 non-null float64\nV22       284807 non-null float64\nV23       284807 non-null float64\nV24       284807 non-null float64\nV25       284807 non-null float64\nV26       284807 non-null float64\nV27       284807 non-null float64\nV28       284807 non-null float64\nAmount    284807 non-null float64\nClass     284807 non-null int64\ndtypes: float64(30), int64(1)\nmemory usage: 67.4 MB\n"
        }
      ],
      "execution_count": 5,
      "metadata": {
        "gather": {
          "logged": 1642701965565
        }
      },
      "id": "16a9c844"
    },
    {
      "cell_type": "code",
      "source": [
        "#Checking the no. of missing values in each columns\n",
        "credit_card_data.isnull().sum()"
      ],
      "outputs": [
        {
          "output_type": "execute_result",
          "execution_count": 6,
          "data": {
            "text/plain": "Time      0\nV1        0\nV2        0\nV3        0\nV4        0\nV5        0\nV6        0\nV7        0\nV8        0\nV9        0\nV10       0\nV11       0\nV12       0\nV13       0\nV14       0\nV15       0\nV16       0\nV17       0\nV18       0\nV19       0\nV20       0\nV21       0\nV22       0\nV23       0\nV24       0\nV25       0\nV26       0\nV27       0\nV28       0\nAmount    0\nClass     0\ndtype: int64"
          },
          "metadata": {}
        }
      ],
      "execution_count": 6,
      "metadata": {
        "gather": {
          "logged": 1642701967640
        }
      },
      "id": "7a99ba01"
    },
    {
      "cell_type": "code",
      "source": [
        "#Checking the distiribution of legit and fraudulent transactions\n",
        "credit_card_data[\"Class\"].value_counts()"
      ],
      "outputs": [
        {
          "output_type": "execute_result",
          "execution_count": 7,
          "data": {
            "text/plain": "0    284315\n1       492\nName: Class, dtype: int64"
          },
          "metadata": {}
        }
      ],
      "execution_count": 7,
      "metadata": {
        "gather": {
          "logged": 1642701970970
        }
      },
      "id": "ee12fee1"
    },
    {
      "cell_type": "raw",
      "source": [],
      "metadata": {},
      "id": "fd03afd7"
    },
    {
      "cell_type": "markdown",
      "source": [
        "**This dataset is highly unbalanced\r\n",
        "\r\n",
        "0 => Normal Transactions\r\n",
        "\r\n",
        "1=> Fraudulent Transcations**"
      ],
      "metadata": {
        "nteract": {
          "transient": {
            "deleting": false
          }
        }
      },
      "id": "389a2afc-3bd3-44d3-b9f0-328b537e55da"
    },
    {
      "cell_type": "code",
      "source": [
        "#Seperating the data for analysis\n",
        "legit = credit_card_data[credit_card_data.Class==0]\n",
        "fraud = credit_card_data[credit_card_data.Class==1]"
      ],
      "outputs": [],
      "execution_count": 8,
      "metadata": {
        "gather": {
          "logged": 1642701973249
        }
      },
      "id": "2d8c095f"
    },
    {
      "cell_type": "code",
      "source": [
        "print(legit.shape)\n",
        "print(fraud.shape)"
      ],
      "outputs": [
        {
          "output_type": "stream",
          "name": "stdout",
          "text": "(284315, 31)\n(492, 31)\n"
        }
      ],
      "execution_count": 9,
      "metadata": {
        "gather": {
          "logged": 1642701975059
        }
      },
      "id": "48f35dd4"
    },
    {
      "cell_type": "code",
      "source": [
        "#Statistical measures of the data\n",
        "legit.Amount.describe()"
      ],
      "outputs": [
        {
          "output_type": "execute_result",
          "execution_count": 10,
          "data": {
            "text/plain": "count    284315.000000\nmean         88.291022\nstd         250.105092\nmin           0.000000\n25%           5.650000\n50%          22.000000\n75%          77.050000\nmax       25691.160000\nName: Amount, dtype: float64"
          },
          "metadata": {}
        }
      ],
      "execution_count": 10,
      "metadata": {
        "gather": {
          "logged": 1642701976733
        }
      },
      "id": "504246db"
    },
    {
      "cell_type": "code",
      "source": [
        "fraud.Amount.describe()"
      ],
      "outputs": [
        {
          "output_type": "execute_result",
          "execution_count": 11,
          "data": {
            "text/plain": "count     492.000000\nmean      122.211321\nstd       256.683288\nmin         0.000000\n25%         1.000000\n50%         9.250000\n75%       105.890000\nmax      2125.870000\nName: Amount, dtype: float64"
          },
          "metadata": {}
        }
      ],
      "execution_count": 11,
      "metadata": {
        "gather": {
          "logged": 1642701978611
        }
      },
      "id": "9cf1b025"
    },
    {
      "cell_type": "code",
      "source": [
        "#Compare the vlaues for both tansactions\n",
        "credit_card_data.groupby(\"Class\").mean()"
      ],
      "outputs": [
        {
          "output_type": "execute_result",
          "execution_count": 12,
          "data": {
            "text/plain": "               Time        V1        V2        V3        V4        V5  \\\nClass                                                                   \n0      94838.202258  0.008258 -0.006271  0.012171 -0.007860  0.005453   \n1      80746.806911 -4.771948  3.623778 -7.033281  4.542029 -3.151225   \n\n             V6        V7        V8        V9  ...       V20       V21  \\\nClass                                          ...                       \n0      0.002419  0.009637 -0.000987  0.004467  ... -0.000644 -0.001235   \n1     -1.397737 -5.568731  0.570636 -2.581123  ...  0.372319  0.713588   \n\n            V22       V23       V24       V25       V26       V27       V28  \\\nClass                                                                         \n0     -0.000024  0.000070  0.000182 -0.000072 -0.000089 -0.000295 -0.000131   \n1      0.014049 -0.040308 -0.105130  0.041449  0.051648  0.170575  0.075667   \n\n           Amount  \nClass              \n0       88.291022  \n1      122.211321  \n\n[2 rows x 30 columns]",
            "text/html": "<div>\n<style scoped>\n    .dataframe tbody tr th:only-of-type {\n        vertical-align: middle;\n    }\n\n    .dataframe tbody tr th {\n        vertical-align: top;\n    }\n\n    .dataframe thead th {\n        text-align: right;\n    }\n</style>\n<table border=\"1\" class=\"dataframe\">\n  <thead>\n    <tr style=\"text-align: right;\">\n      <th></th>\n      <th>Time</th>\n      <th>V1</th>\n      <th>V2</th>\n      <th>V3</th>\n      <th>V4</th>\n      <th>V5</th>\n      <th>V6</th>\n      <th>V7</th>\n      <th>V8</th>\n      <th>V9</th>\n      <th>...</th>\n      <th>V20</th>\n      <th>V21</th>\n      <th>V22</th>\n      <th>V23</th>\n      <th>V24</th>\n      <th>V25</th>\n      <th>V26</th>\n      <th>V27</th>\n      <th>V28</th>\n      <th>Amount</th>\n    </tr>\n    <tr>\n      <th>Class</th>\n      <th></th>\n      <th></th>\n      <th></th>\n      <th></th>\n      <th></th>\n      <th></th>\n      <th></th>\n      <th></th>\n      <th></th>\n      <th></th>\n      <th></th>\n      <th></th>\n      <th></th>\n      <th></th>\n      <th></th>\n      <th></th>\n      <th></th>\n      <th></th>\n      <th></th>\n      <th></th>\n      <th></th>\n    </tr>\n  </thead>\n  <tbody>\n    <tr>\n      <th>0</th>\n      <td>94838.202258</td>\n      <td>0.008258</td>\n      <td>-0.006271</td>\n      <td>0.012171</td>\n      <td>-0.007860</td>\n      <td>0.005453</td>\n      <td>0.002419</td>\n      <td>0.009637</td>\n      <td>-0.000987</td>\n      <td>0.004467</td>\n      <td>...</td>\n      <td>-0.000644</td>\n      <td>-0.001235</td>\n      <td>-0.000024</td>\n      <td>0.000070</td>\n      <td>0.000182</td>\n      <td>-0.000072</td>\n      <td>-0.000089</td>\n      <td>-0.000295</td>\n      <td>-0.000131</td>\n      <td>88.291022</td>\n    </tr>\n    <tr>\n      <th>1</th>\n      <td>80746.806911</td>\n      <td>-4.771948</td>\n      <td>3.623778</td>\n      <td>-7.033281</td>\n      <td>4.542029</td>\n      <td>-3.151225</td>\n      <td>-1.397737</td>\n      <td>-5.568731</td>\n      <td>0.570636</td>\n      <td>-2.581123</td>\n      <td>...</td>\n      <td>0.372319</td>\n      <td>0.713588</td>\n      <td>0.014049</td>\n      <td>-0.040308</td>\n      <td>-0.105130</td>\n      <td>0.041449</td>\n      <td>0.051648</td>\n      <td>0.170575</td>\n      <td>0.075667</td>\n      <td>122.211321</td>\n    </tr>\n  </tbody>\n</table>\n<p>2 rows × 30 columns</p>\n</div>"
          },
          "metadata": {}
        }
      ],
      "execution_count": 12,
      "metadata": {
        "gather": {
          "logged": 1642701980489
        }
      },
      "id": "3286293e"
    },
    {
      "cell_type": "raw",
      "source": [
        "Under-Sampling Method:\n",
        "\n",
        "Build a sample containing similar distribution of normal transactions and fraudulent transactions\n",
        "\n",
        "No. of fraudulent transactions => 492"
      ],
      "metadata": {},
      "id": "e54b410e"
    },
    {
      "cell_type": "code",
      "source": [
        "legit_sample = legit.sample(n=492)\n",
        "legit_sample"
      ],
      "outputs": [
        {
          "output_type": "execute_result",
          "execution_count": 13,
          "data": {
            "text/plain": "            Time        V1        V2        V3        V4        V5        V6  \\\n53610    46072.0  1.156220  0.194999  0.364930  0.583928 -0.308345 -0.416604   \n91713    63595.0  1.245674  0.166975  0.488306  0.635322 -0.562777 -1.011073   \n9424     13869.0  1.034913 -0.220800  1.445937  1.067299 -0.855386  0.489859   \n74211    55471.0 -0.598879  0.985480 -0.126184 -1.240506  2.401570  3.527533   \n240746  150731.0  1.275429 -1.701347 -3.229386 -0.561080  2.022496  3.304602   \n...          ...       ...       ...       ...       ...       ...       ...   \n91970    63711.0 -0.115339 -0.544470  1.900428 -1.915342 -1.281465  0.281873   \n76341    56521.0  0.965416 -0.511037  1.215316  0.745256 -0.617781  1.500911   \n25781    33763.0 -0.299301  0.009072  1.010398 -2.020044  0.528802 -0.442317   \n226777  144799.0  2.042562 -0.083512 -1.366869  0.169494  0.167931 -0.737410   \n258738  158793.0 -0.526224  0.703936  0.984958 -0.887876  0.350315 -0.274548   \n\n              V7        V8        V9  ...       V21       V22       V23  \\\n53610  -0.153435  0.121860 -0.103941  ... -0.205932 -0.641594  0.183113   \n91713   0.014953 -0.160211  0.170362  ... -0.262581 -0.816264  0.140304   \n9424   -0.859498  0.259974  2.227795  ... -0.155710  0.002047  0.129711   \n74211  -0.158224  0.155543 -0.453572  ...  0.480494 -1.164211  0.052249   \n240746  0.087475  0.608151  0.211957  ...  0.457165  0.385004 -0.275776   \n...          ...       ...       ...  ...       ...       ...       ...   \n91970  -0.859227  0.071587 -1.574438  ... -0.204746 -0.053434 -0.160547   \n76341  -1.084462  0.763349  1.189166  ...  0.028143  0.322667  0.220823   \n25781   0.601823 -0.193932 -1.635754  ...  0.310641  0.876911 -0.389318   \n226777  0.082419 -0.195797  0.395743  ...  0.295288  0.996439 -0.046098   \n258738  0.634969  0.099167  0.320135  ... -0.191243 -0.631278  0.029783   \n\n             V24       V25       V26       V27       V28  Amount  Class  \n53610   0.158497  0.054791  0.097237 -0.016128  0.017208    1.29      0  \n91713   0.357827  0.186423  0.096544 -0.035866  0.018495    8.99      0  \n9424    0.063100  0.022136  0.316166  0.018146  0.020191   28.93      0  \n74211   0.968973 -0.017450  0.092729  0.302860  0.121837    0.99      0  \n240746  0.798240 -0.058068  0.763898 -0.148800 -0.005147  417.00      0  \n...          ...       ...       ...       ...       ...     ...    ...  \n91970  -0.442585 -0.057388 -0.197823 -0.022131  0.031871   24.56      0  \n76341  -0.641547 -0.171418  0.431120  0.075350  0.012096   11.50      0  \n25781  -0.271350  0.511619 -0.192328 -0.196310 -0.247240   12.95      0  \n226777 -0.356959  0.253081 -0.095809 -0.017076 -0.071631    1.00      0  \n258738  0.518420 -0.284589 -0.305577  0.108966  0.173107   50.00      0  \n\n[492 rows x 31 columns]",
            "text/html": "<div>\n<style scoped>\n    .dataframe tbody tr th:only-of-type {\n        vertical-align: middle;\n    }\n\n    .dataframe tbody tr th {\n        vertical-align: top;\n    }\n\n    .dataframe thead th {\n        text-align: right;\n    }\n</style>\n<table border=\"1\" class=\"dataframe\">\n  <thead>\n    <tr style=\"text-align: right;\">\n      <th></th>\n      <th>Time</th>\n      <th>V1</th>\n      <th>V2</th>\n      <th>V3</th>\n      <th>V4</th>\n      <th>V5</th>\n      <th>V6</th>\n      <th>V7</th>\n      <th>V8</th>\n      <th>V9</th>\n      <th>...</th>\n      <th>V21</th>\n      <th>V22</th>\n      <th>V23</th>\n      <th>V24</th>\n      <th>V25</th>\n      <th>V26</th>\n      <th>V27</th>\n      <th>V28</th>\n      <th>Amount</th>\n      <th>Class</th>\n    </tr>\n  </thead>\n  <tbody>\n    <tr>\n      <th>53610</th>\n      <td>46072.0</td>\n      <td>1.156220</td>\n      <td>0.194999</td>\n      <td>0.364930</td>\n      <td>0.583928</td>\n      <td>-0.308345</td>\n      <td>-0.416604</td>\n      <td>-0.153435</td>\n      <td>0.121860</td>\n      <td>-0.103941</td>\n      <td>...</td>\n      <td>-0.205932</td>\n      <td>-0.641594</td>\n      <td>0.183113</td>\n      <td>0.158497</td>\n      <td>0.054791</td>\n      <td>0.097237</td>\n      <td>-0.016128</td>\n      <td>0.017208</td>\n      <td>1.29</td>\n      <td>0</td>\n    </tr>\n    <tr>\n      <th>91713</th>\n      <td>63595.0</td>\n      <td>1.245674</td>\n      <td>0.166975</td>\n      <td>0.488306</td>\n      <td>0.635322</td>\n      <td>-0.562777</td>\n      <td>-1.011073</td>\n      <td>0.014953</td>\n      <td>-0.160211</td>\n      <td>0.170362</td>\n      <td>...</td>\n      <td>-0.262581</td>\n      <td>-0.816264</td>\n      <td>0.140304</td>\n      <td>0.357827</td>\n      <td>0.186423</td>\n      <td>0.096544</td>\n      <td>-0.035866</td>\n      <td>0.018495</td>\n      <td>8.99</td>\n      <td>0</td>\n    </tr>\n    <tr>\n      <th>9424</th>\n      <td>13869.0</td>\n      <td>1.034913</td>\n      <td>-0.220800</td>\n      <td>1.445937</td>\n      <td>1.067299</td>\n      <td>-0.855386</td>\n      <td>0.489859</td>\n      <td>-0.859498</td>\n      <td>0.259974</td>\n      <td>2.227795</td>\n      <td>...</td>\n      <td>-0.155710</td>\n      <td>0.002047</td>\n      <td>0.129711</td>\n      <td>0.063100</td>\n      <td>0.022136</td>\n      <td>0.316166</td>\n      <td>0.018146</td>\n      <td>0.020191</td>\n      <td>28.93</td>\n      <td>0</td>\n    </tr>\n    <tr>\n      <th>74211</th>\n      <td>55471.0</td>\n      <td>-0.598879</td>\n      <td>0.985480</td>\n      <td>-0.126184</td>\n      <td>-1.240506</td>\n      <td>2.401570</td>\n      <td>3.527533</td>\n      <td>-0.158224</td>\n      <td>0.155543</td>\n      <td>-0.453572</td>\n      <td>...</td>\n      <td>0.480494</td>\n      <td>-1.164211</td>\n      <td>0.052249</td>\n      <td>0.968973</td>\n      <td>-0.017450</td>\n      <td>0.092729</td>\n      <td>0.302860</td>\n      <td>0.121837</td>\n      <td>0.99</td>\n      <td>0</td>\n    </tr>\n    <tr>\n      <th>240746</th>\n      <td>150731.0</td>\n      <td>1.275429</td>\n      <td>-1.701347</td>\n      <td>-3.229386</td>\n      <td>-0.561080</td>\n      <td>2.022496</td>\n      <td>3.304602</td>\n      <td>0.087475</td>\n      <td>0.608151</td>\n      <td>0.211957</td>\n      <td>...</td>\n      <td>0.457165</td>\n      <td>0.385004</td>\n      <td>-0.275776</td>\n      <td>0.798240</td>\n      <td>-0.058068</td>\n      <td>0.763898</td>\n      <td>-0.148800</td>\n      <td>-0.005147</td>\n      <td>417.00</td>\n      <td>0</td>\n    </tr>\n    <tr>\n      <th>...</th>\n      <td>...</td>\n      <td>...</td>\n      <td>...</td>\n      <td>...</td>\n      <td>...</td>\n      <td>...</td>\n      <td>...</td>\n      <td>...</td>\n      <td>...</td>\n      <td>...</td>\n      <td>...</td>\n      <td>...</td>\n      <td>...</td>\n      <td>...</td>\n      <td>...</td>\n      <td>...</td>\n      <td>...</td>\n      <td>...</td>\n      <td>...</td>\n      <td>...</td>\n      <td>...</td>\n    </tr>\n    <tr>\n      <th>91970</th>\n      <td>63711.0</td>\n      <td>-0.115339</td>\n      <td>-0.544470</td>\n      <td>1.900428</td>\n      <td>-1.915342</td>\n      <td>-1.281465</td>\n      <td>0.281873</td>\n      <td>-0.859227</td>\n      <td>0.071587</td>\n      <td>-1.574438</td>\n      <td>...</td>\n      <td>-0.204746</td>\n      <td>-0.053434</td>\n      <td>-0.160547</td>\n      <td>-0.442585</td>\n      <td>-0.057388</td>\n      <td>-0.197823</td>\n      <td>-0.022131</td>\n      <td>0.031871</td>\n      <td>24.56</td>\n      <td>0</td>\n    </tr>\n    <tr>\n      <th>76341</th>\n      <td>56521.0</td>\n      <td>0.965416</td>\n      <td>-0.511037</td>\n      <td>1.215316</td>\n      <td>0.745256</td>\n      <td>-0.617781</td>\n      <td>1.500911</td>\n      <td>-1.084462</td>\n      <td>0.763349</td>\n      <td>1.189166</td>\n      <td>...</td>\n      <td>0.028143</td>\n      <td>0.322667</td>\n      <td>0.220823</td>\n      <td>-0.641547</td>\n      <td>-0.171418</td>\n      <td>0.431120</td>\n      <td>0.075350</td>\n      <td>0.012096</td>\n      <td>11.50</td>\n      <td>0</td>\n    </tr>\n    <tr>\n      <th>25781</th>\n      <td>33763.0</td>\n      <td>-0.299301</td>\n      <td>0.009072</td>\n      <td>1.010398</td>\n      <td>-2.020044</td>\n      <td>0.528802</td>\n      <td>-0.442317</td>\n      <td>0.601823</td>\n      <td>-0.193932</td>\n      <td>-1.635754</td>\n      <td>...</td>\n      <td>0.310641</td>\n      <td>0.876911</td>\n      <td>-0.389318</td>\n      <td>-0.271350</td>\n      <td>0.511619</td>\n      <td>-0.192328</td>\n      <td>-0.196310</td>\n      <td>-0.247240</td>\n      <td>12.95</td>\n      <td>0</td>\n    </tr>\n    <tr>\n      <th>226777</th>\n      <td>144799.0</td>\n      <td>2.042562</td>\n      <td>-0.083512</td>\n      <td>-1.366869</td>\n      <td>0.169494</td>\n      <td>0.167931</td>\n      <td>-0.737410</td>\n      <td>0.082419</td>\n      <td>-0.195797</td>\n      <td>0.395743</td>\n      <td>...</td>\n      <td>0.295288</td>\n      <td>0.996439</td>\n      <td>-0.046098</td>\n      <td>-0.356959</td>\n      <td>0.253081</td>\n      <td>-0.095809</td>\n      <td>-0.017076</td>\n      <td>-0.071631</td>\n      <td>1.00</td>\n      <td>0</td>\n    </tr>\n    <tr>\n      <th>258738</th>\n      <td>158793.0</td>\n      <td>-0.526224</td>\n      <td>0.703936</td>\n      <td>0.984958</td>\n      <td>-0.887876</td>\n      <td>0.350315</td>\n      <td>-0.274548</td>\n      <td>0.634969</td>\n      <td>0.099167</td>\n      <td>0.320135</td>\n      <td>...</td>\n      <td>-0.191243</td>\n      <td>-0.631278</td>\n      <td>0.029783</td>\n      <td>0.518420</td>\n      <td>-0.284589</td>\n      <td>-0.305577</td>\n      <td>0.108966</td>\n      <td>0.173107</td>\n      <td>50.00</td>\n      <td>0</td>\n    </tr>\n  </tbody>\n</table>\n<p>492 rows × 31 columns</p>\n</div>"
          },
          "metadata": {}
        }
      ],
      "execution_count": 13,
      "metadata": {
        "gather": {
          "logged": 1642701982369
        }
      },
      "id": "758f6967"
    },
    {
      "cell_type": "raw",
      "source": [
        "Concatinating two DataFrames"
      ],
      "metadata": {},
      "id": "27d7e877"
    },
    {
      "cell_type": "code",
      "source": [
        "new_dataset = pd.concat([legit_sample, fraud], axis = 0)"
      ],
      "outputs": [],
      "execution_count": 14,
      "metadata": {
        "gather": {
          "logged": 1642701984121
        }
      },
      "id": "29825ad2"
    },
    {
      "cell_type": "code",
      "source": [
        "new_dataset.head()"
      ],
      "outputs": [
        {
          "output_type": "execute_result",
          "execution_count": 15,
          "data": {
            "text/plain": "            Time        V1        V2        V3        V4        V5        V6  \\\n53610    46072.0  1.156220  0.194999  0.364930  0.583928 -0.308345 -0.416604   \n91713    63595.0  1.245674  0.166975  0.488306  0.635322 -0.562777 -1.011073   \n9424     13869.0  1.034913 -0.220800  1.445937  1.067299 -0.855386  0.489859   \n74211    55471.0 -0.598879  0.985480 -0.126184 -1.240506  2.401570  3.527533   \n240746  150731.0  1.275429 -1.701347 -3.229386 -0.561080  2.022496  3.304602   \n\n              V7        V8        V9  ...       V21       V22       V23  \\\n53610  -0.153435  0.121860 -0.103941  ... -0.205932 -0.641594  0.183113   \n91713   0.014953 -0.160211  0.170362  ... -0.262581 -0.816264  0.140304   \n9424   -0.859498  0.259974  2.227795  ... -0.155710  0.002047  0.129711   \n74211  -0.158224  0.155543 -0.453572  ...  0.480494 -1.164211  0.052249   \n240746  0.087475  0.608151  0.211957  ...  0.457165  0.385004 -0.275776   \n\n             V24       V25       V26       V27       V28  Amount  Class  \n53610   0.158497  0.054791  0.097237 -0.016128  0.017208    1.29      0  \n91713   0.357827  0.186423  0.096544 -0.035866  0.018495    8.99      0  \n9424    0.063100  0.022136  0.316166  0.018146  0.020191   28.93      0  \n74211   0.968973 -0.017450  0.092729  0.302860  0.121837    0.99      0  \n240746  0.798240 -0.058068  0.763898 -0.148800 -0.005147  417.00      0  \n\n[5 rows x 31 columns]",
            "text/html": "<div>\n<style scoped>\n    .dataframe tbody tr th:only-of-type {\n        vertical-align: middle;\n    }\n\n    .dataframe tbody tr th {\n        vertical-align: top;\n    }\n\n    .dataframe thead th {\n        text-align: right;\n    }\n</style>\n<table border=\"1\" class=\"dataframe\">\n  <thead>\n    <tr style=\"text-align: right;\">\n      <th></th>\n      <th>Time</th>\n      <th>V1</th>\n      <th>V2</th>\n      <th>V3</th>\n      <th>V4</th>\n      <th>V5</th>\n      <th>V6</th>\n      <th>V7</th>\n      <th>V8</th>\n      <th>V9</th>\n      <th>...</th>\n      <th>V21</th>\n      <th>V22</th>\n      <th>V23</th>\n      <th>V24</th>\n      <th>V25</th>\n      <th>V26</th>\n      <th>V27</th>\n      <th>V28</th>\n      <th>Amount</th>\n      <th>Class</th>\n    </tr>\n  </thead>\n  <tbody>\n    <tr>\n      <th>53610</th>\n      <td>46072.0</td>\n      <td>1.156220</td>\n      <td>0.194999</td>\n      <td>0.364930</td>\n      <td>0.583928</td>\n      <td>-0.308345</td>\n      <td>-0.416604</td>\n      <td>-0.153435</td>\n      <td>0.121860</td>\n      <td>-0.103941</td>\n      <td>...</td>\n      <td>-0.205932</td>\n      <td>-0.641594</td>\n      <td>0.183113</td>\n      <td>0.158497</td>\n      <td>0.054791</td>\n      <td>0.097237</td>\n      <td>-0.016128</td>\n      <td>0.017208</td>\n      <td>1.29</td>\n      <td>0</td>\n    </tr>\n    <tr>\n      <th>91713</th>\n      <td>63595.0</td>\n      <td>1.245674</td>\n      <td>0.166975</td>\n      <td>0.488306</td>\n      <td>0.635322</td>\n      <td>-0.562777</td>\n      <td>-1.011073</td>\n      <td>0.014953</td>\n      <td>-0.160211</td>\n      <td>0.170362</td>\n      <td>...</td>\n      <td>-0.262581</td>\n      <td>-0.816264</td>\n      <td>0.140304</td>\n      <td>0.357827</td>\n      <td>0.186423</td>\n      <td>0.096544</td>\n      <td>-0.035866</td>\n      <td>0.018495</td>\n      <td>8.99</td>\n      <td>0</td>\n    </tr>\n    <tr>\n      <th>9424</th>\n      <td>13869.0</td>\n      <td>1.034913</td>\n      <td>-0.220800</td>\n      <td>1.445937</td>\n      <td>1.067299</td>\n      <td>-0.855386</td>\n      <td>0.489859</td>\n      <td>-0.859498</td>\n      <td>0.259974</td>\n      <td>2.227795</td>\n      <td>...</td>\n      <td>-0.155710</td>\n      <td>0.002047</td>\n      <td>0.129711</td>\n      <td>0.063100</td>\n      <td>0.022136</td>\n      <td>0.316166</td>\n      <td>0.018146</td>\n      <td>0.020191</td>\n      <td>28.93</td>\n      <td>0</td>\n    </tr>\n    <tr>\n      <th>74211</th>\n      <td>55471.0</td>\n      <td>-0.598879</td>\n      <td>0.985480</td>\n      <td>-0.126184</td>\n      <td>-1.240506</td>\n      <td>2.401570</td>\n      <td>3.527533</td>\n      <td>-0.158224</td>\n      <td>0.155543</td>\n      <td>-0.453572</td>\n      <td>...</td>\n      <td>0.480494</td>\n      <td>-1.164211</td>\n      <td>0.052249</td>\n      <td>0.968973</td>\n      <td>-0.017450</td>\n      <td>0.092729</td>\n      <td>0.302860</td>\n      <td>0.121837</td>\n      <td>0.99</td>\n      <td>0</td>\n    </tr>\n    <tr>\n      <th>240746</th>\n      <td>150731.0</td>\n      <td>1.275429</td>\n      <td>-1.701347</td>\n      <td>-3.229386</td>\n      <td>-0.561080</td>\n      <td>2.022496</td>\n      <td>3.304602</td>\n      <td>0.087475</td>\n      <td>0.608151</td>\n      <td>0.211957</td>\n      <td>...</td>\n      <td>0.457165</td>\n      <td>0.385004</td>\n      <td>-0.275776</td>\n      <td>0.798240</td>\n      <td>-0.058068</td>\n      <td>0.763898</td>\n      <td>-0.148800</td>\n      <td>-0.005147</td>\n      <td>417.00</td>\n      <td>0</td>\n    </tr>\n  </tbody>\n</table>\n<p>5 rows × 31 columns</p>\n</div>"
          },
          "metadata": {}
        }
      ],
      "execution_count": 15,
      "metadata": {
        "gather": {
          "logged": 1642701986022
        }
      },
      "id": "faf9bae0"
    },
    {
      "cell_type": "code",
      "source": [
        "new_dataset.tail()"
      ],
      "outputs": [
        {
          "output_type": "execute_result",
          "execution_count": 16,
          "data": {
            "text/plain": "            Time        V1        V2        V3        V4        V5        V6  \\\n279863  169142.0 -1.927883  1.125653 -4.518331  1.749293 -1.566487 -2.010494   \n280143  169347.0  1.378559  1.289381 -5.004247  1.411850  0.442581 -1.326536   \n280149  169351.0 -0.676143  1.126366 -2.213700  0.468308 -1.120541 -0.003346   \n281144  169966.0 -3.113832  0.585864 -5.399730  1.817092 -0.840618 -2.943548   \n281674  170348.0  1.991976  0.158476 -2.583441  0.408670  1.151147 -0.096695   \n\n              V7        V8        V9  ...       V21       V22       V23  \\\n279863 -0.882850  0.697211 -2.064945  ...  0.778584 -0.319189  0.639419   \n280143 -1.413170  0.248525 -1.127396  ...  0.370612  0.028234 -0.145640   \n280149 -2.234739  1.210158 -0.652250  ...  0.751826  0.834108  0.190944   \n281144 -2.208002  1.058733 -1.632333  ...  0.583276 -0.269209 -0.456108   \n281674  0.223050 -0.068384  0.577829  ... -0.164350 -0.295135 -0.072173   \n\n             V24       V25       V26       V27       V28  Amount  Class  \n279863 -0.294885  0.537503  0.788395  0.292680  0.147968  390.00      1  \n280143 -0.081049  0.521875  0.739467  0.389152  0.186637    0.76      1  \n280149  0.032070 -0.739695  0.471111  0.385107  0.194361   77.89      1  \n281144 -0.183659 -0.328168  0.606116  0.884876 -0.253700  245.00      1  \n281674 -0.450261  0.313267 -0.289617  0.002988 -0.015309   42.53      1  \n\n[5 rows x 31 columns]",
            "text/html": "<div>\n<style scoped>\n    .dataframe tbody tr th:only-of-type {\n        vertical-align: middle;\n    }\n\n    .dataframe tbody tr th {\n        vertical-align: top;\n    }\n\n    .dataframe thead th {\n        text-align: right;\n    }\n</style>\n<table border=\"1\" class=\"dataframe\">\n  <thead>\n    <tr style=\"text-align: right;\">\n      <th></th>\n      <th>Time</th>\n      <th>V1</th>\n      <th>V2</th>\n      <th>V3</th>\n      <th>V4</th>\n      <th>V5</th>\n      <th>V6</th>\n      <th>V7</th>\n      <th>V8</th>\n      <th>V9</th>\n      <th>...</th>\n      <th>V21</th>\n      <th>V22</th>\n      <th>V23</th>\n      <th>V24</th>\n      <th>V25</th>\n      <th>V26</th>\n      <th>V27</th>\n      <th>V28</th>\n      <th>Amount</th>\n      <th>Class</th>\n    </tr>\n  </thead>\n  <tbody>\n    <tr>\n      <th>279863</th>\n      <td>169142.0</td>\n      <td>-1.927883</td>\n      <td>1.125653</td>\n      <td>-4.518331</td>\n      <td>1.749293</td>\n      <td>-1.566487</td>\n      <td>-2.010494</td>\n      <td>-0.882850</td>\n      <td>0.697211</td>\n      <td>-2.064945</td>\n      <td>...</td>\n      <td>0.778584</td>\n      <td>-0.319189</td>\n      <td>0.639419</td>\n      <td>-0.294885</td>\n      <td>0.537503</td>\n      <td>0.788395</td>\n      <td>0.292680</td>\n      <td>0.147968</td>\n      <td>390.00</td>\n      <td>1</td>\n    </tr>\n    <tr>\n      <th>280143</th>\n      <td>169347.0</td>\n      <td>1.378559</td>\n      <td>1.289381</td>\n      <td>-5.004247</td>\n      <td>1.411850</td>\n      <td>0.442581</td>\n      <td>-1.326536</td>\n      <td>-1.413170</td>\n      <td>0.248525</td>\n      <td>-1.127396</td>\n      <td>...</td>\n      <td>0.370612</td>\n      <td>0.028234</td>\n      <td>-0.145640</td>\n      <td>-0.081049</td>\n      <td>0.521875</td>\n      <td>0.739467</td>\n      <td>0.389152</td>\n      <td>0.186637</td>\n      <td>0.76</td>\n      <td>1</td>\n    </tr>\n    <tr>\n      <th>280149</th>\n      <td>169351.0</td>\n      <td>-0.676143</td>\n      <td>1.126366</td>\n      <td>-2.213700</td>\n      <td>0.468308</td>\n      <td>-1.120541</td>\n      <td>-0.003346</td>\n      <td>-2.234739</td>\n      <td>1.210158</td>\n      <td>-0.652250</td>\n      <td>...</td>\n      <td>0.751826</td>\n      <td>0.834108</td>\n      <td>0.190944</td>\n      <td>0.032070</td>\n      <td>-0.739695</td>\n      <td>0.471111</td>\n      <td>0.385107</td>\n      <td>0.194361</td>\n      <td>77.89</td>\n      <td>1</td>\n    </tr>\n    <tr>\n      <th>281144</th>\n      <td>169966.0</td>\n      <td>-3.113832</td>\n      <td>0.585864</td>\n      <td>-5.399730</td>\n      <td>1.817092</td>\n      <td>-0.840618</td>\n      <td>-2.943548</td>\n      <td>-2.208002</td>\n      <td>1.058733</td>\n      <td>-1.632333</td>\n      <td>...</td>\n      <td>0.583276</td>\n      <td>-0.269209</td>\n      <td>-0.456108</td>\n      <td>-0.183659</td>\n      <td>-0.328168</td>\n      <td>0.606116</td>\n      <td>0.884876</td>\n      <td>-0.253700</td>\n      <td>245.00</td>\n      <td>1</td>\n    </tr>\n    <tr>\n      <th>281674</th>\n      <td>170348.0</td>\n      <td>1.991976</td>\n      <td>0.158476</td>\n      <td>-2.583441</td>\n      <td>0.408670</td>\n      <td>1.151147</td>\n      <td>-0.096695</td>\n      <td>0.223050</td>\n      <td>-0.068384</td>\n      <td>0.577829</td>\n      <td>...</td>\n      <td>-0.164350</td>\n      <td>-0.295135</td>\n      <td>-0.072173</td>\n      <td>-0.450261</td>\n      <td>0.313267</td>\n      <td>-0.289617</td>\n      <td>0.002988</td>\n      <td>-0.015309</td>\n      <td>42.53</td>\n      <td>1</td>\n    </tr>\n  </tbody>\n</table>\n<p>5 rows × 31 columns</p>\n</div>"
          },
          "metadata": {}
        }
      ],
      "execution_count": 16,
      "metadata": {
        "gather": {
          "logged": 1642701987909
        }
      },
      "id": "a9b5a76c"
    },
    {
      "cell_type": "code",
      "source": [
        "new_dataset[\"Class\"].value_counts()"
      ],
      "outputs": [
        {
          "output_type": "execute_result",
          "execution_count": 17,
          "data": {
            "text/plain": "1    492\n0    492\nName: Class, dtype: int64"
          },
          "metadata": {}
        }
      ],
      "execution_count": 17,
      "metadata": {
        "gather": {
          "logged": 1642701989849
        }
      },
      "id": "8270546d"
    },
    {
      "cell_type": "code",
      "source": [
        "new_dataset.groupby(\"Class\").mean()"
      ],
      "outputs": [
        {
          "output_type": "execute_result",
          "execution_count": 18,
          "data": {
            "text/plain": "               Time        V1        V2        V3        V4        V5  \\\nClass                                                                   \n0      96779.691057  0.017658  0.107751 -0.029253  0.001924 -0.077603   \n1      80746.806911 -4.771948  3.623778 -7.033281  4.542029 -3.151225   \n\n             V6        V7        V8        V9  ...       V20       V21  \\\nClass                                          ...                       \n0     -0.023648 -0.024268 -0.021448 -0.021615  ... -0.001016 -0.030228   \n1     -1.397737 -5.568731  0.570636 -2.581123  ...  0.372319  0.713588   \n\n            V22       V23       V24       V25       V26       V27       V28  \\\nClass                                                                         \n0     -0.003444  0.005157  0.024496  0.010761  0.053355  0.003298  0.009018   \n1      0.014049 -0.040308 -0.105130  0.041449  0.051648  0.170575  0.075667   \n\n           Amount  \nClass              \n0       80.034004  \n1      122.211321  \n\n[2 rows x 30 columns]",
            "text/html": "<div>\n<style scoped>\n    .dataframe tbody tr th:only-of-type {\n        vertical-align: middle;\n    }\n\n    .dataframe tbody tr th {\n        vertical-align: top;\n    }\n\n    .dataframe thead th {\n        text-align: right;\n    }\n</style>\n<table border=\"1\" class=\"dataframe\">\n  <thead>\n    <tr style=\"text-align: right;\">\n      <th></th>\n      <th>Time</th>\n      <th>V1</th>\n      <th>V2</th>\n      <th>V3</th>\n      <th>V4</th>\n      <th>V5</th>\n      <th>V6</th>\n      <th>V7</th>\n      <th>V8</th>\n      <th>V9</th>\n      <th>...</th>\n      <th>V20</th>\n      <th>V21</th>\n      <th>V22</th>\n      <th>V23</th>\n      <th>V24</th>\n      <th>V25</th>\n      <th>V26</th>\n      <th>V27</th>\n      <th>V28</th>\n      <th>Amount</th>\n    </tr>\n    <tr>\n      <th>Class</th>\n      <th></th>\n      <th></th>\n      <th></th>\n      <th></th>\n      <th></th>\n      <th></th>\n      <th></th>\n      <th></th>\n      <th></th>\n      <th></th>\n      <th></th>\n      <th></th>\n      <th></th>\n      <th></th>\n      <th></th>\n      <th></th>\n      <th></th>\n      <th></th>\n      <th></th>\n      <th></th>\n      <th></th>\n    </tr>\n  </thead>\n  <tbody>\n    <tr>\n      <th>0</th>\n      <td>96779.691057</td>\n      <td>0.017658</td>\n      <td>0.107751</td>\n      <td>-0.029253</td>\n      <td>0.001924</td>\n      <td>-0.077603</td>\n      <td>-0.023648</td>\n      <td>-0.024268</td>\n      <td>-0.021448</td>\n      <td>-0.021615</td>\n      <td>...</td>\n      <td>-0.001016</td>\n      <td>-0.030228</td>\n      <td>-0.003444</td>\n      <td>0.005157</td>\n      <td>0.024496</td>\n      <td>0.010761</td>\n      <td>0.053355</td>\n      <td>0.003298</td>\n      <td>0.009018</td>\n      <td>80.034004</td>\n    </tr>\n    <tr>\n      <th>1</th>\n      <td>80746.806911</td>\n      <td>-4.771948</td>\n      <td>3.623778</td>\n      <td>-7.033281</td>\n      <td>4.542029</td>\n      <td>-3.151225</td>\n      <td>-1.397737</td>\n      <td>-5.568731</td>\n      <td>0.570636</td>\n      <td>-2.581123</td>\n      <td>...</td>\n      <td>0.372319</td>\n      <td>0.713588</td>\n      <td>0.014049</td>\n      <td>-0.040308</td>\n      <td>-0.105130</td>\n      <td>0.041449</td>\n      <td>0.051648</td>\n      <td>0.170575</td>\n      <td>0.075667</td>\n      <td>122.211321</td>\n    </tr>\n  </tbody>\n</table>\n<p>2 rows × 30 columns</p>\n</div>"
          },
          "metadata": {}
        }
      ],
      "execution_count": 18,
      "metadata": {
        "gather": {
          "logged": 1642701991751
        }
      },
      "id": "b57443d2"
    },
    {
      "cell_type": "code",
      "source": [
        "from azureml.core.workspace import Workspace\r\n",
        "ws = Workspace.from_config()"
      ],
      "outputs": [],
      "execution_count": 19,
      "metadata": {
        "jupyter": {
          "source_hidden": false,
          "outputs_hidden": false
        },
        "nteract": {
          "transient": {
            "deleting": false
          }
        },
        "gather": {
          "logged": 1642701996186
        }
      },
      "id": "2e64393b-017b-471c-b996-9a369edf1674"
    },
    {
      "cell_type": "markdown",
      "source": [
        "**Splitting the data into features and targets**"
      ],
      "metadata": {
        "nteract": {
          "transient": {
            "deleting": false
          }
        }
      },
      "id": "63329cea-a0b4-4a77-a8ca-0e6a8b2e8e73"
    },
    {
      "cell_type": "code",
      "source": [
        "X = new_dataset.drop(columns = 'Class', axis = 1)\r\n",
        "Y = new_dataset['Class']\r\n",
        "print(X)"
      ],
      "outputs": [
        {
          "output_type": "stream",
          "name": "stdout",
          "text": "            Time        V1        V2        V3        V4        V5        V6  \\\n53610    46072.0  1.156220  0.194999  0.364930  0.583928 -0.308345 -0.416604   \n91713    63595.0  1.245674  0.166975  0.488306  0.635322 -0.562777 -1.011073   \n9424     13869.0  1.034913 -0.220800  1.445937  1.067299 -0.855386  0.489859   \n74211    55471.0 -0.598879  0.985480 -0.126184 -1.240506  2.401570  3.527533   \n240746  150731.0  1.275429 -1.701347 -3.229386 -0.561080  2.022496  3.304602   \n...          ...       ...       ...       ...       ...       ...       ...   \n279863  169142.0 -1.927883  1.125653 -4.518331  1.749293 -1.566487 -2.010494   \n280143  169347.0  1.378559  1.289381 -5.004247  1.411850  0.442581 -1.326536   \n280149  169351.0 -0.676143  1.126366 -2.213700  0.468308 -1.120541 -0.003346   \n281144  169966.0 -3.113832  0.585864 -5.399730  1.817092 -0.840618 -2.943548   \n281674  170348.0  1.991976  0.158476 -2.583441  0.408670  1.151147 -0.096695   \n\n              V7        V8        V9  ...       V20       V21       V22  \\\n53610  -0.153435  0.121860 -0.103941  ... -0.168604 -0.205932 -0.641594   \n91713   0.014953 -0.160211  0.170362  ... -0.132080 -0.262581 -0.816264   \n9424   -0.859498  0.259974  2.227795  ... -0.197348 -0.155710  0.002047   \n74211  -0.158224  0.155543 -0.453572  ...  0.050277  0.480494 -1.164211   \n240746  0.087475  0.608151  0.211957  ...  0.711251  0.457165  0.385004   \n...          ...       ...       ...  ...       ...       ...       ...   \n279863 -0.882850  0.697211 -2.064945  ...  1.252967  0.778584 -0.319189   \n280143 -1.413170  0.248525 -1.127396  ...  0.226138  0.370612  0.028234   \n280149 -2.234739  1.210158 -0.652250  ...  0.247968  0.751826  0.834108   \n281144 -2.208002  1.058733 -1.632333  ...  0.306271  0.583276 -0.269209   \n281674  0.223050 -0.068384  0.577829  ... -0.017652 -0.164350 -0.295135   \n\n             V23       V24       V25       V26       V27       V28  Amount  \n53610   0.183113  0.158497  0.054791  0.097237 -0.016128  0.017208    1.29  \n91713   0.140304  0.357827  0.186423  0.096544 -0.035866  0.018495    8.99  \n9424    0.129711  0.063100  0.022136  0.316166  0.018146  0.020191   28.93  \n74211   0.052249  0.968973 -0.017450  0.092729  0.302860  0.121837    0.99  \n240746 -0.275776  0.798240 -0.058068  0.763898 -0.148800 -0.005147  417.00  \n...          ...       ...       ...       ...       ...       ...     ...  \n279863  0.639419 -0.294885  0.537503  0.788395  0.292680  0.147968  390.00  \n280143 -0.145640 -0.081049  0.521875  0.739467  0.389152  0.186637    0.76  \n280149  0.190944  0.032070 -0.739695  0.471111  0.385107  0.194361   77.89  \n281144 -0.456108 -0.183659 -0.328168  0.606116  0.884876 -0.253700  245.00  \n281674 -0.072173 -0.450261  0.313267 -0.289617  0.002988 -0.015309   42.53  \n\n[984 rows x 30 columns]\n"
        }
      ],
      "execution_count": 20,
      "metadata": {
        "jupyter": {
          "source_hidden": false,
          "outputs_hidden": false
        },
        "nteract": {
          "transient": {
            "deleting": false
          }
        },
        "gather": {
          "logged": 1642702001193
        }
      },
      "id": "b4194b04-21b6-478a-9b65-a0fff625aa24"
    },
    {
      "cell_type": "code",
      "source": [
        "print(Y)"
      ],
      "outputs": [
        {
          "output_type": "stream",
          "name": "stdout",
          "text": "53610     0\n91713     0\n9424      0\n74211     0\n240746    0\n         ..\n279863    1\n280143    1\n280149    1\n281144    1\n281674    1\nName: Class, Length: 984, dtype: int64\n"
        }
      ],
      "execution_count": 21,
      "metadata": {
        "jupyter": {
          "source_hidden": false,
          "outputs_hidden": false
        },
        "nteract": {
          "transient": {
            "deleting": false
          }
        },
        "gather": {
          "logged": 1642702004358
        }
      },
      "id": "066e0727-6d28-488d-92d3-0975b7ce04ef"
    },
    {
      "cell_type": "markdown",
      "source": [
        "**Splitting the data into training and test data**"
      ],
      "metadata": {
        "nteract": {
          "transient": {
            "deleting": false
          }
        }
      },
      "id": "403edd63-f557-435d-8b28-60607e8346cb"
    },
    {
      "cell_type": "code",
      "source": [
        "X_train, X_test, Y_train, Y_test = train_test_split(X, Y, test_size=0.2, stratify = Y, random_state =2)"
      ],
      "outputs": [],
      "execution_count": 22,
      "metadata": {
        "jupyter": {
          "source_hidden": false,
          "outputs_hidden": false
        },
        "nteract": {
          "transient": {
            "deleting": false
          }
        },
        "gather": {
          "logged": 1642702007547
        }
      },
      "id": "73e64a98-715a-42f7-996e-c1fb0a14420e"
    },
    {
      "cell_type": "code",
      "source": [
        "Y_train"
      ],
      "outputs": [
        {
          "output_type": "execute_result",
          "execution_count": 23,
          "data": {
            "text/plain": "100623    1\n176026    0\n254560    0\n276688    0\n189002    0\n         ..\n66861     0\n166797    0\n223618    1\n43061     1\n232841    0\nName: Class, Length: 787, dtype: int64"
          },
          "metadata": {}
        }
      ],
      "execution_count": 23,
      "metadata": {
        "jupyter": {
          "source_hidden": false,
          "outputs_hidden": false
        },
        "nteract": {
          "transient": {
            "deleting": false
          }
        },
        "gather": {
          "logged": 1642702010441
        }
      },
      "id": "bb74a857-46ea-42c1-9f2e-a21d601e0adb"
    },
    {
      "cell_type": "code",
      "source": [
        "print(X.shape, X_train.shape, X_test.shape)"
      ],
      "outputs": [
        {
          "output_type": "stream",
          "name": "stdout",
          "text": "(984, 30) (787, 30) (197, 30)\n"
        }
      ],
      "execution_count": 24,
      "metadata": {
        "jupyter": {
          "source_hidden": false,
          "outputs_hidden": false
        },
        "nteract": {
          "transient": {
            "deleting": false
          }
        },
        "gather": {
          "logged": 1642702013186
        }
      },
      "id": "999f2f41-b65b-49e4-abac-208f9efb5986"
    },
    {
      "cell_type": "code",
      "source": [
        "print(Y.shape, Y_train.shape, Y_test.shape)"
      ],
      "outputs": [
        {
          "output_type": "stream",
          "name": "stdout",
          "text": "(984,) (787,) (197,)\n"
        }
      ],
      "execution_count": 25,
      "metadata": {
        "jupyter": {
          "source_hidden": false,
          "outputs_hidden": false
        },
        "nteract": {
          "transient": {
            "deleting": false
          }
        },
        "gather": {
          "logged": 1642702016690
        }
      },
      "id": "892fae8b-b9db-4121-ab94-a2988d3c3eb7"
    },
    {
      "cell_type": "markdown",
      "source": [
        "**Configuring AutoML settings**"
      ],
      "metadata": {
        "nteract": {
          "transient": {
            "deleting": false
          }
        }
      },
      "id": "3b6f9aae-1bd1-404b-a655-bd39d83a8eef"
    },
    {
      "cell_type": "code",
      "source": [
        "import logging\r\n",
        "\r\n",
        "automl_settings = {\r\n",
        "    \"iteration_timeout_minutes\": 10,\r\n",
        "    \"experiment_timeout_hours\": 0.6,\r\n",
        "    \"enable_early_stopping\": False,\r\n",
        "    \"primary_metric\": 'AUC_weighted',\r\n",
        "    \"featurization\": 'auto',\r\n",
        "    \"verbosity\": logging.INFO,\r\n",
        "    \"n_cross_validations\": 5\r\n",
        "}"
      ],
      "outputs": [],
      "execution_count": 26,
      "metadata": {
        "jupyter": {
          "source_hidden": false,
          "outputs_hidden": false
        },
        "nteract": {
          "transient": {
            "deleting": false
          }
        },
        "gather": {
          "logged": 1642702020056
        }
      },
      "id": "fbd37828-bce2-4f6f-8777-f819ee4d1c9e"
    },
    {
      "cell_type": "code",
      "source": [
        "from azureml.train.automl import AutoMLConfig\r\n",
        "\r\n",
        "automl_config = AutoMLConfig(task='classification',\r\n",
        "                             X = X_train,\r\n",
        "                             y = Y_train,\r\n",
        "                             blocked_models=['SGD','MultinomialNaiveBayes','BernoulliNaiveBayes',\r\n",
        "                                                'SVM','KNN','AveragedPerceptionClassifier',\r\n",
        "                                                'DecissionTree','RandomForest','ExtremeRandomForest',\r\n",
        "                                                'LightGBM','GradientBoosting','XGBoostClassifier',\r\n",
        "                                                'LinearSVM'],\r\n",
        "                             **automl_settings)"
      ],
      "outputs": [
        {
          "output_type": "stream",
          "name": "stderr",
          "text": "WARNING:root:The AutoMLConfig parameters, X and y, will soon be deprecated. Please refer to our documentation for the latest interface: https://aka.ms/AutoMLConfig\n"
        }
      ],
      "execution_count": 27,
      "metadata": {
        "jupyter": {
          "source_hidden": false,
          "outputs_hidden": false
        },
        "nteract": {
          "transient": {
            "deleting": false
          }
        },
        "gather": {
          "logged": 1642702023556
        }
      },
      "id": "9bff54dc-8140-4788-923b-57c5a0cc4861"
    },
    {
      "cell_type": "markdown",
      "source": [
        "#Running the experiment"
      ],
      "metadata": {
        "nteract": {
          "transient": {
            "deleting": false
          }
        }
      },
      "id": "2fa1f3bd-6115-4d74-9232-a943f2d32517"
    },
    {
      "cell_type": "code",
      "source": [
        "from azureml.core.experiment import Experiment\r\n",
        "experiment = Experiment(ws, \"Credit-Card\")\r\n",
        "local_run = experiment.submit(automl_config, show_output=True)"
      ],
      "outputs": [
        {
          "output_type": "stream",
          "name": "stdout",
          "text": "No run_configuration provided, running on local with default configuration\nRunning in the active local environment.\n"
        },
        {
          "output_type": "display_data",
          "data": {
            "text/plain": "<IPython.core.display.HTML object>",
            "text/html": "<table style=\"width:100%\"><tr><th>Experiment</th><th>Id</th><th>Type</th><th>Status</th><th>Details Page</th><th>Docs Page</th></tr><tr><td>Credit-Card</td><td>AutoML_631207ea-e024-420c-a5e8-efbb263a4dc1</td><td>automl</td><td>Preparing</td><td><a href=\"https://ml.azure.com/runs/AutoML_631207ea-e024-420c-a5e8-efbb263a4dc1?wsid=/subscriptions/69cc5141-1354-47ab-a391-cc856720c792/resourcegroups/project/workspaces/credit_card_fraud_detection&amp;tid=ed2bf81e-0c4c-4531-bbc9-346cca81ab1e\" target=\"_blank\" rel=\"noopener\">Link to Azure Machine Learning studio</a></td><td><a href=\"https://docs.microsoft.com/en-us/python/api/overview/azure/ml/intro?view=azure-ml-py\" target=\"_blank\" rel=\"noopener\">Link to Documentation</a></td></tr></table>"
          },
          "metadata": {}
        },
        {
          "output_type": "stream",
          "name": "stdout",
          "text": "Current status: DatasetEvaluation. Gathering dataset statistics.\nCurrent status: FeaturesGeneration. Generating features for the dataset.\nCurrent status: DatasetFeaturization. Beginning to fit featurizers and featurize the dataset.\nCurrent status: DatasetFeaturizationCompleted. Completed fit featurizers and featurizing the dataset.\nCurrent status: DatasetCrossValidationSplit. Generating individually featurized CV splits.\n\n****************************************************************************************************\nDATA GUARDRAILS: \n\nTYPE:         Class balancing detection\nSTATUS:       PASSED\nDESCRIPTION:  Your inputs were analyzed, and all classes are balanced in your training data.\n              Learn more about imbalanced data: https://aka.ms/AutomatedMLImbalancedData\n\n****************************************************************************************************\n\nTYPE:         Missing feature values imputation\nSTATUS:       PASSED\nDESCRIPTION:  No feature missing values were detected in the training data.\n              Learn more about missing value imputation: https://aka.ms/AutomatedMLFeaturization\n\n****************************************************************************************************\n\nTYPE:         High cardinality feature detection\nSTATUS:       PASSED\nDESCRIPTION:  Your inputs were analyzed, and no high cardinality features were detected.\n              Learn more about high cardinality feature handling: https://aka.ms/AutomatedMLFeaturization\n\n****************************************************************************************************\nCurrent status: ModelSelection. Beginning model selection.\n\n****************************************************************************************************\nITERATION: The iteration being evaluated.\nPIPELINE: A summary description of the pipeline being evaluated.\nDURATION: Time taken for the current iteration.\nMETRIC: The result of computing score on the fitted pipeline.\nBEST: The best observed score thus far.\n****************************************************************************************************\n\n ITERATION   PIPELINE                                       DURATION      METRIC      BEST\n         0   MaxAbsScaler ExtremeRandomTrees                0:00:25       0.9720    0.9720\n         1   StandardScalerWrapper LogisticRegression       0:00:24       0.9701    0.9720\n         2   RobustScaler ExtremeRandomTrees                0:00:25       0.9776    0.9776\n         3   MinMaxScaler ExtremeRandomTrees                0:00:25       0.9783    0.9783\n         4   MinMaxScaler ExtremeRandomTrees                0:00:25       0.9789    0.9789\n         5   MaxAbsScaler ExtremeRandomTrees                0:00:30       0.9819    0.9819\n         6   StandardScalerWrapper ExtremeRandomTrees       0:00:23       0.9448    0.9819\n         7   MaxAbsScaler LogisticRegression                0:00:24       0.9755    0.9819\n         8   StandardScalerWrapper ExtremeRandomTrees       0:00:24       0.9797    0.9819\n         9   MaxAbsScaler ExtremeRandomTrees                0:00:25       0.9600    0.9819\n        10   MaxAbsScaler LogisticRegression                0:00:24       0.9748    0.9819\n        11   MaxAbsScaler ExtremeRandomTrees                0:00:26       0.9799    0.9819\n        12   StandardScalerWrapper LogisticRegression       0:00:25       0.9672    0.9819\n        13   StandardScalerWrapper LogisticRegression       0:00:23       0.9772    0.9819\n        14   TruncatedSVDWrapper ExtremeRandomTrees         0:00:26       0.9612    0.9819\n        15   MinMaxScaler ExtremeRandomTrees                0:00:31       0.9779    0.9819\n        16   MaxAbsScaler LogisticRegression                0:00:24       0.9750    0.9819\n        17   StandardScalerWrapper LogisticRegression       0:00:27       0.9747    0.9819\n        18   StandardScalerWrapper LogisticRegression       0:00:26       0.9782    0.9819\n        19   StandardScalerWrapper ExtremeRandomTrees       0:00:25       0.9782    0.9819\n        20   MaxAbsScaler DecisionTree                      0:00:24       0.9628    0.9819\n        21   StandardScalerWrapper ExtremeRandomTrees       0:00:27       0.9804    0.9819\n        22   StandardScalerWrapper DecisionTree             0:00:24       0.9327    0.9819\n        23   StandardScalerWrapper DecisionTree             0:00:25       0.9495    0.9819\n        24   StandardScalerWrapper ExtremeRandomTrees       0:00:30       0.9729    0.9819\n        25   TruncatedSVDWrapper ExtremeRandomTrees         0:00:25       0.9506    0.9819\n        26   RobustScaler LogisticRegression                0:00:25       0.9743    0.9819\n        27   RobustScaler ExtremeRandomTrees                0:00:27       0.9784    0.9819\n        28   MaxAbsScaler ExtremeRandomTrees                0:00:33       0.9726    0.9819\n        29   StandardScalerWrapper LogisticRegression       0:00:25       0.9789    0.9819\n        30   MaxAbsScaler ExtremeRandomTrees                0:00:34       0.9813    0.9819\n        31   MinMaxScaler LogisticRegression                0:00:25       0.9760    0.9819\n        32   MaxAbsScaler LogisticRegression                0:00:24       0.9779    0.9819\n        33   StandardScalerWrapper ExtremeRandomTrees       0:00:34       0.9787    0.9819\n        34   MaxAbsScaler LogisticRegression                0:00:24       0.9764    0.9819\n        35   StandardScalerWrapper ExtremeRandomTrees       0:00:34       0.9795    0.9819\n        36   MinMaxScaler ExtremeRandomTrees                0:00:33       0.9794    0.9819\n        37   MinMaxScaler ExtremeRandomTrees                0:00:35       0.9788    0.9819\n        38   StandardScalerWrapper LogisticRegression       0:00:24       0.9794    0.9819\n        39   MaxAbsScaler LogisticRegression                0:00:24       0.9808    0.9819\n        40   StandardScalerWrapper ExtremeRandomTrees       0:00:30       0.9758    0.9819\n        41   StandardScalerWrapper LogisticRegression       0:00:25       0.9741    0.9819\n        42   MaxAbsScaler LogisticRegression                0:00:24       0.9815    0.9819\n        43   StandardScalerWrapper LogisticRegression       0:00:25       0.9791    0.9819\n        44   StandardScalerWrapper LogisticRegression       0:00:25       0.9754    0.9819\n        45   PCA ExtremeRandomTrees                         0:00:25       0.5363    0.9819\n        46   RobustScaler ExtremeRandomTrees                0:00:25       0.9792    0.9819\n        47   MaxAbsScaler LogisticRegression                0:00:24       0.9785    0.9819\n        48   StandardScalerWrapper LogisticRegression       0:00:24       0.9799    0.9819\n        49   MinMaxScaler LogisticRegression                0:00:25       0.9794    0.9819\n        50   StandardScalerWrapper ExtremeRandomTrees       0:00:25       0.9771    0.9819\n        51   MaxAbsScaler LogisticRegression                0:00:24       0.9821    0.9821\n        52   MinMaxScaler LogisticRegression                0:00:26       0.9797    0.9821\n        53   MaxAbsScaler LogisticRegression                0:00:25       0.9745    0.9821\n        54   MaxAbsScaler LogisticRegression                0:00:25       0.9815    0.9821\n        55   StandardScalerWrapper LogisticRegression       0:00:24       0.9794    0.9821\n        56   MaxAbsScaler LogisticRegression                0:00:25       0.9803    0.9821\n        57   MinMaxScaler LogisticRegression                0:00:26       0.9763    0.9821\n        58   StandardScalerWrapper ExtremeRandomTrees       0:00:28       0.9803    0.9821\n        59   MaxAbsScaler LogisticRegression                0:00:26       0.9810    0.9821\n        60   MaxAbsScaler LogisticRegression                0:00:26       0.9786    0.9821\n        61   StandardScalerWrapper ExtremeRandomTrees       0:00:25       0.9782    0.9821\n        62   MinMaxScaler LogisticRegression                0:00:27       0.9775    0.9821\n        63   StandardScalerWrapper ExtremeRandomTrees       0:00:24       0.9744    0.9821\n        64   StandardScalerWrapper LogisticRegression       0:00:27       0.9803    0.9821\n        65   MinMaxScaler LogisticRegression                0:00:25       0.9809    0.9821\n        66   MinMaxScaler LogisticRegression                0:00:25       0.9765    0.9821\n        67   MaxAbsScaler ExtremeRandomTrees                0:00:25       0.9702    0.9821\n        68   MaxAbsScaler LogisticRegression                0:00:26       0.9791    0.9821\n        69   StandardScalerWrapper LogisticRegression       0:00:26       0.9754    0.9821\n        70   StandardScalerWrapper LogisticRegression       0:00:25       0.9795    0.9821\n        71   MaxAbsScaler ExtremeRandomTrees                0:00:29       0.9791    0.9821\n        72   StandardScalerWrapper LogisticRegression       0:00:27       0.9755    0.9821\n        73   MaxAbsScaler LogisticRegression                0:00:25       0.9768    0.9821\n        74   StandardScalerWrapper LogisticRegression       0:00:26       0.9796    0.9821\n        75   MinMaxScaler LogisticRegression                0:00:25       0.9793    0.9821\n        76   VotingEnsemble                                 0:01:01       0.9851    0.9851\n        77   StackEnsemble                                  0:01:03       0.9847    0.9851\nStopping criteria reached at iteration 78. Ending experiment.\n****************************************************************************************************\nCurrent status: BestRunExplainModel. Best run model explanations started\nCurrent status: ModelExplanationDataSetSetup. Model explanations data setup completed\nCurrent status: PickSurrogateModel. Choosing LightGBM as the surrogate model for explanations\nCurrent status: EngineeredFeatureExplanations. Computation of engineered features started\nCurrent status: EngineeredFeatureExplanations. Computation of engineered features completed\nCurrent status: RawFeaturesExplanations. Computation of raw features started\nMany to one/many maps found in input\nMany to one/many maps found in input\nCurrent status: RawFeaturesExplanations. Computation of raw features completed\nCurrent status: BestRunExplainModel. Best run model explanations completed\n****************************************************************************************************\n"
        },
        {
          "output_type": "stream",
          "name": "stderr",
          "text": "WARNING:urllib3.connectionpool:Retrying (Retry(total=2, connect=2, read=3, redirect=None, status=None)) after connection broken by 'NewConnectionError('<urllib3.connection.HTTPSConnection object at 0x7ffa31a39d68>: Failed to establish a new connection: [Errno 111] Connection refused',)': /metric/v2.0/subscriptions/69cc5141-1354-47ab-a391-cc856720c792/resourceGroups/project/providers/Microsoft.MachineLearningServices/workspaces/credit_card_fraud_detection/runs/AutoML_631207ea-e024-420c-a5e8-efbb263a4dc1_11/full\nINFO:interpret_community.common.explanation_utils:Using default datastore for uploads\n"
        }
      ],
      "execution_count": 28,
      "metadata": {
        "jupyter": {
          "source_hidden": false,
          "outputs_hidden": false
        },
        "nteract": {
          "transient": {
            "deleting": false
          }
        },
        "gather": {
          "logged": 1642704652624
        }
      },
      "id": "11d1fbed-a507-4714-9fc4-7745834ee37d"
    },
    {
      "cell_type": "code",
      "source": [
        "from azureml.widgets import RunDetails\r\n",
        "RunDetails(local_run).show()"
      ],
      "outputs": [
        {
          "output_type": "display_data",
          "data": {
            "text/plain": "_AutoMLWidget(widget_settings={'childWidgetDisplay': 'popup', 'send_telemetry': False, 'log_level': 'INFO', 's…",
            "application/vnd.jupyter.widget-view+json": {
              "version_major": 2,
              "version_minor": 0,
              "model_id": "c750f4afec70490085ccd12f4d3c1a25"
            }
          },
          "metadata": {}
        },
        {
          "output_type": "display_data",
          "data": {
            "application/aml.mini.widget.v1": "{\"status\": \"Completed\", \"workbench_run_details_uri\": \"https://ml.azure.com/runs/AutoML_631207ea-e024-420c-a5e8-efbb263a4dc1?wsid=/subscriptions/69cc5141-1354-47ab-a391-cc856720c792/resourcegroups/project/workspaces/credit_card_fraud_detection&tid=ed2bf81e-0c4c-4531-bbc9-346cca81ab1e\", \"run_id\": \"AutoML_631207ea-e024-420c-a5e8-efbb263a4dc1\", \"run_properties\": {\"run_id\": \"AutoML_631207ea-e024-420c-a5e8-efbb263a4dc1\", \"created_utc\": \"2022-01-20T18:08:31.012804Z\", \"properties\": {\"num_iterations\": \"1000\", \"training_type\": \"TrainFull\", \"acquisition_function\": \"EI\", \"primary_metric\": \"AUC_weighted\", \"train_split\": \"0\", \"acquisition_parameter\": \"0\", \"num_cross_validation\": \"5\", \"target\": \"local\", \"AMLSettingsJsonString\": \"{\\\"path\\\":null,\\\"name\\\":\\\"Credit-Card\\\",\\\"subscription_id\\\":\\\"69cc5141-1354-47ab-a391-cc856720c792\\\",\\\"resource_group\\\":\\\"project\\\",\\\"workspace_name\\\":\\\"credit_card_fraud_detection\\\",\\\"region\\\":\\\"centralindia\\\",\\\"compute_target\\\":\\\"local\\\",\\\"spark_service\\\":null,\\\"azure_service\\\":\\\"Microsoft.AzureNotebookVM\\\",\\\"many_models\\\":false,\\\"pipeline_fetch_max_batch_size\\\":1,\\\"enable_batch_run\\\":false,\\\"enable_run_restructure\\\":false,\\\"start_auxiliary_runs_before_parent_complete\\\":false,\\\"enable_code_generation\\\":false,\\\"iterations\\\":1000,\\\"primary_metric\\\":\\\"AUC_weighted\\\",\\\"task_type\\\":\\\"classification\\\",\\\"positive_label\\\":null,\\\"data_script\\\":null,\\\"test_size\\\":0.0,\\\"test_include_predictions_only\\\":false,\\\"validation_size\\\":0.0,\\\"n_cross_validations\\\":5,\\\"y_min\\\":null,\\\"y_max\\\":null,\\\"num_classes\\\":null,\\\"featurization\\\":\\\"auto\\\",\\\"_ignore_package_version_incompatibilities\\\":false,\\\"is_timeseries\\\":false,\\\"max_cores_per_iteration\\\":1,\\\"max_concurrent_iterations\\\":1,\\\"iteration_timeout_minutes\\\":10,\\\"mem_in_mb\\\":null,\\\"enforce_time_on_windows\\\":false,\\\"experiment_timeout_minutes\\\":36,\\\"experiment_exit_score\\\":null,\\\"whitelist_models\\\":null,\\\"blacklist_algos\\\":[\\\"SGD\\\",\\\"MultinomialNaiveBayes\\\",\\\"BernoulliNaiveBayes\\\",\\\"SVM\\\",\\\"KNN\\\",\\\"RandomForest\\\",\\\"LightGBM\\\",\\\"GradientBoosting\\\",\\\"XGBoostClassifier\\\",\\\"LinearSVM\\\",\\\"TensorFlowLinearClassifier\\\",\\\"TensorFlowDNN\\\"],\\\"supported_models\\\":[\\\"RandomForest\\\",\\\"ExtremeRandomTrees\\\",\\\"XGBoostClassifier\\\",\\\"TensorFlowLinearClassifier\\\",\\\"TensorFlowDNN\\\",\\\"LightGBM\\\",\\\"SGD\\\",\\\"BernoulliNaiveBayes\\\",\\\"DecisionTree\\\",\\\"MultinomialNaiveBayes\\\",\\\"LogisticRegression\\\",\\\"KNN\\\",\\\"AveragedPerceptronClassifier\\\",\\\"GradientBoosting\\\",\\\"LinearSVM\\\",\\\"SVM\\\"],\\\"private_models\\\":[\\\"TabnetClassifier\\\"],\\\"auto_blacklist\\\":true,\\\"blacklist_samples_reached\\\":false,\\\"exclude_nan_labels\\\":true,\\\"verbosity\\\":20,\\\"_debug_log\\\":\\\"automl.log\\\",\\\"show_warnings\\\":false,\\\"model_explainability\\\":true,\\\"service_url\\\":null,\\\"sdk_url\\\":null,\\\"sdk_packages\\\":null,\\\"enable_onnx_compatible_models\\\":false,\\\"enable_split_onnx_featurizer_estimator_models\\\":false,\\\"vm_type\\\":null,\\\"telemetry_verbosity\\\":20,\\\"send_telemetry\\\":true,\\\"enable_dnn\\\":false,\\\"scenario\\\":\\\"SDK-1.13.0\\\",\\\"environment_label\\\":null,\\\"save_mlflow\\\":false,\\\"enable_categorical_indicators\\\":false,\\\"force_text_dnn\\\":false,\\\"enable_feature_sweeping\\\":true,\\\"enable_early_stopping\\\":false,\\\"early_stopping_n_iters\\\":10,\\\"arguments\\\":null,\\\"dataset_id\\\":null,\\\"hyperdrive_config\\\":null,\\\"validation_dataset_id\\\":null,\\\"run_source\\\":null,\\\"metrics\\\":null,\\\"enable_metric_confidence\\\":false,\\\"enable_ensembling\\\":true,\\\"enable_stack_ensembling\\\":true,\\\"ensemble_iterations\\\":15,\\\"enable_tf\\\":false,\\\"enable_subsampling\\\":null,\\\"subsample_seed\\\":null,\\\"enable_nimbusml\\\":false,\\\"enable_streaming\\\":false,\\\"force_streaming\\\":false,\\\"track_child_runs\\\":true,\\\"allowed_private_models\\\":[],\\\"label_column_name\\\":null,\\\"weight_column_name\\\":null,\\\"cv_split_column_names\\\":null,\\\"enable_local_managed\\\":false,\\\"_local_managed_run_id\\\":null,\\\"cost_mode\\\":1,\\\"lag_length\\\":0,\\\"metric_operation\\\":\\\"maximize\\\",\\\"preprocess\\\":true}\", \"DataPrepJsonString\": null, \"EnableSubsampling\": null, \"runTemplate\": \"AutoML\", \"azureml.runsource\": \"automl\", \"display_task_type\": \"classification\", \"dependencies_versions\": \"{\\\"azureml-widgets\\\": \\\"1.36.0\\\", \\\"azureml-train\\\": \\\"1.36.0\\\", \\\"azureml-train-restclients-hyperdrive\\\": \\\"1.36.0\\\", \\\"azureml-train-core\\\": \\\"1.36.0\\\", \\\"azureml-train-automl\\\": \\\"1.36.0\\\", \\\"azureml-train-automl-runtime\\\": \\\"1.36.0\\\", \\\"azureml-train-automl-client\\\": \\\"1.36.0\\\", \\\"azureml-tensorboard\\\": \\\"1.36.0\\\", \\\"azureml-telemetry\\\": \\\"1.36.0\\\", \\\"azureml-sdk\\\": \\\"1.36.0\\\", \\\"azureml-samples\\\": \\\"0+unknown\\\", \\\"azureml-responsibleai\\\": \\\"1.36.0\\\", \\\"azureml-pipeline\\\": \\\"1.36.0\\\", \\\"azureml-pipeline-steps\\\": \\\"1.36.0\\\", \\\"azureml-pipeline-core\\\": \\\"1.36.0\\\", \\\"azureml-opendatasets\\\": \\\"1.36.0\\\", \\\"azureml-mlflow\\\": \\\"1.36.0\\\", \\\"azureml-interpret\\\": \\\"1.36.0\\\", \\\"azureml-inference-server-http\\\": \\\"0.4.1\\\", \\\"azureml-explain-model\\\": \\\"1.36.0\\\", \\\"azureml-defaults\\\": \\\"1.36.0\\\", \\\"azureml-dataset-runtime\\\": \\\"1.36.0\\\", \\\"azureml-dataprep\\\": \\\"2.24.4\\\", \\\"azureml-dataprep-rslex\\\": \\\"2.0.3\\\", \\\"azureml-dataprep-native\\\": \\\"38.0.0\\\", \\\"azureml-datadrift\\\": \\\"1.36.0\\\", \\\"azureml-core\\\": \\\"1.36.0.post2\\\", \\\"azureml-contrib-services\\\": \\\"1.36.0\\\", \\\"azureml-contrib-server\\\": \\\"1.36.0\\\", \\\"azureml-contrib-reinforcementlearning\\\": \\\"1.36.0\\\", \\\"azureml-contrib-pipeline-steps\\\": \\\"1.36.0\\\", \\\"azureml-contrib-notebook\\\": \\\"1.36.0\\\", \\\"azureml-contrib-fairness\\\": \\\"1.36.0\\\", \\\"azureml-contrib-dataset\\\": \\\"1.36.0\\\", \\\"azureml-contrib-automl-pipeline-steps\\\": \\\"1.36.0\\\", \\\"azureml-cli-common\\\": \\\"1.36.0\\\", \\\"azureml-automl-runtime\\\": \\\"1.36.0\\\", \\\"azureml-automl-dnn-nlp\\\": \\\"1.36.0\\\", \\\"azureml-automl-core\\\": \\\"1.36.0\\\", \\\"azureml-accel-models\\\": \\\"1.36.0\\\"}\", \"_aml_system_scenario_identification\": \"Local.Parent\", \"ClientSdkVersion\": \"1.36.0\", \"ClientType\": \"SDK\", \"environment_cpu_name\": \"AzureML-AutoML\", \"environment_cpu_label\": \"prod\", \"environment_gpu_name\": \"AzureML-AutoML-GPU\", \"environment_gpu_label\": \"prod\", \"root_attribution\": \"automl\", \"attribution\": \"AutoML\", \"Orchestrator\": \"AutoML\", \"_azureml.ComputeTargetType\": \"local\", \"ProblemInfoJsonString\": \"{\\\"dataset_num_categorical\\\": 0, \\\"is_sparse\\\": false, \\\"subsampling\\\": false, \\\"has_extra_col\\\": true, \\\"dataset_classes\\\": 2, \\\"dataset_features\\\": 38, \\\"dataset_samples\\\": 787, \\\"single_frequency_class_detected\\\": false}\"}, \"tags\": {\"model_explain_run\": \"best_run\", \"best_score\": \"0.9851443564379879\", \"best_pipeline\": \"VotingEnsemble\", \"automl_best_child_run_id\": \"AutoML_631207ea-e024-420c-a5e8-efbb263a4dc1_76\", \"model_explain_best_run_child_id\": \"AutoML_631207ea-e024-420c-a5e8-efbb263a4dc1_76\"}, \"end_time_utc\": \"2022-01-20T18:46:48.67892Z\", \"status\": \"Completed\", \"log_files\": {}, \"log_groups\": [], \"run_duration\": \"0:38:17\", \"run_number\": \"324\", \"run_queued_details\": {\"status\": \"Completed\", \"details\": null}}, \"child_runs\": [{\"run_id\": \"AutoML_631207ea-e024-420c-a5e8-efbb263a4dc1_0\", \"run_number\": 325, \"metric\": null, \"status\": \"Completed\", \"run_type\": null, \"training_percent\": \"100\", \"start_time\": \"2022-01-20T18:08:54.370739Z\", \"end_time\": \"2022-01-20T18:09:19.419241Z\", \"created_time\": \"2022-01-20T18:08:54.241252Z\", \"created_time_dt\": \"2022-01-20T18:08:54.241252Z\", \"duration\": \"0:00:25\", \"iteration\": \"0\", \"goal\": \"AUC_weighted_max\", \"run_name\": \"MaxAbsScaler, ExtremeRandomTrees\", \"run_properties\": \"copy=True\", \"primary_metric\": 0.97199791, \"best_metric\": 0.97199791}, {\"run_id\": \"AutoML_631207ea-e024-420c-a5e8-efbb263a4dc1_1\", \"run_number\": 326, \"metric\": null, \"status\": \"Completed\", \"run_type\": null, \"training_percent\": \"100\", \"start_time\": \"2022-01-20T18:09:20.777953Z\", \"end_time\": \"2022-01-20T18:09:45.620634Z\", \"created_time\": \"2022-01-20T18:09:20.656286Z\", \"created_time_dt\": \"2022-01-20T18:09:20.656286Z\", \"duration\": \"0:00:24\", \"iteration\": \"1\", \"goal\": \"AUC_weighted_max\", \"run_name\": \"StandardScalerWrapper, LogisticRegression\", \"run_properties\": \"\\n    copy=True,\\n    with_mean=True,\\n    with_std=True\\n\", \"primary_metric\": 0.97014163, \"best_metric\": 0.97199791}, {\"run_id\": \"AutoML_631207ea-e024-420c-a5e8-efbb263a4dc1_2\", \"run_number\": 327, \"metric\": null, \"status\": \"Completed\", \"run_type\": null, \"training_percent\": \"100\", \"start_time\": \"2022-01-20T18:09:46.9691Z\", \"end_time\": \"2022-01-20T18:10:11.901294Z\", \"created_time\": \"2022-01-20T18:09:46.850407Z\", \"created_time_dt\": \"2022-01-20T18:09:46.850407Z\", \"duration\": \"0:00:25\", \"iteration\": \"2\", \"goal\": \"AUC_weighted_max\", \"run_name\": \"RobustScaler, ExtremeRandomTrees\", \"run_properties\": \"copy=True, quantile_range=[10, 90], with_centering=True,\\n             with_scaling=False\", \"primary_metric\": 0.97760093, \"best_metric\": 0.97760093}, {\"run_id\": \"AutoML_631207ea-e024-420c-a5e8-efbb263a4dc1_3\", \"run_number\": 328, \"metric\": null, \"status\": \"Completed\", \"run_type\": null, \"training_percent\": \"100\", \"start_time\": \"2022-01-20T18:10:13.260875Z\", \"end_time\": \"2022-01-20T18:10:38.238792Z\", \"created_time\": \"2022-01-20T18:10:13.092677Z\", \"created_time_dt\": \"2022-01-20T18:10:13.092677Z\", \"duration\": \"0:00:25\", \"iteration\": \"3\", \"goal\": \"AUC_weighted_max\", \"run_name\": \"MinMaxScaler, ExtremeRandomTrees\", \"run_properties\": \"copy=True, feature_range=(0, 1\", \"primary_metric\": 0.97831264, \"best_metric\": 0.97831264}, {\"run_id\": \"AutoML_631207ea-e024-420c-a5e8-efbb263a4dc1_4\", \"run_number\": 329, \"metric\": null, \"status\": \"Completed\", \"run_type\": null, \"training_percent\": \"100\", \"start_time\": \"2022-01-20T18:10:39.503197Z\", \"end_time\": \"2022-01-20T18:11:04.74242Z\", \"created_time\": \"2022-01-20T18:10:39.387008Z\", \"created_time_dt\": \"2022-01-20T18:10:39.387008Z\", \"duration\": \"0:00:25\", \"iteration\": \"4\", \"goal\": \"AUC_weighted_max\", \"run_name\": \"MinMaxScaler, ExtremeRandomTrees\", \"run_properties\": \"copy=True, feature_range=(0, 1\", \"primary_metric\": 0.97889776, \"best_metric\": 0.97889776}, {\"run_id\": \"AutoML_631207ea-e024-420c-a5e8-efbb263a4dc1_5\", \"run_number\": 330, \"metric\": null, \"status\": \"Completed\", \"run_type\": null, \"training_percent\": \"100\", \"start_time\": \"2022-01-20T18:11:06.188802Z\", \"end_time\": \"2022-01-20T18:11:36.795713Z\", \"created_time\": \"2022-01-20T18:11:06.062245Z\", \"created_time_dt\": \"2022-01-20T18:11:06.062245Z\", \"duration\": \"0:00:30\", \"iteration\": \"5\", \"goal\": \"AUC_weighted_max\", \"run_name\": \"MaxAbsScaler, ExtremeRandomTrees\", \"run_properties\": \"copy=True\", \"primary_metric\": 0.9819497, \"best_metric\": 0.9819497}, {\"run_id\": \"AutoML_631207ea-e024-420c-a5e8-efbb263a4dc1_6\", \"run_number\": 331, \"metric\": null, \"status\": \"Completed\", \"run_type\": null, \"training_percent\": \"100\", \"start_time\": \"2022-01-20T18:11:38.147954Z\", \"end_time\": \"2022-01-20T18:12:01.762429Z\", \"created_time\": \"2022-01-20T18:11:38.027367Z\", \"created_time_dt\": \"2022-01-20T18:11:38.027367Z\", \"duration\": \"0:00:23\", \"iteration\": \"6\", \"goal\": \"AUC_weighted_max\", \"run_name\": \"StandardScalerWrapper, ExtremeRandomTrees\", \"run_properties\": \"\\n    copy=True,\\n    with_mean=False,\\n    with_std=False\\n\", \"primary_metric\": 0.94484118, \"best_metric\": 0.9819497}, {\"run_id\": \"AutoML_631207ea-e024-420c-a5e8-efbb263a4dc1_7\", \"run_number\": 332, \"metric\": null, \"status\": \"Completed\", \"run_type\": null, \"training_percent\": \"100\", \"start_time\": \"2022-01-20T18:12:03.12722Z\", \"end_time\": \"2022-01-20T18:12:27.149677Z\", \"created_time\": \"2022-01-20T18:12:02.990455Z\", \"created_time_dt\": \"2022-01-20T18:12:02.990455Z\", \"duration\": \"0:00:24\", \"iteration\": \"7\", \"goal\": \"AUC_weighted_max\", \"run_name\": \"MaxAbsScaler, LogisticRegression\", \"run_properties\": \"copy=True\", \"primary_metric\": 0.97547366, \"best_metric\": 0.9819497}, {\"run_id\": \"AutoML_631207ea-e024-420c-a5e8-efbb263a4dc1_8\", \"run_number\": 333, \"metric\": null, \"status\": \"Completed\", \"run_type\": null, \"training_percent\": \"100\", \"start_time\": \"2022-01-20T18:12:28.443294Z\", \"end_time\": \"2022-01-20T18:12:52.377745Z\", \"created_time\": \"2022-01-20T18:12:28.28974Z\", \"created_time_dt\": \"2022-01-20T18:12:28.28974Z\", \"duration\": \"0:00:24\", \"iteration\": \"8\", \"goal\": \"AUC_weighted_max\", \"run_name\": \"StandardScalerWrapper, ExtremeRandomTrees\", \"run_properties\": \"\\n    copy=True,\\n    with_mean=False,\\n    with_std=True\\n\", \"primary_metric\": 0.97967338, \"best_metric\": 0.9819497}, {\"run_id\": \"AutoML_631207ea-e024-420c-a5e8-efbb263a4dc1_9\", \"run_number\": 334, \"metric\": null, \"status\": \"Completed\", \"run_type\": null, \"training_percent\": \"100\", \"start_time\": \"2022-01-20T18:12:53.774392Z\", \"end_time\": \"2022-01-20T18:13:18.730203Z\", \"created_time\": \"2022-01-20T18:12:53.65736Z\", \"created_time_dt\": \"2022-01-20T18:12:53.65736Z\", \"duration\": \"0:00:25\", \"iteration\": \"9\", \"goal\": \"AUC_weighted_max\", \"run_name\": \"MaxAbsScaler, ExtremeRandomTrees\", \"run_properties\": \"copy=True\", \"primary_metric\": 0.96001617, \"best_metric\": 0.9819497}, {\"run_id\": \"AutoML_631207ea-e024-420c-a5e8-efbb263a4dc1_10\", \"run_number\": 335, \"metric\": null, \"status\": \"Completed\", \"run_type\": null, \"training_percent\": \"100\", \"start_time\": \"2022-01-20T18:13:20.066512Z\", \"end_time\": \"2022-01-20T18:13:44.380299Z\", \"created_time\": \"2022-01-20T18:13:19.940002Z\", \"created_time_dt\": \"2022-01-20T18:13:19.940002Z\", \"duration\": \"0:00:24\", \"iteration\": \"10\", \"goal\": \"AUC_weighted_max\", \"run_name\": \"MaxAbsScaler, LogisticRegression\", \"run_properties\": \"copy=True\", \"primary_metric\": 0.97479231, \"best_metric\": 0.9819497}, {\"run_id\": \"AutoML_631207ea-e024-420c-a5e8-efbb263a4dc1_11\", \"run_number\": 336, \"metric\": null, \"status\": \"Completed\", \"run_type\": null, \"training_percent\": \"100\", \"start_time\": \"2022-01-20T18:13:46.329761Z\", \"end_time\": \"2022-01-20T18:14:13.143194Z\", \"created_time\": \"2022-01-20T18:13:46.211576Z\", \"created_time_dt\": \"2022-01-20T18:13:46.211576Z\", \"duration\": \"0:00:26\", \"iteration\": \"11\", \"goal\": \"AUC_weighted_max\", \"run_name\": \"MaxAbsScaler, ExtremeRandomTrees\", \"run_properties\": \"copy=True\", \"primary_metric\": 0.97989987, \"best_metric\": 0.9819497}, {\"run_id\": \"AutoML_631207ea-e024-420c-a5e8-efbb263a4dc1_12\", \"run_number\": 337, \"metric\": null, \"status\": \"Completed\", \"run_type\": null, \"training_percent\": \"100\", \"start_time\": \"2022-01-20T18:14:14.906492Z\", \"end_time\": \"2022-01-20T18:14:40.156824Z\", \"created_time\": \"2022-01-20T18:14:14.790835Z\", \"created_time_dt\": \"2022-01-20T18:14:14.790835Z\", \"duration\": \"0:00:25\", \"iteration\": \"12\", \"goal\": \"AUC_weighted_max\", \"run_name\": \"StandardScalerWrapper, LogisticRegression\", \"run_properties\": \"\\n    copy=True,\\n    with_mean=True,\\n    with_std=False\\n\", \"primary_metric\": 0.96715991, \"best_metric\": 0.9819497}, {\"run_id\": \"AutoML_631207ea-e024-420c-a5e8-efbb263a4dc1_13\", \"run_number\": 338, \"metric\": null, \"status\": \"Completed\", \"run_type\": null, \"training_percent\": \"100\", \"start_time\": \"2022-01-20T18:14:41.868315Z\", \"end_time\": \"2022-01-20T18:15:05.436153Z\", \"created_time\": \"2022-01-20T18:14:41.745901Z\", \"created_time_dt\": \"2022-01-20T18:14:41.745901Z\", \"duration\": \"0:00:23\", \"iteration\": \"13\", \"goal\": \"AUC_weighted_max\", \"run_name\": \"StandardScalerWrapper, LogisticRegression\", \"run_properties\": \"\\n    copy=True,\\n    with_mean=False,\\n    with_std=True\\n\", \"primary_metric\": 0.97723842, \"best_metric\": 0.9819497}, {\"run_id\": \"AutoML_631207ea-e024-420c-a5e8-efbb263a4dc1_14\", \"run_number\": 339, \"metric\": null, \"status\": \"Completed\", \"run_type\": null, \"training_percent\": \"100\", \"start_time\": \"2022-01-20T18:15:07.212298Z\", \"end_time\": \"2022-01-20T18:15:33.334681Z\", \"created_time\": \"2022-01-20T18:15:07.091133Z\", \"created_time_dt\": \"2022-01-20T18:15:07.091133Z\", \"duration\": \"0:00:26\", \"iteration\": \"14\", \"goal\": \"AUC_weighted_max\", \"run_name\": \"TruncatedSVDWrapper, ExtremeRandomTrees\", \"run_properties\": \"n_components=0.20789473684210527, random_state=None\", \"primary_metric\": 0.9611506, \"best_metric\": 0.9819497}, {\"run_id\": \"AutoML_631207ea-e024-420c-a5e8-efbb263a4dc1_15\", \"run_number\": 340, \"metric\": null, \"status\": \"Completed\", \"run_type\": null, \"training_percent\": \"100\", \"start_time\": \"2022-01-20T18:15:35.158736Z\", \"end_time\": \"2022-01-20T18:16:06.398518Z\", \"created_time\": \"2022-01-20T18:15:35.0135Z\", \"created_time_dt\": \"2022-01-20T18:15:35.0135Z\", \"duration\": \"0:00:31\", \"iteration\": \"15\", \"goal\": \"AUC_weighted_max\", \"run_name\": \"MinMaxScaler, ExtremeRandomTrees\", \"run_properties\": \"copy=True, feature_range=(0, 1\", \"primary_metric\": 0.97792764, \"best_metric\": 0.9819497}, {\"run_id\": \"AutoML_631207ea-e024-420c-a5e8-efbb263a4dc1_16\", \"run_number\": 341, \"metric\": null, \"status\": \"Completed\", \"run_type\": null, \"training_percent\": \"100\", \"start_time\": \"2022-01-20T18:16:08.023189Z\", \"end_time\": \"2022-01-20T18:16:32.085928Z\", \"created_time\": \"2022-01-20T18:16:07.906964Z\", \"created_time_dt\": \"2022-01-20T18:16:07.906964Z\", \"duration\": \"0:00:24\", \"iteration\": \"16\", \"goal\": \"AUC_weighted_max\", \"run_name\": \"MaxAbsScaler, LogisticRegression\", \"run_properties\": \"copy=True\", \"primary_metric\": 0.97503444, \"best_metric\": 0.9819497}, {\"run_id\": \"AutoML_631207ea-e024-420c-a5e8-efbb263a4dc1_17\", \"run_number\": 342, \"metric\": null, \"status\": \"Completed\", \"run_type\": null, \"training_percent\": \"100\", \"start_time\": \"2022-01-20T18:16:33.880768Z\", \"end_time\": \"2022-01-20T18:17:00.950157Z\", \"created_time\": \"2022-01-20T18:16:33.763991Z\", \"created_time_dt\": \"2022-01-20T18:16:33.763991Z\", \"duration\": \"0:00:27\", \"iteration\": \"17\", \"goal\": \"AUC_weighted_max\", \"run_name\": \"StandardScalerWrapper, LogisticRegression\", \"run_properties\": \"\\n    copy=True,\\n    with_mean=False,\\n    with_std=True\\n\", \"primary_metric\": 0.97473516, \"best_metric\": 0.9819497}, {\"run_id\": \"AutoML_631207ea-e024-420c-a5e8-efbb263a4dc1_18\", \"run_number\": 343, \"metric\": null, \"status\": \"Completed\", \"run_type\": null, \"training_percent\": \"100\", \"start_time\": \"2022-01-20T18:17:02.716783Z\", \"end_time\": \"2022-01-20T18:17:29.068032Z\", \"created_time\": \"2022-01-20T18:17:02.603497Z\", \"created_time_dt\": \"2022-01-20T18:17:02.603497Z\", \"duration\": \"0:00:26\", \"iteration\": \"18\", \"goal\": \"AUC_weighted_max\", \"run_name\": \"StandardScalerWrapper, LogisticRegression\", \"run_properties\": \"\\n    copy=True,\\n    with_mean=False,\\n    with_std=True\\n\", \"primary_metric\": 0.97822957, \"best_metric\": 0.9819497}, {\"run_id\": \"AutoML_631207ea-e024-420c-a5e8-efbb263a4dc1_19\", \"run_number\": 344, \"metric\": null, \"status\": \"Completed\", \"run_type\": null, \"training_percent\": \"100\", \"start_time\": \"2022-01-20T18:17:30.722723Z\", \"end_time\": \"2022-01-20T18:17:56.395905Z\", \"created_time\": \"2022-01-20T18:17:30.602519Z\", \"created_time_dt\": \"2022-01-20T18:17:30.602519Z\", \"duration\": \"0:00:25\", \"iteration\": \"19\", \"goal\": \"AUC_weighted_max\", \"run_name\": \"StandardScalerWrapper, ExtremeRandomTrees\", \"run_properties\": \"\\n    copy=True,\\n    with_mean=True,\\n    with_std=False\\n\", \"primary_metric\": 0.978188, \"best_metric\": 0.9819497}, {\"run_id\": \"AutoML_631207ea-e024-420c-a5e8-efbb263a4dc1_20\", \"run_number\": 345, \"metric\": null, \"status\": \"Completed\", \"run_type\": null, \"training_percent\": \"100\", \"start_time\": \"2022-01-20T18:17:58.020945Z\", \"end_time\": \"2022-01-20T18:18:21.980765Z\", \"created_time\": \"2022-01-20T18:17:57.886335Z\", \"created_time_dt\": \"2022-01-20T18:17:57.886335Z\", \"duration\": \"0:00:24\", \"iteration\": \"20\", \"goal\": \"AUC_weighted_max\", \"run_name\": \"MaxAbsScaler, DecisionTree\", \"run_properties\": \"copy=True\", \"primary_metric\": 0.96280427, \"best_metric\": 0.9819497}, {\"run_id\": \"AutoML_631207ea-e024-420c-a5e8-efbb263a4dc1_21\", \"run_number\": 346, \"metric\": null, \"status\": \"Completed\", \"run_type\": null, \"training_percent\": \"100\", \"start_time\": \"2022-01-20T18:18:23.844284Z\", \"end_time\": \"2022-01-20T18:18:51.087141Z\", \"created_time\": \"2022-01-20T18:18:23.662754Z\", \"created_time_dt\": \"2022-01-20T18:18:23.662754Z\", \"duration\": \"0:00:27\", \"iteration\": \"21\", \"goal\": \"AUC_weighted_max\", \"run_name\": \"StandardScalerWrapper, ExtremeRandomTrees\", \"run_properties\": \"\\n    copy=True,\\n    with_mean=False,\\n    with_std=True\\n\", \"primary_metric\": 0.98035693, \"best_metric\": 0.9819497}, {\"run_id\": \"AutoML_631207ea-e024-420c-a5e8-efbb263a4dc1_22\", \"run_number\": 347, \"metric\": null, \"status\": \"Completed\", \"run_type\": null, \"training_percent\": \"100\", \"start_time\": \"2022-01-20T18:18:52.891289Z\", \"end_time\": \"2022-01-20T18:19:17.309355Z\", \"created_time\": \"2022-01-20T18:18:52.776113Z\", \"created_time_dt\": \"2022-01-20T18:18:52.776113Z\", \"duration\": \"0:00:24\", \"iteration\": \"22\", \"goal\": \"AUC_weighted_max\", \"run_name\": \"StandardScalerWrapper, DecisionTree\", \"run_properties\": \"\\n    copy=True,\\n    with_mean=True,\\n    with_std=False\\n\", \"primary_metric\": 0.93269198, \"best_metric\": 0.9819497}, {\"run_id\": \"AutoML_631207ea-e024-420c-a5e8-efbb263a4dc1_23\", \"run_number\": 348, \"metric\": null, \"status\": \"Completed\", \"run_type\": null, \"training_percent\": \"100\", \"start_time\": \"2022-01-20T18:19:19.203255Z\", \"end_time\": \"2022-01-20T18:19:44.137289Z\", \"created_time\": \"2022-01-20T18:19:18.96243Z\", \"created_time_dt\": \"2022-01-20T18:19:18.96243Z\", \"duration\": \"0:00:25\", \"iteration\": \"23\", \"goal\": \"AUC_weighted_max\", \"run_name\": \"StandardScalerWrapper, DecisionTree\", \"run_properties\": \"\\n    copy=True,\\n    with_mean=True,\\n    with_std=False\\n\", \"primary_metric\": 0.94949933, \"best_metric\": 0.9819497}, {\"run_id\": \"AutoML_631207ea-e024-420c-a5e8-efbb263a4dc1_24\", \"run_number\": 349, \"metric\": null, \"status\": \"Completed\", \"run_type\": null, \"training_percent\": \"100\", \"start_time\": \"2022-01-20T18:19:45.809015Z\", \"end_time\": \"2022-01-20T18:20:16.177495Z\", \"created_time\": \"2022-01-20T18:19:45.65505Z\", \"created_time_dt\": \"2022-01-20T18:19:45.65505Z\", \"duration\": \"0:00:30\", \"iteration\": \"24\", \"goal\": \"AUC_weighted_max\", \"run_name\": \"StandardScalerWrapper, ExtremeRandomTrees\", \"run_properties\": \"\\n    copy=True,\\n    with_mean=True,\\n    with_std=False\\n\", \"primary_metric\": 0.97287907, \"best_metric\": 0.9819497}, {\"run_id\": \"AutoML_631207ea-e024-420c-a5e8-efbb263a4dc1_25\", \"run_number\": 350, \"metric\": null, \"status\": \"Completed\", \"run_type\": null, \"training_percent\": \"100\", \"start_time\": \"2022-01-20T18:20:19.061983Z\", \"end_time\": \"2022-01-20T18:20:44.701559Z\", \"created_time\": \"2022-01-20T18:20:18.929163Z\", \"created_time_dt\": \"2022-01-20T18:20:18.929163Z\", \"duration\": \"0:00:25\", \"iteration\": \"25\", \"goal\": \"AUC_weighted_max\", \"run_name\": \"TruncatedSVDWrapper, ExtremeRandomTrees\", \"run_properties\": \"n_components=0.8510526315789474, random_state=None\", \"primary_metric\": 0.95059037, \"best_metric\": 0.9819497}, {\"run_id\": \"AutoML_631207ea-e024-420c-a5e8-efbb263a4dc1_26\", \"run_number\": 351, \"metric\": null, \"status\": \"Completed\", \"run_type\": null, \"training_percent\": \"100\", \"start_time\": \"2022-01-20T18:20:46.435098Z\", \"end_time\": \"2022-01-20T18:21:11.865484Z\", \"created_time\": \"2022-01-20T18:20:46.302713Z\", \"created_time_dt\": \"2022-01-20T18:20:46.302713Z\", \"duration\": \"0:00:25\", \"iteration\": \"26\", \"goal\": \"AUC_weighted_max\", \"run_name\": \"RobustScaler, LogisticRegression\", \"run_properties\": \"copy=True, quantile_range=[10, 90], with_centering=True,\\n             with_scaling=True\", \"primary_metric\": 0.97427742, \"best_metric\": 0.9819497}, {\"run_id\": \"AutoML_631207ea-e024-420c-a5e8-efbb263a4dc1_27\", \"run_number\": 352, \"metric\": null, \"status\": \"Completed\", \"run_type\": null, \"training_percent\": \"100\", \"start_time\": \"2022-01-20T18:21:13.683448Z\", \"end_time\": \"2022-01-20T18:21:40.812481Z\", \"created_time\": \"2022-01-20T18:21:13.548181Z\", \"created_time_dt\": \"2022-01-20T18:21:13.548181Z\", \"duration\": \"0:00:27\", \"iteration\": \"27\", \"goal\": \"AUC_weighted_max\", \"run_name\": \"RobustScaler, ExtremeRandomTrees\", \"run_properties\": \"copy=True, quantile_range=[10, 90], with_centering=True,\\n             with_scaling=False\", \"primary_metric\": 0.97844719, \"best_metric\": 0.9819497}, {\"run_id\": \"AutoML_631207ea-e024-420c-a5e8-efbb263a4dc1_28\", \"run_number\": 353, \"metric\": null, \"status\": \"Completed\", \"run_type\": null, \"training_percent\": \"100\", \"start_time\": \"2022-01-20T18:21:42.550518Z\", \"end_time\": \"2022-01-20T18:22:15.503007Z\", \"created_time\": \"2022-01-20T18:21:42.430725Z\", \"created_time_dt\": \"2022-01-20T18:21:42.430725Z\", \"duration\": \"0:00:33\", \"iteration\": \"28\", \"goal\": \"AUC_weighted_max\", \"run_name\": \"MaxAbsScaler, ExtremeRandomTrees\", \"run_properties\": \"copy=True\", \"primary_metric\": 0.97258843, \"best_metric\": 0.9819497}, {\"run_id\": \"AutoML_631207ea-e024-420c-a5e8-efbb263a4dc1_29\", \"run_number\": 354, \"metric\": null, \"status\": \"Completed\", \"run_type\": null, \"training_percent\": \"100\", \"start_time\": \"2022-01-20T18:22:17.236533Z\", \"end_time\": \"2022-01-20T18:22:42.535622Z\", \"created_time\": \"2022-01-20T18:22:17.106108Z\", \"created_time_dt\": \"2022-01-20T18:22:17.106108Z\", \"duration\": \"0:00:25\", \"iteration\": \"29\", \"goal\": \"AUC_weighted_max\", \"run_name\": \"StandardScalerWrapper, LogisticRegression\", \"run_properties\": \"\\n    copy=True,\\n    with_mean=True,\\n    with_std=True\\n\", \"primary_metric\": 0.97890993, \"best_metric\": 0.9819497}, {\"run_id\": \"AutoML_631207ea-e024-420c-a5e8-efbb263a4dc1_30\", \"run_number\": 355, \"metric\": null, \"status\": \"Completed\", \"run_type\": null, \"training_percent\": \"100\", \"start_time\": \"2022-01-20T18:22:45.741382Z\", \"end_time\": \"2022-01-20T18:23:20.309502Z\", \"created_time\": \"2022-01-20T18:22:45.614584Z\", \"created_time_dt\": \"2022-01-20T18:22:45.614584Z\", \"duration\": \"0:00:34\", \"iteration\": \"30\", \"goal\": \"AUC_weighted_max\", \"run_name\": \"MaxAbsScaler, ExtremeRandomTrees\", \"run_properties\": \"copy=True\", \"primary_metric\": 0.981292, \"best_metric\": 0.9819497}, {\"run_id\": \"AutoML_631207ea-e024-420c-a5e8-efbb263a4dc1_31\", \"run_number\": 356, \"metric\": null, \"status\": \"Completed\", \"run_type\": null, \"training_percent\": \"100\", \"start_time\": \"2022-01-20T18:23:22.09109Z\", \"end_time\": \"2022-01-20T18:23:47.684364Z\", \"created_time\": \"2022-01-20T18:23:21.975832Z\", \"created_time_dt\": \"2022-01-20T18:23:21.975832Z\", \"duration\": \"0:00:25\", \"iteration\": \"31\", \"goal\": \"AUC_weighted_max\", \"run_name\": \"MinMaxScaler, LogisticRegression\", \"run_properties\": \"copy=True, feature_range=(0, 1\", \"primary_metric\": 0.9760237, \"best_metric\": 0.9819497}, {\"run_id\": \"AutoML_631207ea-e024-420c-a5e8-efbb263a4dc1_32\", \"run_number\": 357, \"metric\": null, \"status\": \"Completed\", \"run_type\": null, \"training_percent\": \"100\", \"start_time\": \"2022-01-20T18:23:49.455532Z\", \"end_time\": \"2022-01-20T18:24:14.157469Z\", \"created_time\": \"2022-01-20T18:23:49.327817Z\", \"created_time_dt\": \"2022-01-20T18:23:49.327817Z\", \"duration\": \"0:00:24\", \"iteration\": \"32\", \"goal\": \"AUC_weighted_max\", \"run_name\": \"MaxAbsScaler, LogisticRegression\", \"run_properties\": \"copy=True\", \"primary_metric\": 0.97790628, \"best_metric\": 0.9819497}, {\"run_id\": \"AutoML_631207ea-e024-420c-a5e8-efbb263a4dc1_33\", \"run_number\": 358, \"metric\": null, \"status\": \"Completed\", \"run_type\": null, \"training_percent\": \"100\", \"start_time\": \"2022-01-20T18:24:15.789734Z\", \"end_time\": \"2022-01-20T18:24:49.804602Z\", \"created_time\": \"2022-01-20T18:24:15.669291Z\", \"created_time_dt\": \"2022-01-20T18:24:15.669291Z\", \"duration\": \"0:00:34\", \"iteration\": \"33\", \"goal\": \"AUC_weighted_max\", \"run_name\": \"StandardScalerWrapper, ExtremeRandomTrees\", \"run_properties\": \"\\n    copy=True,\\n    with_mean=True,\\n    with_std=False\\n\", \"primary_metric\": 0.97869962, \"best_metric\": 0.9819497}, {\"run_id\": \"AutoML_631207ea-e024-420c-a5e8-efbb263a4dc1_34\", \"run_number\": 359, \"metric\": null, \"status\": \"Completed\", \"run_type\": null, \"training_percent\": \"100\", \"start_time\": \"2022-01-20T18:24:51.478553Z\", \"end_time\": \"2022-01-20T18:25:16.035088Z\", \"created_time\": \"2022-01-20T18:24:51.354539Z\", \"created_time_dt\": \"2022-01-20T18:24:51.354539Z\", \"duration\": \"0:00:24\", \"iteration\": \"34\", \"goal\": \"AUC_weighted_max\", \"run_name\": \"MaxAbsScaler, LogisticRegression\", \"run_properties\": \"copy=True\", \"primary_metric\": 0.97635079, \"best_metric\": 0.9819497}, {\"run_id\": \"AutoML_631207ea-e024-420c-a5e8-efbb263a4dc1_35\", \"run_number\": 360, \"metric\": null, \"status\": \"Completed\", \"run_type\": null, \"training_percent\": \"100\", \"start_time\": \"2022-01-20T18:25:18.952109Z\", \"end_time\": \"2022-01-20T18:25:53.8043Z\", \"created_time\": \"2022-01-20T18:25:18.810827Z\", \"created_time_dt\": \"2022-01-20T18:25:18.810827Z\", \"duration\": \"0:00:34\", \"iteration\": \"35\", \"goal\": \"AUC_weighted_max\", \"run_name\": \"StandardScalerWrapper, ExtremeRandomTrees\", \"run_properties\": \"\\n    copy=True,\\n    with_mean=True,\\n    with_std=False\\n\", \"primary_metric\": 0.97948013, \"best_metric\": 0.9819497}, {\"run_id\": \"AutoML_631207ea-e024-420c-a5e8-efbb263a4dc1_36\", \"run_number\": 361, \"metric\": null, \"status\": \"Completed\", \"run_type\": null, \"training_percent\": \"100\", \"start_time\": \"2022-01-20T18:25:55.468068Z\", \"end_time\": \"2022-01-20T18:26:28.798328Z\", \"created_time\": \"2022-01-20T18:25:55.340105Z\", \"created_time_dt\": \"2022-01-20T18:25:55.340105Z\", \"duration\": \"0:00:33\", \"iteration\": \"36\", \"goal\": \"AUC_weighted_max\", \"run_name\": \"MinMaxScaler, ExtremeRandomTrees\", \"run_properties\": \"copy=True, feature_range=(0, 1\", \"primary_metric\": 0.97935357, \"best_metric\": 0.9819497}, {\"run_id\": \"AutoML_631207ea-e024-420c-a5e8-efbb263a4dc1_37\", \"run_number\": 362, \"metric\": null, \"status\": \"Completed\", \"run_type\": null, \"training_percent\": \"100\", \"start_time\": \"2022-01-20T18:26:30.460134Z\", \"end_time\": \"2022-01-20T18:27:05.453035Z\", \"created_time\": \"2022-01-20T18:26:30.334036Z\", \"created_time_dt\": \"2022-01-20T18:26:30.334036Z\", \"duration\": \"0:00:35\", \"iteration\": \"37\", \"goal\": \"AUC_weighted_max\", \"run_name\": \"MinMaxScaler, ExtremeRandomTrees\", \"run_properties\": \"copy=True, feature_range=(0, 1\", \"primary_metric\": 0.97882953, \"best_metric\": 0.9819497}, {\"run_id\": \"AutoML_631207ea-e024-420c-a5e8-efbb263a4dc1_38\", \"run_number\": 363, \"metric\": null, \"status\": \"Completed\", \"run_type\": null, \"training_percent\": \"100\", \"start_time\": \"2022-01-20T18:27:07.215003Z\", \"end_time\": \"2022-01-20T18:27:31.733341Z\", \"created_time\": \"2022-01-20T18:27:07.097568Z\", \"created_time_dt\": \"2022-01-20T18:27:07.097568Z\", \"duration\": \"0:00:24\", \"iteration\": \"38\", \"goal\": \"AUC_weighted_max\", \"run_name\": \"StandardScalerWrapper, LogisticRegression\", \"run_properties\": \"\\n    copy=True,\\n    with_mean=True,\\n    with_std=True\\n\", \"primary_metric\": 0.97942914, \"best_metric\": 0.9819497}, {\"run_id\": \"AutoML_631207ea-e024-420c-a5e8-efbb263a4dc1_39\", \"run_number\": 364, \"metric\": null, \"status\": \"Completed\", \"run_type\": null, \"training_percent\": \"100\", \"start_time\": \"2022-01-20T18:27:33.346172Z\", \"end_time\": \"2022-01-20T18:27:57.70107Z\", \"created_time\": \"2022-01-20T18:27:33.222006Z\", \"created_time_dt\": \"2022-01-20T18:27:33.222006Z\", \"duration\": \"0:00:24\", \"iteration\": \"39\", \"goal\": \"AUC_weighted_max\", \"run_name\": \"MaxAbsScaler, LogisticRegression\", \"run_properties\": \"copy=True\", \"primary_metric\": 0.98076865, \"best_metric\": 0.9819497}, {\"run_id\": \"AutoML_631207ea-e024-420c-a5e8-efbb263a4dc1_40\", \"run_number\": 365, \"metric\": null, \"status\": \"Completed\", \"run_type\": null, \"training_percent\": \"100\", \"start_time\": \"2022-01-20T18:28:00.482934Z\", \"end_time\": \"2022-01-20T18:28:30.494505Z\", \"created_time\": \"2022-01-20T18:28:00.342512Z\", \"created_time_dt\": \"2022-01-20T18:28:00.342512Z\", \"duration\": \"0:00:30\", \"iteration\": \"40\", \"goal\": \"AUC_weighted_max\", \"run_name\": \"StandardScalerWrapper, ExtremeRandomTrees\", \"run_properties\": \"\\n    copy=True,\\n    with_mean=True,\\n    with_std=True\\n\", \"primary_metric\": 0.97582138, \"best_metric\": 0.9819497}, {\"run_id\": \"AutoML_631207ea-e024-420c-a5e8-efbb263a4dc1_41\", \"run_number\": 366, \"metric\": null, \"status\": \"Completed\", \"run_type\": null, \"training_percent\": \"100\", \"start_time\": \"2022-01-20T18:28:32.215514Z\", \"end_time\": \"2022-01-20T18:28:57.430854Z\", \"created_time\": \"2022-01-20T18:28:32.093197Z\", \"created_time_dt\": \"2022-01-20T18:28:32.093197Z\", \"duration\": \"0:00:25\", \"iteration\": \"41\", \"goal\": \"AUC_weighted_max\", \"run_name\": \"StandardScalerWrapper, LogisticRegression\", \"run_properties\": \"\\n    copy=True,\\n    with_mean=True,\\n    with_std=True\\n\", \"primary_metric\": 0.97412345, \"best_metric\": 0.9819497}, {\"run_id\": \"AutoML_631207ea-e024-420c-a5e8-efbb263a4dc1_42\", \"run_number\": 367, \"metric\": null, \"status\": \"Completed\", \"run_type\": null, \"training_percent\": \"100\", \"start_time\": \"2022-01-20T18:28:58.996131Z\", \"end_time\": \"2022-01-20T18:29:23.413769Z\", \"created_time\": \"2022-01-20T18:28:58.870987Z\", \"created_time_dt\": \"2022-01-20T18:28:58.870987Z\", \"duration\": \"0:00:24\", \"iteration\": \"42\", \"goal\": \"AUC_weighted_max\", \"run_name\": \"MaxAbsScaler, LogisticRegression\", \"run_properties\": \"copy=True\", \"primary_metric\": 0.98148898, \"best_metric\": 0.9819497}, {\"run_id\": \"AutoML_631207ea-e024-420c-a5e8-efbb263a4dc1_43\", \"run_number\": 368, \"metric\": null, \"status\": \"Completed\", \"run_type\": null, \"training_percent\": \"100\", \"start_time\": \"2022-01-20T18:29:25.321209Z\", \"end_time\": \"2022-01-20T18:29:50.675899Z\", \"created_time\": \"2022-01-20T18:29:25.188783Z\", \"created_time_dt\": \"2022-01-20T18:29:25.188783Z\", \"duration\": \"0:00:25\", \"iteration\": \"43\", \"goal\": \"AUC_weighted_max\", \"run_name\": \"StandardScalerWrapper, LogisticRegression\", \"run_properties\": \"\\n    copy=True,\\n    with_mean=True,\\n    with_std=True\\n\", \"primary_metric\": 0.97914199, \"best_metric\": 0.9819497}, {\"run_id\": \"AutoML_631207ea-e024-420c-a5e8-efbb263a4dc1_44\", \"run_number\": 369, \"metric\": null, \"status\": \"Completed\", \"run_type\": null, \"training_percent\": \"100\", \"start_time\": \"2022-01-20T18:29:52.381152Z\", \"end_time\": \"2022-01-20T18:30:17.291218Z\", \"created_time\": \"2022-01-20T18:29:52.260164Z\", \"created_time_dt\": \"2022-01-20T18:29:52.260164Z\", \"duration\": \"0:00:25\", \"iteration\": \"44\", \"goal\": \"AUC_weighted_max\", \"run_name\": \"StandardScalerWrapper, LogisticRegression\", \"run_properties\": \"\\n    copy=True,\\n    with_mean=False,\\n    with_std=True\\n\", \"primary_metric\": 0.97540866, \"best_metric\": 0.9819497}, {\"run_id\": \"AutoML_631207ea-e024-420c-a5e8-efbb263a4dc1_45\", \"run_number\": 370, \"metric\": null, \"status\": \"Completed\", \"run_type\": null, \"training_percent\": \"100\", \"start_time\": \"2022-01-20T18:30:20.425885Z\", \"end_time\": \"2022-01-20T18:30:45.912746Z\", \"created_time\": \"2022-01-20T18:30:20.292117Z\", \"created_time_dt\": \"2022-01-20T18:30:20.292117Z\", \"duration\": \"0:00:25\", \"iteration\": \"45\", \"goal\": \"AUC_weighted_max\", \"run_name\": \"PCA, ExtremeRandomTrees\", \"run_properties\": \"copy=True, iterated_power='auto', n_components=0.7026315789473684,\\n    random_state=None, svd_solver='auto', tol=0.0, whiten=True\", \"primary_metric\": 0.5363299, \"best_metric\": 0.9819497}, {\"run_id\": \"AutoML_631207ea-e024-420c-a5e8-efbb263a4dc1_46\", \"run_number\": 371, \"metric\": null, \"status\": \"Completed\", \"run_type\": null, \"training_percent\": \"100\", \"start_time\": \"2022-01-20T18:30:47.627283Z\", \"end_time\": \"2022-01-20T18:31:13.42153Z\", \"created_time\": \"2022-01-20T18:30:47.502587Z\", \"created_time_dt\": \"2022-01-20T18:30:47.502587Z\", \"duration\": \"0:00:25\", \"iteration\": \"46\", \"goal\": \"AUC_weighted_max\", \"run_name\": \"RobustScaler, ExtremeRandomTrees\", \"run_properties\": \"copy=True, quantile_range=[25, 75], with_centering=False,\\n             with_scaling=False\", \"primary_metric\": 0.97921247, \"best_metric\": 0.9819497}, {\"run_id\": \"AutoML_631207ea-e024-420c-a5e8-efbb263a4dc1_47\", \"run_number\": 372, \"metric\": null, \"status\": \"Completed\", \"run_type\": null, \"training_percent\": \"100\", \"start_time\": \"2022-01-20T18:31:15.097055Z\", \"end_time\": \"2022-01-20T18:31:39.877993Z\", \"created_time\": \"2022-01-20T18:31:14.973204Z\", \"created_time_dt\": \"2022-01-20T18:31:14.973204Z\", \"duration\": \"0:00:24\", \"iteration\": \"47\", \"goal\": \"AUC_weighted_max\", \"run_name\": \"MaxAbsScaler, LogisticRegression\", \"run_properties\": \"copy=True\", \"primary_metric\": 0.97847977, \"best_metric\": 0.9819497}, {\"run_id\": \"AutoML_631207ea-e024-420c-a5e8-efbb263a4dc1_48\", \"run_number\": 373, \"metric\": null, \"status\": \"Completed\", \"run_type\": null, \"training_percent\": \"100\", \"start_time\": \"2022-01-20T18:31:41.466676Z\", \"end_time\": \"2022-01-20T18:32:06.204505Z\", \"created_time\": \"2022-01-20T18:31:41.347472Z\", \"created_time_dt\": \"2022-01-20T18:31:41.347472Z\", \"duration\": \"0:00:24\", \"iteration\": \"48\", \"goal\": \"AUC_weighted_max\", \"run_name\": \"StandardScalerWrapper, LogisticRegression\", \"run_properties\": \"\\n    copy=True,\\n    with_mean=True,\\n    with_std=True\\n\", \"primary_metric\": 0.97992917, \"best_metric\": 0.9819497}, {\"run_id\": \"AutoML_631207ea-e024-420c-a5e8-efbb263a4dc1_49\", \"run_number\": 374, \"metric\": null, \"status\": \"Completed\", \"run_type\": null, \"training_percent\": \"100\", \"start_time\": \"2022-01-20T18:32:07.986168Z\", \"end_time\": \"2022-01-20T18:32:33.833262Z\", \"created_time\": \"2022-01-20T18:32:07.846624Z\", \"created_time_dt\": \"2022-01-20T18:32:07.846624Z\", \"duration\": \"0:00:25\", \"iteration\": \"49\", \"goal\": \"AUC_weighted_max\", \"run_name\": \"MinMaxScaler, LogisticRegression\", \"run_properties\": \"copy=True, feature_range=(0, 1\", \"primary_metric\": 0.97942707, \"best_metric\": 0.9819497}, {\"run_id\": \"AutoML_631207ea-e024-420c-a5e8-efbb263a4dc1_50\", \"run_number\": 375, \"metric\": null, \"status\": \"Completed\", \"run_type\": null, \"training_percent\": \"100\", \"start_time\": \"2022-01-20T18:32:36.776664Z\", \"end_time\": \"2022-01-20T18:33:02.392304Z\", \"created_time\": \"2022-01-20T18:32:36.627994Z\", \"created_time_dt\": \"2022-01-20T18:32:36.627994Z\", \"duration\": \"0:00:25\", \"iteration\": \"50\", \"goal\": \"AUC_weighted_max\", \"run_name\": \"StandardScalerWrapper, ExtremeRandomTrees\", \"run_properties\": \"\\n    copy=True,\\n    with_mean=True,\\n    with_std=False\\n\", \"primary_metric\": 0.97712536, \"best_metric\": 0.9819497}, {\"run_id\": \"AutoML_631207ea-e024-420c-a5e8-efbb263a4dc1_51\", \"run_number\": 376, \"metric\": null, \"status\": \"Completed\", \"run_type\": null, \"training_percent\": \"100\", \"start_time\": \"2022-01-20T18:33:04.134516Z\", \"end_time\": \"2022-01-20T18:33:28.774949Z\", \"created_time\": \"2022-01-20T18:33:04.017281Z\", \"created_time_dt\": \"2022-01-20T18:33:04.017281Z\", \"duration\": \"0:00:24\", \"iteration\": \"51\", \"goal\": \"AUC_weighted_max\", \"run_name\": \"MaxAbsScaler, LogisticRegression\", \"run_properties\": \"copy=True\", \"primary_metric\": 0.98206903, \"best_metric\": 0.98206903}, {\"run_id\": \"AutoML_631207ea-e024-420c-a5e8-efbb263a4dc1_52\", \"run_number\": 377, \"metric\": null, \"status\": \"Completed\", \"run_type\": null, \"training_percent\": \"100\", \"start_time\": \"2022-01-20T18:33:30.412326Z\", \"end_time\": \"2022-01-20T18:33:56.407769Z\", \"created_time\": \"2022-01-20T18:33:30.288331Z\", \"created_time_dt\": \"2022-01-20T18:33:30.288331Z\", \"duration\": \"0:00:26\", \"iteration\": \"52\", \"goal\": \"AUC_weighted_max\", \"run_name\": \"MinMaxScaler, LogisticRegression\", \"run_properties\": \"copy=True, feature_range=(0, 1\", \"primary_metric\": 0.97968416, \"best_metric\": 0.98206903}, {\"run_id\": \"AutoML_631207ea-e024-420c-a5e8-efbb263a4dc1_53\", \"run_number\": 378, \"metric\": null, \"status\": \"Completed\", \"run_type\": null, \"training_percent\": \"100\", \"start_time\": \"2022-01-20T18:33:58.160392Z\", \"end_time\": \"2022-01-20T18:34:23.143735Z\", \"created_time\": \"2022-01-20T18:33:58.035715Z\", \"created_time_dt\": \"2022-01-20T18:33:58.035715Z\", \"duration\": \"0:00:25\", \"iteration\": \"53\", \"goal\": \"AUC_weighted_max\", \"run_name\": \"MaxAbsScaler, LogisticRegression\", \"run_properties\": \"copy=True\", \"primary_metric\": 0.97446944, \"best_metric\": 0.98206903}, {\"run_id\": \"AutoML_631207ea-e024-420c-a5e8-efbb263a4dc1_54\", \"run_number\": 379, \"metric\": null, \"status\": \"Completed\", \"run_type\": null, \"training_percent\": \"100\", \"start_time\": \"2022-01-20T18:34:24.869395Z\", \"end_time\": \"2022-01-20T18:34:50.385069Z\", \"created_time\": \"2022-01-20T18:34:24.686535Z\", \"created_time_dt\": \"2022-01-20T18:34:24.686535Z\", \"duration\": \"0:00:25\", \"iteration\": \"54\", \"goal\": \"AUC_weighted_max\", \"run_name\": \"MaxAbsScaler, LogisticRegression\", \"run_properties\": \"copy=True\", \"primary_metric\": 0.98148232, \"best_metric\": 0.98206903}, {\"run_id\": \"AutoML_631207ea-e024-420c-a5e8-efbb263a4dc1_55\", \"run_number\": 380, \"metric\": null, \"status\": \"Completed\", \"run_type\": null, \"training_percent\": \"100\", \"start_time\": \"2022-01-20T18:34:53.628589Z\", \"end_time\": \"2022-01-20T18:35:17.972736Z\", \"created_time\": \"2022-01-20T18:34:53.463607Z\", \"created_time_dt\": \"2022-01-20T18:34:53.463607Z\", \"duration\": \"0:00:24\", \"iteration\": \"55\", \"goal\": \"AUC_weighted_max\", \"run_name\": \"StandardScalerWrapper, LogisticRegression\", \"run_properties\": \"\\n    copy=True,\\n    with_mean=True,\\n    with_std=True\\n\", \"primary_metric\": 0.97939658, \"best_metric\": 0.98206903}, {\"run_id\": \"AutoML_631207ea-e024-420c-a5e8-efbb263a4dc1_56\", \"run_number\": 381, \"metric\": null, \"status\": \"Completed\", \"run_type\": null, \"training_percent\": \"100\", \"start_time\": \"2022-01-20T18:35:19.715663Z\", \"end_time\": \"2022-01-20T18:35:44.831727Z\", \"created_time\": \"2022-01-20T18:35:19.577187Z\", \"created_time_dt\": \"2022-01-20T18:35:19.577187Z\", \"duration\": \"0:00:25\", \"iteration\": \"56\", \"goal\": \"AUC_weighted_max\", \"run_name\": \"MaxAbsScaler, LogisticRegression\", \"run_properties\": \"copy=True\", \"primary_metric\": 0.98032181, \"best_metric\": 0.98206903}, {\"run_id\": \"AutoML_631207ea-e024-420c-a5e8-efbb263a4dc1_57\", \"run_number\": 382, \"metric\": null, \"status\": \"Completed\", \"run_type\": null, \"training_percent\": \"100\", \"start_time\": \"2022-01-20T18:35:46.64823Z\", \"end_time\": \"2022-01-20T18:36:13.225194Z\", \"created_time\": \"2022-01-20T18:35:46.504006Z\", \"created_time_dt\": \"2022-01-20T18:35:46.504006Z\", \"duration\": \"0:00:26\", \"iteration\": \"57\", \"goal\": \"AUC_weighted_max\", \"run_name\": \"MinMaxScaler, LogisticRegression\", \"run_properties\": \"copy=True, feature_range=(0, 1\", \"primary_metric\": 0.97628332, \"best_metric\": 0.98206903}, {\"run_id\": \"AutoML_631207ea-e024-420c-a5e8-efbb263a4dc1_58\", \"run_number\": 383, \"metric\": null, \"status\": \"Completed\", \"run_type\": null, \"training_percent\": \"100\", \"start_time\": \"2022-01-20T18:36:14.94599Z\", \"end_time\": \"2022-01-20T18:36:43.421822Z\", \"created_time\": \"2022-01-20T18:36:14.824794Z\", \"created_time_dt\": \"2022-01-20T18:36:14.824794Z\", \"duration\": \"0:00:28\", \"iteration\": \"58\", \"goal\": \"AUC_weighted_max\", \"run_name\": \"StandardScalerWrapper, ExtremeRandomTrees\", \"run_properties\": \"\\n    copy=True,\\n    with_mean=True,\\n    with_std=False\\n\", \"primary_metric\": 0.98031796, \"best_metric\": 0.98206903}, {\"run_id\": \"AutoML_631207ea-e024-420c-a5e8-efbb263a4dc1_59\", \"run_number\": 384, \"metric\": null, \"status\": \"Completed\", \"run_type\": null, \"training_percent\": \"100\", \"start_time\": \"2022-01-20T18:36:45.147196Z\", \"end_time\": \"2022-01-20T18:37:11.353657Z\", \"created_time\": \"2022-01-20T18:36:45.026604Z\", \"created_time_dt\": \"2022-01-20T18:36:45.026604Z\", \"duration\": \"0:00:26\", \"iteration\": \"59\", \"goal\": \"AUC_weighted_max\", \"run_name\": \"MaxAbsScaler, LogisticRegression\", \"run_properties\": \"copy=True\", \"primary_metric\": 0.98099104, \"best_metric\": 0.98206903}, {\"run_id\": \"AutoML_631207ea-e024-420c-a5e8-efbb263a4dc1_60\", \"run_number\": 385, \"metric\": null, \"status\": \"Completed\", \"run_type\": null, \"training_percent\": \"100\", \"start_time\": \"2022-01-20T18:37:14.533075Z\", \"end_time\": \"2022-01-20T18:37:40.644293Z\", \"created_time\": \"2022-01-20T18:37:14.383853Z\", \"created_time_dt\": \"2022-01-20T18:37:14.383853Z\", \"duration\": \"0:00:26\", \"iteration\": \"60\", \"goal\": \"AUC_weighted_max\", \"run_name\": \"MaxAbsScaler, LogisticRegression\", \"run_properties\": \"copy=True\", \"primary_metric\": 0.97857683, \"best_metric\": 0.98206903}, {\"run_id\": \"AutoML_631207ea-e024-420c-a5e8-efbb263a4dc1_61\", \"run_number\": 386, \"metric\": null, \"status\": \"Completed\", \"run_type\": null, \"training_percent\": \"100\", \"start_time\": \"2022-01-20T18:37:42.382892Z\", \"end_time\": \"2022-01-20T18:38:08.273219Z\", \"created_time\": \"2022-01-20T18:37:42.257505Z\", \"created_time_dt\": \"2022-01-20T18:37:42.257505Z\", \"duration\": \"0:00:26\", \"iteration\": \"61\", \"goal\": \"AUC_weighted_max\", \"run_name\": \"StandardScalerWrapper, ExtremeRandomTrees\", \"run_properties\": \"\\n    copy=True,\\n    with_mean=True,\\n    with_std=False\\n\", \"primary_metric\": 0.97824773, \"best_metric\": 0.98206903}, {\"run_id\": \"AutoML_631207ea-e024-420c-a5e8-efbb263a4dc1_62\", \"run_number\": 387, \"metric\": null, \"status\": \"Completed\", \"run_type\": null, \"training_percent\": \"100\", \"start_time\": \"2022-01-20T18:38:10.044911Z\", \"end_time\": \"2022-01-20T18:38:36.438385Z\", \"created_time\": \"2022-01-20T18:38:09.88137Z\", \"created_time_dt\": \"2022-01-20T18:38:09.88137Z\", \"duration\": \"0:00:26\", \"iteration\": \"62\", \"goal\": \"AUC_weighted_max\", \"run_name\": \"MinMaxScaler, LogisticRegression\", \"run_properties\": \"copy=True, feature_range=(0, 1\", \"primary_metric\": 0.97754748, \"best_metric\": 0.98206903}, {\"run_id\": \"AutoML_631207ea-e024-420c-a5e8-efbb263a4dc1_63\", \"run_number\": 388, \"metric\": null, \"status\": \"Completed\", \"run_type\": null, \"training_percent\": \"100\", \"start_time\": \"2022-01-20T18:38:39.425793Z\", \"end_time\": \"2022-01-20T18:39:04.218016Z\", \"created_time\": \"2022-01-20T18:38:39.321317Z\", \"created_time_dt\": \"2022-01-20T18:38:39.321317Z\", \"duration\": \"0:00:24\", \"iteration\": \"63\", \"goal\": \"AUC_weighted_max\", \"run_name\": \"StandardScalerWrapper, ExtremeRandomTrees\", \"run_properties\": \"\\n    copy=True,\\n    with_mean=True,\\n    with_std=True\\n\", \"primary_metric\": 0.97443302, \"best_metric\": 0.98206903}, {\"run_id\": \"AutoML_631207ea-e024-420c-a5e8-efbb263a4dc1_64\", \"run_number\": 389, \"metric\": null, \"status\": \"Completed\", \"run_type\": null, \"training_percent\": \"100\", \"start_time\": \"2022-01-20T18:39:05.874508Z\", \"end_time\": \"2022-01-20T18:39:33.303343Z\", \"created_time\": \"2022-01-20T18:39:05.764472Z\", \"created_time_dt\": \"2022-01-20T18:39:05.764472Z\", \"duration\": \"0:00:27\", \"iteration\": \"64\", \"goal\": \"AUC_weighted_max\", \"run_name\": \"StandardScalerWrapper, LogisticRegression\", \"run_properties\": \"\\n    copy=True,\\n    with_mean=False,\\n    with_std=True\\n\", \"primary_metric\": 0.9802847, \"best_metric\": 0.98206903}, {\"run_id\": \"AutoML_631207ea-e024-420c-a5e8-efbb263a4dc1_65\", \"run_number\": 390, \"metric\": null, \"status\": \"Completed\", \"run_type\": null, \"training_percent\": \"100\", \"start_time\": \"2022-01-20T18:39:36.340048Z\", \"end_time\": \"2022-01-20T18:40:01.524282Z\", \"created_time\": \"2022-01-20T18:39:36.195021Z\", \"created_time_dt\": \"2022-01-20T18:39:36.195021Z\", \"duration\": \"0:00:25\", \"iteration\": \"65\", \"goal\": \"AUC_weighted_max\", \"run_name\": \"MinMaxScaler, LogisticRegression\", \"run_properties\": \"copy=True, feature_range=(0, 1\", \"primary_metric\": 0.98086866, \"best_metric\": 0.98206903}, {\"run_id\": \"AutoML_631207ea-e024-420c-a5e8-efbb263a4dc1_66\", \"run_number\": 391, \"metric\": null, \"status\": \"Completed\", \"run_type\": null, \"training_percent\": \"100\", \"start_time\": \"2022-01-20T18:40:03.187473Z\", \"end_time\": \"2022-01-20T18:40:28.676159Z\", \"created_time\": \"2022-01-20T18:40:03.067545Z\", \"created_time_dt\": \"2022-01-20T18:40:03.067545Z\", \"duration\": \"0:00:25\", \"iteration\": \"66\", \"goal\": \"AUC_weighted_max\", \"run_name\": \"MinMaxScaler, LogisticRegression\", \"run_properties\": \"copy=True, feature_range=(0, 1\", \"primary_metric\": 0.9765094, \"best_metric\": 0.98206903}, {\"run_id\": \"AutoML_631207ea-e024-420c-a5e8-efbb263a4dc1_67\", \"run_number\": 392, \"metric\": null, \"status\": \"Completed\", \"run_type\": null, \"training_percent\": \"100\", \"start_time\": \"2022-01-20T18:40:30.38787Z\", \"end_time\": \"2022-01-20T18:40:56.043867Z\", \"created_time\": \"2022-01-20T18:40:30.272448Z\", \"created_time_dt\": \"2022-01-20T18:40:30.272448Z\", \"duration\": \"0:00:25\", \"iteration\": \"67\", \"goal\": \"AUC_weighted_max\", \"run_name\": \"MaxAbsScaler, ExtremeRandomTrees\", \"run_properties\": \"copy=True\", \"primary_metric\": 0.97018695, \"best_metric\": 0.98206903}, {\"run_id\": \"AutoML_631207ea-e024-420c-a5e8-efbb263a4dc1_68\", \"run_number\": 393, \"metric\": null, \"status\": \"Completed\", \"run_type\": null, \"training_percent\": \"100\", \"start_time\": \"2022-01-20T18:40:57.581928Z\", \"end_time\": \"2022-01-20T18:41:24.193931Z\", \"created_time\": \"2022-01-20T18:40:57.471497Z\", \"created_time_dt\": \"2022-01-20T18:40:57.471497Z\", \"duration\": \"0:00:26\", \"iteration\": \"68\", \"goal\": \"AUC_weighted_max\", \"run_name\": \"MaxAbsScaler, LogisticRegression\", \"run_properties\": \"copy=True\", \"primary_metric\": 0.97907246, \"best_metric\": 0.98206903}, {\"run_id\": \"AutoML_631207ea-e024-420c-a5e8-efbb263a4dc1_69\", \"run_number\": 394, \"metric\": null, \"status\": \"Completed\", \"run_type\": null, \"training_percent\": \"100\", \"start_time\": \"2022-01-20T18:41:25.953412Z\", \"end_time\": \"2022-01-20T18:41:52.107012Z\", \"created_time\": \"2022-01-20T18:41:25.83155Z\", \"created_time_dt\": \"2022-01-20T18:41:25.83155Z\", \"duration\": \"0:00:26\", \"iteration\": \"69\", \"goal\": \"AUC_weighted_max\", \"run_name\": \"StandardScalerWrapper, LogisticRegression\", \"run_properties\": \"\\n    copy=True,\\n    with_mean=False,\\n    with_std=True\\n\", \"primary_metric\": 0.97540844, \"best_metric\": 0.98206903}, {\"run_id\": \"AutoML_631207ea-e024-420c-a5e8-efbb263a4dc1_70\", \"run_number\": 395, \"metric\": null, \"status\": \"Completed\", \"run_type\": null, \"training_percent\": \"100\", \"start_time\": \"2022-01-20T18:41:55.255086Z\", \"end_time\": \"2022-01-20T18:42:20.510691Z\", \"created_time\": \"2022-01-20T18:41:55.115067Z\", \"created_time_dt\": \"2022-01-20T18:41:55.115067Z\", \"duration\": \"0:00:25\", \"iteration\": \"70\", \"goal\": \"AUC_weighted_max\", \"run_name\": \"StandardScalerWrapper, LogisticRegression\", \"run_properties\": \"\\n    copy=True,\\n    with_mean=True,\\n    with_std=True\\n\", \"primary_metric\": 0.9794616, \"best_metric\": 0.98206903}, {\"run_id\": \"AutoML_631207ea-e024-420c-a5e8-efbb263a4dc1_71\", \"run_number\": 396, \"metric\": null, \"status\": \"Completed\", \"run_type\": null, \"training_percent\": \"100\", \"start_time\": \"2022-01-20T18:42:22.307709Z\", \"end_time\": \"2022-01-20T18:42:51.689061Z\", \"created_time\": \"2022-01-20T18:42:22.166362Z\", \"created_time_dt\": \"2022-01-20T18:42:22.166362Z\", \"duration\": \"0:00:29\", \"iteration\": \"71\", \"goal\": \"AUC_weighted_max\", \"run_name\": \"MaxAbsScaler, ExtremeRandomTrees\", \"run_properties\": \"copy=True\", \"primary_metric\": 0.97913009, \"best_metric\": 0.98206903}, {\"run_id\": \"AutoML_631207ea-e024-420c-a5e8-efbb263a4dc1_72\", \"run_number\": 397, \"metric\": null, \"status\": \"Completed\", \"run_type\": null, \"training_percent\": \"100\", \"start_time\": \"2022-01-20T18:42:53.387153Z\", \"end_time\": \"2022-01-20T18:43:20.357335Z\", \"created_time\": \"2022-01-20T18:42:53.24826Z\", \"created_time_dt\": \"2022-01-20T18:42:53.24826Z\", \"duration\": \"0:00:27\", \"iteration\": \"72\", \"goal\": \"AUC_weighted_max\", \"run_name\": \"StandardScalerWrapper, LogisticRegression\", \"run_properties\": \"\\n    copy=True,\\n    with_mean=False,\\n    with_std=True\\n\", \"primary_metric\": 0.97553975, \"best_metric\": 0.98206903}, {\"run_id\": \"AutoML_631207ea-e024-420c-a5e8-efbb263a4dc1_73\", \"run_number\": 398, \"metric\": null, \"status\": \"Completed\", \"run_type\": null, \"training_percent\": \"100\", \"start_time\": \"2022-01-20T18:43:22.047325Z\", \"end_time\": \"2022-01-20T18:43:47.857209Z\", \"created_time\": \"2022-01-20T18:43:21.934001Z\", \"created_time_dt\": \"2022-01-20T18:43:21.934001Z\", \"duration\": \"0:00:25\", \"iteration\": \"73\", \"goal\": \"AUC_weighted_max\", \"run_name\": \"MaxAbsScaler, LogisticRegression\", \"run_properties\": \"copy=True\", \"primary_metric\": 0.97683525, \"best_metric\": 0.98206903}, {\"run_id\": \"AutoML_631207ea-e024-420c-a5e8-efbb263a4dc1_74\", \"run_number\": 399, \"metric\": null, \"status\": \"Completed\", \"run_type\": null, \"training_percent\": \"100\", \"start_time\": \"2022-01-20T18:43:49.542914Z\", \"end_time\": \"2022-01-20T18:44:15.625479Z\", \"created_time\": \"2022-01-20T18:43:49.411009Z\", \"created_time_dt\": \"2022-01-20T18:43:49.411009Z\", \"duration\": \"0:00:26\", \"iteration\": \"74\", \"goal\": \"AUC_weighted_max\", \"run_name\": \"StandardScalerWrapper, LogisticRegression\", \"run_properties\": \"\\n    copy=True,\\n    with_mean=True,\\n    with_std=True\\n\", \"primary_metric\": 0.97956035, \"best_metric\": 0.98206903}, {\"run_id\": \"AutoML_631207ea-e024-420c-a5e8-efbb263a4dc1_75\", \"run_number\": 400, \"metric\": null, \"status\": \"Completed\", \"run_type\": null, \"training_percent\": \"100\", \"start_time\": \"2022-01-20T18:44:18.492867Z\", \"end_time\": \"2022-01-20T18:44:43.442935Z\", \"created_time\": \"2022-01-20T18:44:18.364828Z\", \"created_time_dt\": \"2022-01-20T18:44:18.364828Z\", \"duration\": \"0:00:25\", \"iteration\": \"75\", \"goal\": \"AUC_weighted_max\", \"run_name\": \"MinMaxScaler, LogisticRegression\", \"run_properties\": \"copy=True, feature_range=(0, 1\", \"primary_metric\": 0.97931971, \"best_metric\": 0.98206903}, {\"run_id\": \"AutoML_631207ea-e024-420c-a5e8-efbb263a4dc1_76\", \"run_number\": 401, \"metric\": null, \"status\": \"Completed\", \"run_type\": null, \"training_percent\": \"100\", \"start_time\": \"2022-01-20T18:44:43.794571Z\", \"end_time\": \"2022-01-20T18:45:44.905354Z\", \"created_time\": \"2022-01-20T18:44:43.683637Z\", \"created_time_dt\": \"2022-01-20T18:44:43.683637Z\", \"duration\": \"0:01:01\", \"iteration\": \"76\", \"goal\": \"AUC_weighted_max\", \"run_name\": \"VotingEnsemble\", \"run_properties\": \"\\n    estimators=[('51', Pipeline(\\n        memory=None,\\n        steps=[('maxabsscaler', MaxAbsScaler(\\n            copy=True\\n        \", \"primary_metric\": 0.98514436, \"best_metric\": 0.98514436}, {\"run_id\": \"AutoML_631207ea-e024-420c-a5e8-efbb263a4dc1_77\", \"run_number\": 402, \"metric\": null, \"status\": \"Completed\", \"run_type\": null, \"training_percent\": \"100\", \"start_time\": \"2022-01-20T18:45:45.305355Z\", \"end_time\": \"2022-01-20T18:46:48.244476Z\", \"created_time\": \"2022-01-20T18:45:45.159647Z\", \"created_time_dt\": \"2022-01-20T18:45:45.159647Z\", \"duration\": \"0:01:03\", \"iteration\": \"77\", \"goal\": \"AUC_weighted_max\", \"run_name\": \"StackEnsemble\", \"run_properties\": \"\\n    base_learners=[('51', Pipeline(\\n        memory=None,\\n        steps=[('maxabsscaler', MaxAbsScaler(\\n            copy=True\\n        \", \"primary_metric\": 0.98468827, \"best_metric\": 0.98514436}], \"children_metrics\": {\"categories\": [0], \"series\": {\"precision_score_macro\": [{\"categories\": [\"0\", \"1\", \"2\", \"3\", \"4\", \"5\", \"6\", \"7\", \"8\", \"9\", \"10\", \"11\", \"12\", \"13\", \"14\", \"15\", \"16\", \"17\", \"18\", \"19\", \"20\", \"21\", \"22\", \"23\", \"24\", \"25\", \"26\", \"27\", \"28\", \"29\", \"30\", \"31\", \"32\", \"33\", \"34\", \"35\", \"36\", \"37\", \"38\", \"39\", \"40\", \"41\", \"42\", \"43\", \"44\", \"45\", \"46\", \"47\", \"48\", \"49\", \"50\", \"51\", \"52\", \"53\", \"54\", \"55\", \"56\", \"57\", \"58\", \"59\", \"60\", \"61\", \"62\", \"63\", \"64\", \"65\", \"66\", \"67\", \"68\", \"69\", \"70\", \"71\", \"72\", \"73\", \"74\", \"75\", \"76\", \"77\"], \"mode\": \"markers\", \"name\": \"precision_score_macro\", \"stepped\": false, \"type\": \"scatter\", \"data\": [0.937375086539106, 0.9391344952595839, 0.9367905308013237, 0.9404213444634257, 0.9438821897387056, 0.9379784543936157, 0.8979231318010907, 0.9403633727318506, 0.942805531349532, 0.912701462860267, 0.9402438012847817, 0.9434462944350839, 0.9156875395710896, 0.9391585945893111, 0.9238826961223117, 0.9351497749374236, 0.9386897905051015, 0.9415558436727733, 0.9500482889953226, 0.9351497749374236, 0.9345030800952834, 0.9432756553801338, 0.9042778429842109, 0.9026188518665087, 0.9233033429983746, 0.8916598128257167, 0.9405973823733188, 0.9381084908873565, 0.9269704000341796, 0.9507314510662663, 0.9422669730512269, 0.9416754151198422, 0.9447076738547757, 0.9414051010408679, 0.9429412984781518, 0.9423913682069103, 0.9422669730512269, 0.937164869291561, 0.9507314510662663, 0.9480754111492935, 0.9269704000341796, 0.9393761555613747, 0.9384842476345732, 0.927879498081805, 0.9442319060187593, 0.5361132158244967, 0.9422918988026915, 0.9233233194321459, 0.9438997335983548, 0.9518139777242964, 0.9370808240059187, 0.9414664435419018, 0.9518139777242964, 0.9416292560901599, 0.9502346458375459, 0.9507314510662663, 0.945323231779885, 0.9426686570132052, 0.9422669730512269, 0.9516477782597565, 0.9224653921843764, 0.9426841787085808, 0.9429412984781518, 0.9367154782497205, 0.9449316040267769, 0.9443312936291246, 0.9429412984781518, 0.9372838070931049, 0.9526978393098176, 0.9442319060187593, 0.9507314510662663, 0.9392420230795686, 0.9429412984781518, 0.9429412984781518, 0.9519506814397255, 0.9435336101918981, 0.9435664861107831, 0.9481976596446942]}, {\"categories\": [\"0\", \"1\", \"2\", \"3\", \"4\", \"5\", \"6\", \"7\", \"8\", \"9\", \"10\", \"11\", \"12\", \"13\", \"14\", \"15\", \"16\", \"17\", \"18\", \"19\", \"20\", \"21\", \"22\", \"23\", \"24\", \"25\", \"26\", \"27\", \"28\", \"29\", \"30\", \"31\", \"32\", \"33\", \"34\", \"35\", \"36\", \"37\", \"38\", \"39\", \"40\", \"41\", \"42\", \"43\", \"44\", \"45\", \"46\", \"47\", \"48\", \"49\", \"50\", \"51\", \"52\", \"53\", \"54\", \"55\", \"56\", \"57\", \"58\", \"59\", \"60\", \"61\", \"62\", \"63\", \"64\", \"65\", \"66\", \"67\", \"68\", \"69\", \"70\", \"71\", \"72\", \"73\", \"74\", \"75\", \"76\", \"77\"], \"mode\": \"lines\", \"name\": \"precision_score_macro_max\", \"stepped\": true, \"type\": \"scatter\", \"data\": [0.937375086539106, 0.9391344952595839, 0.9391344952595839, 0.9404213444634257, 0.9438821897387056, 0.9438821897387056, 0.9438821897387056, 0.9438821897387056, 0.9438821897387056, 0.9438821897387056, 0.9438821897387056, 0.9438821897387056, 0.9438821897387056, 0.9438821897387056, 0.9438821897387056, 0.9438821897387056, 0.9438821897387056, 0.9438821897387056, 0.9500482889953226, 0.9500482889953226, 0.9500482889953226, 0.9500482889953226, 0.9500482889953226, 0.9500482889953226, 0.9500482889953226, 0.9500482889953226, 0.9500482889953226, 0.9500482889953226, 0.9500482889953226, 0.9507314510662663, 0.9507314510662663, 0.9507314510662663, 0.9507314510662663, 0.9507314510662663, 0.9507314510662663, 0.9507314510662663, 0.9507314510662663, 0.9507314510662663, 0.9507314510662663, 0.9507314510662663, 0.9507314510662663, 0.9507314510662663, 0.9507314510662663, 0.9507314510662663, 0.9507314510662663, 0.9507314510662663, 0.9507314510662663, 0.9507314510662663, 0.9507314510662663, 0.9518139777242964, 0.9518139777242964, 0.9518139777242964, 0.9518139777242964, 0.9518139777242964, 0.9518139777242964, 0.9518139777242964, 0.9518139777242964, 0.9518139777242964, 0.9518139777242964, 0.9518139777242964, 0.9518139777242964, 0.9518139777242964, 0.9518139777242964, 0.9518139777242964, 0.9518139777242964, 0.9518139777242964, 0.9518139777242964, 0.9518139777242964, 0.9526978393098176, 0.9526978393098176, 0.9526978393098176, 0.9526978393098176, 0.9526978393098176, 0.9526978393098176, 0.9526978393098176, 0.9526978393098176, 0.9526978393098176, 0.9526978393098176]}], \"recall_score_micro\": [{\"categories\": [\"0\", \"1\", \"2\", \"3\", \"4\", \"5\", \"6\", \"7\", \"8\", \"9\", \"10\", \"11\", \"12\", \"13\", \"14\", \"15\", \"16\", \"17\", \"18\", \"19\", \"20\", \"21\", \"22\", \"23\", \"24\", \"25\", \"26\", \"27\", \"28\", \"29\", \"30\", \"31\", \"32\", \"33\", \"34\", \"35\", \"36\", \"37\", \"38\", \"39\", \"40\", \"41\", \"42\", \"43\", \"44\", \"45\", \"46\", \"47\", \"48\", \"49\", \"50\", \"51\", \"52\", \"53\", \"54\", \"55\", \"56\", \"57\", \"58\", \"59\", \"60\", \"61\", \"62\", \"63\", \"64\", \"65\", \"66\", \"67\", \"68\", \"69\", \"70\", \"71\", \"72\", \"73\", \"74\", \"75\", \"76\", \"77\"], \"mode\": \"markers\", \"name\": \"recall_score_micro\", \"stepped\": false, \"type\": \"scatter\", \"data\": [0.931387567523986, 0.9377489317100702, 0.9301056196081593, 0.9339192130936063, 0.9389986293638636, 0.9300975570426508, 0.876779811335967, 0.9390228170603887, 0.937724744013545, 0.8958074659356609, 0.9390147544948804, 0.937724744013545, 0.9034185277755382, 0.9326533903087963, 0.9148512456663711, 0.9275578489075222, 0.9326614528743047, 0.9402886398451986, 0.947915826816093, 0.9275578489075222, 0.9288317342578409, 0.9377247440135452, 0.8958074659356609, 0.8957832782391357, 0.9097637668306054, 0.8806095299524308, 0.9390147544948804, 0.9313633798274612, 0.9148351205353544, 0.9479077642505847, 0.9364508586632265, 0.9402967024107071, 0.9428283479803273, 0.9351850358784166, 0.9415625251955172, 0.9364589212287349, 0.9364508586632265, 0.9300894944771425, 0.9479077642505847, 0.9440941707651375, 0.9148351205353544, 0.9377569942755786, 0.9313795049584778, 0.9161170684511812, 0.9428283479803273, 0.5349350963476578, 0.9364589212287349, 0.9097476416995889, 0.9390147544948801, 0.9491816496009029, 0.9300894944771427, 0.935193098443925, 0.9491816496009029, 0.9402886398451986, 0.946633878900266, 0.9479077642505847, 0.9402886398451986, 0.9415544626300087, 0.9364508586632265, 0.9491735870353948, 0.9084737563492704, 0.9364508586632265, 0.9415625251955172, 0.9301056196081593, 0.9402886398451986, 0.9402805772796905, 0.9415625251955172, 0.931379504958478, 0.9504394098202049, 0.9428283479803273, 0.9479077642505847, 0.9326453277432879, 0.9415625251955172, 0.9415625251955172, 0.9491735870353946, 0.9390228170603885, 0.9377328065790534, 0.942796097718294]}, {\"categories\": [\"0\", \"1\", \"2\", \"3\", \"4\", \"5\", \"6\", \"7\", \"8\", \"9\", \"10\", \"11\", \"12\", \"13\", \"14\", \"15\", \"16\", \"17\", \"18\", \"19\", \"20\", \"21\", \"22\", \"23\", \"24\", \"25\", \"26\", \"27\", \"28\", \"29\", \"30\", \"31\", \"32\", \"33\", \"34\", \"35\", \"36\", \"37\", \"38\", \"39\", \"40\", \"41\", \"42\", \"43\", \"44\", \"45\", \"46\", \"47\", \"48\", \"49\", \"50\", \"51\", \"52\", \"53\", \"54\", \"55\", \"56\", \"57\", \"58\", \"59\", \"60\", \"61\", \"62\", \"63\", \"64\", \"65\", \"66\", \"67\", \"68\", \"69\", \"70\", \"71\", \"72\", \"73\", \"74\", \"75\", \"76\", \"77\"], \"mode\": \"lines\", \"name\": \"recall_score_micro_max\", \"stepped\": true, \"type\": \"scatter\", \"data\": [0.931387567523986, 0.9377489317100702, 0.9377489317100702, 0.9377489317100702, 0.9389986293638636, 0.9389986293638636, 0.9389986293638636, 0.9390228170603887, 0.9390228170603887, 0.9390228170603887, 0.9390228170603887, 0.9390228170603887, 0.9390228170603887, 0.9390228170603887, 0.9390228170603887, 0.9390228170603887, 0.9390228170603887, 0.9402886398451986, 0.947915826816093, 0.947915826816093, 0.947915826816093, 0.947915826816093, 0.947915826816093, 0.947915826816093, 0.947915826816093, 0.947915826816093, 0.947915826816093, 0.947915826816093, 0.947915826816093, 0.947915826816093, 0.947915826816093, 0.947915826816093, 0.947915826816093, 0.947915826816093, 0.947915826816093, 0.947915826816093, 0.947915826816093, 0.947915826816093, 0.947915826816093, 0.947915826816093, 0.947915826816093, 0.947915826816093, 0.947915826816093, 0.947915826816093, 0.947915826816093, 0.947915826816093, 0.947915826816093, 0.947915826816093, 0.947915826816093, 0.9491816496009029, 0.9491816496009029, 0.9491816496009029, 0.9491816496009029, 0.9491816496009029, 0.9491816496009029, 0.9491816496009029, 0.9491816496009029, 0.9491816496009029, 0.9491816496009029, 0.9491816496009029, 0.9491816496009029, 0.9491816496009029, 0.9491816496009029, 0.9491816496009029, 0.9491816496009029, 0.9491816496009029, 0.9491816496009029, 0.9491816496009029, 0.9504394098202049, 0.9504394098202049, 0.9504394098202049, 0.9504394098202049, 0.9504394098202049, 0.9504394098202049, 0.9504394098202049, 0.9504394098202049, 0.9504394098202049, 0.9504394098202049]}], \"precision_score_micro\": [{\"categories\": [\"0\", \"1\", \"2\", \"3\", \"4\", \"5\", \"6\", \"7\", \"8\", \"9\", \"10\", \"11\", \"12\", \"13\", \"14\", \"15\", \"16\", \"17\", \"18\", \"19\", \"20\", \"21\", \"22\", \"23\", \"24\", \"25\", \"26\", \"27\", \"28\", \"29\", \"30\", \"31\", \"32\", \"33\", \"34\", \"35\", \"36\", \"37\", \"38\", \"39\", \"40\", \"41\", \"42\", \"43\", \"44\", \"45\", \"46\", \"47\", \"48\", \"49\", \"50\", \"51\", \"52\", \"53\", \"54\", \"55\", \"56\", \"57\", \"58\", \"59\", \"60\", \"61\", \"62\", \"63\", \"64\", \"65\", \"66\", \"67\", \"68\", \"69\", \"70\", \"71\", \"72\", \"73\", \"74\", \"75\", \"76\", \"77\"], \"mode\": \"markers\", \"name\": \"precision_score_micro\", \"stepped\": false, \"type\": \"scatter\", \"data\": [0.931387567523986, 0.9377489317100702, 0.9301056196081593, 0.9339192130936063, 0.9389986293638636, 0.9300975570426508, 0.876779811335967, 0.9390228170603887, 0.937724744013545, 0.8958074659356609, 0.9390147544948804, 0.937724744013545, 0.9034185277755382, 0.9326533903087963, 0.9148512456663711, 0.9275578489075222, 0.9326614528743047, 0.9402886398451986, 0.947915826816093, 0.9275578489075222, 0.9288317342578409, 0.9377247440135452, 0.8958074659356609, 0.8957832782391357, 0.9097637668306054, 0.8806095299524308, 0.9390147544948804, 0.9313633798274612, 0.9148351205353544, 0.9479077642505847, 0.9364508586632265, 0.9402967024107071, 0.9428283479803273, 0.9351850358784166, 0.9415625251955172, 0.9364589212287349, 0.9364508586632265, 0.9300894944771425, 0.9479077642505847, 0.9440941707651375, 0.9148351205353544, 0.9377569942755786, 0.9313795049584778, 0.9161170684511812, 0.9428283479803273, 0.5349350963476578, 0.9364589212287349, 0.9097476416995889, 0.9390147544948801, 0.9491816496009029, 0.9300894944771427, 0.935193098443925, 0.9491816496009029, 0.9402886398451986, 0.946633878900266, 0.9479077642505847, 0.9402886398451986, 0.9415544626300087, 0.9364508586632265, 0.9491735870353948, 0.9084737563492704, 0.9364508586632265, 0.9415625251955172, 0.9301056196081593, 0.9402886398451986, 0.9402805772796905, 0.9415625251955172, 0.931379504958478, 0.9504394098202049, 0.9428283479803273, 0.9479077642505847, 0.9326453277432879, 0.9415625251955172, 0.9415625251955172, 0.9491735870353946, 0.9390228170603885, 0.9377328065790534, 0.942796097718294]}, {\"categories\": [\"0\", \"1\", \"2\", \"3\", \"4\", \"5\", \"6\", \"7\", \"8\", \"9\", \"10\", \"11\", \"12\", \"13\", \"14\", \"15\", \"16\", \"17\", \"18\", \"19\", \"20\", \"21\", \"22\", \"23\", \"24\", \"25\", \"26\", \"27\", \"28\", \"29\", \"30\", \"31\", \"32\", \"33\", \"34\", \"35\", \"36\", \"37\", \"38\", \"39\", \"40\", \"41\", \"42\", \"43\", \"44\", \"45\", \"46\", \"47\", \"48\", \"49\", \"50\", \"51\", \"52\", \"53\", \"54\", \"55\", \"56\", \"57\", \"58\", \"59\", \"60\", \"61\", \"62\", \"63\", \"64\", \"65\", \"66\", \"67\", \"68\", \"69\", \"70\", \"71\", \"72\", \"73\", \"74\", \"75\", \"76\", \"77\"], \"mode\": \"lines\", \"name\": \"precision_score_micro_max\", \"stepped\": true, \"type\": \"scatter\", \"data\": [0.931387567523986, 0.9377489317100702, 0.9377489317100702, 0.9377489317100702, 0.9389986293638636, 0.9389986293638636, 0.9389986293638636, 0.9390228170603887, 0.9390228170603887, 0.9390228170603887, 0.9390228170603887, 0.9390228170603887, 0.9390228170603887, 0.9390228170603887, 0.9390228170603887, 0.9390228170603887, 0.9390228170603887, 0.9402886398451986, 0.947915826816093, 0.947915826816093, 0.947915826816093, 0.947915826816093, 0.947915826816093, 0.947915826816093, 0.947915826816093, 0.947915826816093, 0.947915826816093, 0.947915826816093, 0.947915826816093, 0.947915826816093, 0.947915826816093, 0.947915826816093, 0.947915826816093, 0.947915826816093, 0.947915826816093, 0.947915826816093, 0.947915826816093, 0.947915826816093, 0.947915826816093, 0.947915826816093, 0.947915826816093, 0.947915826816093, 0.947915826816093, 0.947915826816093, 0.947915826816093, 0.947915826816093, 0.947915826816093, 0.947915826816093, 0.947915826816093, 0.9491816496009029, 0.9491816496009029, 0.9491816496009029, 0.9491816496009029, 0.9491816496009029, 0.9491816496009029, 0.9491816496009029, 0.9491816496009029, 0.9491816496009029, 0.9491816496009029, 0.9491816496009029, 0.9491816496009029, 0.9491816496009029, 0.9491816496009029, 0.9491816496009029, 0.9491816496009029, 0.9491816496009029, 0.9491816496009029, 0.9491816496009029, 0.9504394098202049, 0.9504394098202049, 0.9504394098202049, 0.9504394098202049, 0.9504394098202049, 0.9504394098202049, 0.9504394098202049, 0.9504394098202049, 0.9504394098202049, 0.9504394098202049]}], \"f1_score_weighted\": [{\"categories\": [\"0\", \"1\", \"2\", \"3\", \"4\", \"5\", \"6\", \"7\", \"8\", \"9\", \"10\", \"11\", \"12\", \"13\", \"14\", \"15\", \"16\", \"17\", \"18\", \"19\", \"20\", \"21\", \"22\", \"23\", \"24\", \"25\", \"26\", \"27\", \"28\", \"29\", \"30\", \"31\", \"32\", \"33\", \"34\", \"35\", \"36\", \"37\", \"38\", \"39\", \"40\", \"41\", \"42\", \"43\", \"44\", \"45\", \"46\", \"47\", \"48\", \"49\", \"50\", \"51\", \"52\", \"53\", \"54\", \"55\", \"56\", \"57\", \"58\", \"59\", \"60\", \"61\", \"62\", \"63\", \"64\", \"65\", \"66\", \"67\", \"68\", \"69\", \"70\", \"71\", \"72\", \"73\", \"74\", \"75\", \"76\", \"77\"], \"mode\": \"markers\", \"name\": \"f1_score_weighted\", \"stepped\": false, \"type\": \"scatter\", \"data\": [0.9311949635234293, 0.9377199040624744, 0.9298534557422145, 0.9336855358819621, 0.9388499426488389, 0.9298074998547516, 0.8748983603259697, 0.9389914259264778, 0.9375638525869796, 0.8947886982466156, 0.9389892518483745, 0.9375362611254576, 0.9027433825958884, 0.9324208825520335, 0.9144315148260092, 0.927259669130143, 0.9324532301880316, 0.9402625170013461, 0.947876201071068, 0.927259669130143, 0.928633273908366, 0.9375485663070151, 0.89532482038858, 0.895370864965116, 0.9090655279407922, 0.8799923324927784, 0.9389755908849338, 0.9311203227836631, 0.9142659991352945, 0.9478416431102137, 0.9362595835404115, 0.9402646910794491, 0.9427871658588594, 0.9349710494660897, 0.9415337101690465, 0.9362632870556749, 0.9362595835404115, 0.9298205948143761, 0.9478416431102137, 0.9439878933601122, 0.9142659991352945, 0.9377184291680137, 0.9311226267793444, 0.9155683069249634, 0.9428008996235431, 0.5348742037006146, 0.9362630527228875, 0.909057660662903, 0.938868018488703, 0.9491305108014751, 0.9298273990552637, 0.9349860947806341, 0.9491305108014751, 0.9402604450160748, 0.9465393025598188, 0.9478416431102137, 0.9401328317045268, 0.9415315849495964, 0.9362595835404115, 0.9491263514153824, 0.9077436773226246, 0.9362389544490466, 0.9415337101690465, 0.9298499047766994, 0.9401540695742353, 0.94016682395977, 0.9415337101690465, 0.9311748976843541, 0.9504018175887229, 0.9428008996235431, 0.9478416431102137, 0.9324088582969159, 0.9415337101690465, 0.9415337101690465, 0.9491195251919426, 0.9388921523261923, 0.9375475505596989, 0.9426091351087955]}, {\"categories\": [\"0\", \"1\", \"2\", \"3\", \"4\", \"5\", \"6\", \"7\", \"8\", \"9\", \"10\", \"11\", \"12\", \"13\", \"14\", \"15\", \"16\", \"17\", \"18\", \"19\", \"20\", \"21\", \"22\", \"23\", \"24\", \"25\", \"26\", \"27\", \"28\", \"29\", \"30\", \"31\", \"32\", \"33\", \"34\", \"35\", \"36\", \"37\", \"38\", \"39\", \"40\", \"41\", \"42\", \"43\", \"44\", \"45\", \"46\", \"47\", \"48\", \"49\", \"50\", \"51\", \"52\", \"53\", \"54\", \"55\", \"56\", \"57\", \"58\", \"59\", \"60\", \"61\", \"62\", \"63\", \"64\", \"65\", \"66\", \"67\", \"68\", \"69\", \"70\", \"71\", \"72\", \"73\", \"74\", \"75\", \"76\", \"77\"], \"mode\": \"lines\", \"name\": \"f1_score_weighted_max\", \"stepped\": true, \"type\": \"scatter\", \"data\": [0.9311949635234293, 0.9377199040624744, 0.9377199040624744, 0.9377199040624744, 0.9388499426488389, 0.9388499426488389, 0.9388499426488389, 0.9389914259264778, 0.9389914259264778, 0.9389914259264778, 0.9389914259264778, 0.9389914259264778, 0.9389914259264778, 0.9389914259264778, 0.9389914259264778, 0.9389914259264778, 0.9389914259264778, 0.9402625170013461, 0.947876201071068, 0.947876201071068, 0.947876201071068, 0.947876201071068, 0.947876201071068, 0.947876201071068, 0.947876201071068, 0.947876201071068, 0.947876201071068, 0.947876201071068, 0.947876201071068, 0.947876201071068, 0.947876201071068, 0.947876201071068, 0.947876201071068, 0.947876201071068, 0.947876201071068, 0.947876201071068, 0.947876201071068, 0.947876201071068, 0.947876201071068, 0.947876201071068, 0.947876201071068, 0.947876201071068, 0.947876201071068, 0.947876201071068, 0.947876201071068, 0.947876201071068, 0.947876201071068, 0.947876201071068, 0.947876201071068, 0.9491305108014751, 0.9491305108014751, 0.9491305108014751, 0.9491305108014751, 0.9491305108014751, 0.9491305108014751, 0.9491305108014751, 0.9491305108014751, 0.9491305108014751, 0.9491305108014751, 0.9491305108014751, 0.9491305108014751, 0.9491305108014751, 0.9491305108014751, 0.9491305108014751, 0.9491305108014751, 0.9491305108014751, 0.9491305108014751, 0.9491305108014751, 0.9504018175887229, 0.9504018175887229, 0.9504018175887229, 0.9504018175887229, 0.9504018175887229, 0.9504018175887229, 0.9504018175887229, 0.9504018175887229, 0.9504018175887229, 0.9504018175887229]}], \"balanced_accuracy\": [{\"categories\": [\"0\", \"1\", \"2\", \"3\", \"4\", \"5\", \"6\", \"7\", \"8\", \"9\", \"10\", \"11\", \"12\", \"13\", \"14\", \"15\", \"16\", \"17\", \"18\", \"19\", \"20\", \"21\", \"22\", \"23\", \"24\", \"25\", \"26\", \"27\", \"28\", \"29\", \"30\", \"31\", \"32\", \"33\", \"34\", \"35\", \"36\", \"37\", \"38\", \"39\", \"40\", \"41\", \"42\", \"43\", \"44\", \"45\", \"46\", \"47\", \"48\", \"49\", \"50\", \"51\", \"52\", \"53\", \"54\", \"55\", \"56\", \"57\", \"58\", \"59\", \"60\", \"61\", \"62\", \"63\", \"64\", \"65\", \"66\", \"67\", \"68\", \"69\", \"70\", \"71\", \"72\", \"73\", \"74\", \"75\", \"76\", \"77\"], \"mode\": \"markers\", \"name\": \"balanced_accuracy\", \"stepped\": false, \"type\": \"scatter\", \"data\": [0.9317996806217753, 0.9381233295817186, 0.9303523847847434, 0.9342335921849383, 0.9392165782691251, 0.9305646378867326, 0.8781965320438502, 0.9392656097718977, 0.9379955304947754, 0.8967478534701814, 0.9393331203204209, 0.9381093516329866, 0.9035165216243733, 0.9329164873488459, 0.9160501015424962, 0.9279330247741069, 0.9328652052975638, 0.9406151716024722, 0.9481795582343142, 0.9279330247741069, 0.9290908355042069, 0.9381255801302281, 0.8961301236758201, 0.8968507999877209, 0.9100476907034413, 0.8827085673717369, 0.9393794309101091, 0.9318087842221555, 0.91543386956523, 0.9481359576717263, 0.9368435288481767, 0.9405476610539492, 0.9430275565877156, 0.9356224810738268, 0.9418809943872823, 0.9369045323558783, 0.9368435288481767, 0.9305267329401044, 0.9481359576717263, 0.9442034767262302, 0.91543386956523, 0.9381233295817186, 0.9317166395333315, 0.9164840050665848, 0.9432143277206156, 0.5359620826339522, 0.9367366912413392, 0.9103401335012868, 0.9392262997255447, 0.9492867933764331, 0.9304214309124943, 0.9354855613745425, 0.9492867933764331, 0.9405989431052311, 0.9466278081984605, 0.9481359576717263, 0.940390256365111, 0.9419905335152396, 0.9368435288481767, 0.9492867933764332, 0.909120621306165, 0.9368435288481767, 0.9418809943872823, 0.9301220045832748, 0.940508351007596, 0.9403685799157238, 0.9418809943872823, 0.9316899916223502, 0.9506756822653222, 0.9432143277206156, 0.9481359576717263, 0.9329677694001279, 0.9418809943872823, 0.9418809943872823, 0.9493543039249562, 0.9391750176742626, 0.9380777339613122, 0.9433150085320025]}, {\"categories\": [\"0\", \"1\", \"2\", \"3\", \"4\", \"5\", \"6\", \"7\", \"8\", \"9\", \"10\", \"11\", \"12\", \"13\", \"14\", \"15\", \"16\", \"17\", \"18\", \"19\", \"20\", \"21\", \"22\", \"23\", \"24\", \"25\", \"26\", \"27\", \"28\", \"29\", \"30\", \"31\", \"32\", \"33\", \"34\", \"35\", \"36\", \"37\", \"38\", \"39\", \"40\", \"41\", \"42\", \"43\", \"44\", \"45\", \"46\", \"47\", \"48\", \"49\", \"50\", \"51\", \"52\", \"53\", \"54\", \"55\", \"56\", \"57\", \"58\", \"59\", \"60\", \"61\", \"62\", \"63\", \"64\", \"65\", \"66\", \"67\", \"68\", \"69\", \"70\", \"71\", \"72\", \"73\", \"74\", \"75\", \"76\", \"77\"], \"mode\": \"lines\", \"name\": \"balanced_accuracy_max\", \"stepped\": true, \"type\": \"scatter\", \"data\": [0.9317996806217753, 0.9381233295817186, 0.9381233295817186, 0.9381233295817186, 0.9392165782691251, 0.9392165782691251, 0.9392165782691251, 0.9392656097718977, 0.9392656097718977, 0.9392656097718977, 0.9393331203204209, 0.9393331203204209, 0.9393331203204209, 0.9393331203204209, 0.9393331203204209, 0.9393331203204209, 0.9393331203204209, 0.9406151716024722, 0.9481795582343142, 0.9481795582343142, 0.9481795582343142, 0.9481795582343142, 0.9481795582343142, 0.9481795582343142, 0.9481795582343142, 0.9481795582343142, 0.9481795582343142, 0.9481795582343142, 0.9481795582343142, 0.9481795582343142, 0.9481795582343142, 0.9481795582343142, 0.9481795582343142, 0.9481795582343142, 0.9481795582343142, 0.9481795582343142, 0.9481795582343142, 0.9481795582343142, 0.9481795582343142, 0.9481795582343142, 0.9481795582343142, 0.9481795582343142, 0.9481795582343142, 0.9481795582343142, 0.9481795582343142, 0.9481795582343142, 0.9481795582343142, 0.9481795582343142, 0.9481795582343142, 0.9492867933764331, 0.9492867933764331, 0.9492867933764331, 0.9492867933764331, 0.9492867933764331, 0.9492867933764331, 0.9492867933764331, 0.9492867933764331, 0.9492867933764331, 0.9492867933764331, 0.9492867933764332, 0.9492867933764332, 0.9492867933764332, 0.9492867933764332, 0.9492867933764332, 0.9492867933764332, 0.9492867933764332, 0.9492867933764332, 0.9492867933764332, 0.9506756822653222, 0.9506756822653222, 0.9506756822653222, 0.9506756822653222, 0.9506756822653222, 0.9506756822653222, 0.9506756822653222, 0.9506756822653222, 0.9506756822653222, 0.9506756822653222]}], \"matthews_correlation\": [{\"categories\": [\"0\", \"1\", \"2\", \"3\", \"4\", \"5\", \"6\", \"7\", \"8\", \"9\", \"10\", \"11\", \"12\", \"13\", \"14\", \"15\", \"16\", \"17\", \"18\", \"19\", \"20\", \"21\", \"22\", \"23\", \"24\", \"25\", \"26\", \"27\", \"28\", \"29\", \"30\", \"31\", \"32\", \"33\", \"34\", \"35\", \"36\", \"37\", \"38\", \"39\", \"40\", \"41\", \"42\", \"43\", \"44\", \"45\", \"46\", \"47\", \"48\", \"49\", \"50\", \"51\", \"52\", \"53\", \"54\", \"55\", \"56\", \"57\", \"58\", \"59\", \"60\", \"61\", \"62\", \"63\", \"64\", \"65\", \"66\", \"67\", \"68\", \"69\", \"70\", \"71\", \"72\", \"73\", \"74\", \"75\", \"76\", \"77\"], \"mode\": \"markers\", \"name\": \"matthews_correlation\", \"stepped\": false, \"type\": \"scatter\", \"data\": [0.8691502828778971, 0.8772563519760549, 0.8671045583271679, 0.8746203754801603, 0.8830771965438909, 0.8685025385772274, 0.7757787475934015, 0.879627588583959, 0.880778673141724, 0.8092901159569099, 0.8795756303930439, 0.8815298645608427, 0.8190890189298093, 0.8720404786897464, 0.8398909861445493, 0.8630388209640749, 0.8715234804473967, 0.8821697216291391, 0.8982236904100078, 0.8630388209640749, 0.8635669707504011, 0.8813777026791701, 0.8003421206420583, 0.7994245704900504, 0.833227810568248, 0.7742769738071805, 0.8799747925519045, 0.8698841510911015, 0.8423168328837832, 0.8988594235417061, 0.8790846565899905, 0.8822216798200542, 0.8877319858092001, 0.8769985806253853, 0.884820845789004, 0.8792699429331268, 0.8790846565899905, 0.867653558038169, 0.8988594235417061, 0.8922614148653855, 0.8423168328837832, 0.8774974643288072, 0.8701634699332483, 0.844273514934138, 0.8874447419048016, 0.07207517138997374, 0.878999497533945, 0.8335527583494994, 0.883104460238239, 0.9010925927604119, 0.867464752754811, 0.8769219161566955, 0.9010925927604119, 0.8822267545529089, 0.8968455208986349, 0.8988594235417061, 0.8856877697341206, 0.884658380473826, 0.8790846565899905, 0.900926748457786, 0.8314686243655418, 0.8794986626579913, 0.884820845789004, 0.8667939856874576, 0.8854200873431093, 0.8846814268080345, 0.884820845789004, 0.8689449549091378, 0.9033680539595649, 0.8874447419048016, 0.8988594235417061, 0.8721751675093079, 0.884820845789004, 0.884820845789004, 0.90129680281385, 0.8826887101368026, 0.8816183302101018, 0.8914891409739478]}, {\"categories\": [\"0\", \"1\", \"2\", \"3\", \"4\", \"5\", \"6\", \"7\", \"8\", \"9\", \"10\", \"11\", \"12\", \"13\", \"14\", \"15\", \"16\", \"17\", \"18\", \"19\", \"20\", \"21\", \"22\", \"23\", \"24\", \"25\", \"26\", \"27\", \"28\", \"29\", \"30\", \"31\", \"32\", \"33\", \"34\", \"35\", \"36\", \"37\", \"38\", \"39\", \"40\", \"41\", \"42\", \"43\", \"44\", \"45\", \"46\", \"47\", \"48\", \"49\", \"50\", \"51\", \"52\", \"53\", \"54\", \"55\", \"56\", \"57\", \"58\", \"59\", \"60\", \"61\", \"62\", \"63\", \"64\", \"65\", \"66\", \"67\", \"68\", \"69\", \"70\", \"71\", \"72\", \"73\", \"74\", \"75\", \"76\", \"77\"], \"mode\": \"lines\", \"name\": \"matthews_correlation_max\", \"stepped\": true, \"type\": \"scatter\", \"data\": [0.8691502828778971, 0.8772563519760549, 0.8772563519760549, 0.8772563519760549, 0.8830771965438909, 0.8830771965438909, 0.8830771965438909, 0.8830771965438909, 0.8830771965438909, 0.8830771965438909, 0.8830771965438909, 0.8830771965438909, 0.8830771965438909, 0.8830771965438909, 0.8830771965438909, 0.8830771965438909, 0.8830771965438909, 0.8830771965438909, 0.8982236904100078, 0.8982236904100078, 0.8982236904100078, 0.8982236904100078, 0.8982236904100078, 0.8982236904100078, 0.8982236904100078, 0.8982236904100078, 0.8982236904100078, 0.8982236904100078, 0.8982236904100078, 0.8988594235417061, 0.8988594235417061, 0.8988594235417061, 0.8988594235417061, 0.8988594235417061, 0.8988594235417061, 0.8988594235417061, 0.8988594235417061, 0.8988594235417061, 0.8988594235417061, 0.8988594235417061, 0.8988594235417061, 0.8988594235417061, 0.8988594235417061, 0.8988594235417061, 0.8988594235417061, 0.8988594235417061, 0.8988594235417061, 0.8988594235417061, 0.8988594235417061, 0.9010925927604119, 0.9010925927604119, 0.9010925927604119, 0.9010925927604119, 0.9010925927604119, 0.9010925927604119, 0.9010925927604119, 0.9010925927604119, 0.9010925927604119, 0.9010925927604119, 0.9010925927604119, 0.9010925927604119, 0.9010925927604119, 0.9010925927604119, 0.9010925927604119, 0.9010925927604119, 0.9010925927604119, 0.9010925927604119, 0.9010925927604119, 0.9033680539595649, 0.9033680539595649, 0.9033680539595649, 0.9033680539595649, 0.9033680539595649, 0.9033680539595649, 0.9033680539595649, 0.9033680539595649, 0.9033680539595649, 0.9033680539595649]}], \"recall_score_macro\": [{\"categories\": [\"0\", \"1\", \"2\", \"3\", \"4\", \"5\", \"6\", \"7\", \"8\", \"9\", \"10\", \"11\", \"12\", \"13\", \"14\", \"15\", \"16\", \"17\", \"18\", \"19\", \"20\", \"21\", \"22\", \"23\", \"24\", \"25\", \"26\", \"27\", \"28\", \"29\", \"30\", \"31\", \"32\", \"33\", \"34\", \"35\", \"36\", \"37\", \"38\", \"39\", \"40\", \"41\", \"42\", \"43\", \"44\", \"45\", \"46\", \"47\", \"48\", \"49\", \"50\", \"51\", \"52\", \"53\", \"54\", \"55\", \"56\", \"57\", \"58\", \"59\", \"60\", \"61\", \"62\", \"63\", \"64\", \"65\", \"66\", \"67\", \"68\", \"69\", \"70\", \"71\", \"72\", \"73\", \"74\", \"75\", \"76\", \"77\"], \"mode\": \"markers\", \"name\": \"recall_score_macro\", \"stepped\": false, \"type\": \"scatter\", \"data\": [0.9317996806217753, 0.9381233295817186, 0.9303523847847434, 0.9342335921849383, 0.9392165782691251, 0.9305646378867326, 0.8781965320438502, 0.9392656097718977, 0.9379955304947754, 0.8967478534701814, 0.9393331203204209, 0.9381093516329866, 0.9035165216243733, 0.9329164873488459, 0.9160501015424962, 0.9279330247741069, 0.9328652052975638, 0.9406151716024722, 0.9481795582343142, 0.9279330247741069, 0.9290908355042069, 0.9381255801302281, 0.8961301236758201, 0.8968507999877209, 0.9100476907034413, 0.8827085673717369, 0.9393794309101091, 0.9318087842221555, 0.91543386956523, 0.9481359576717263, 0.9368435288481767, 0.9405476610539492, 0.9430275565877156, 0.9356224810738268, 0.9418809943872823, 0.9369045323558783, 0.9368435288481767, 0.9305267329401044, 0.9481359576717263, 0.9442034767262302, 0.91543386956523, 0.9381233295817186, 0.9317166395333315, 0.9164840050665848, 0.9432143277206156, 0.5359620826339522, 0.9367366912413392, 0.9103401335012868, 0.9392262997255447, 0.9492867933764331, 0.9304214309124943, 0.9354855613745425, 0.9492867933764331, 0.9405989431052311, 0.9466278081984605, 0.9481359576717263, 0.940390256365111, 0.9419905335152396, 0.9368435288481767, 0.9492867933764332, 0.909120621306165, 0.9368435288481767, 0.9418809943872823, 0.9301220045832748, 0.940508351007596, 0.9403685799157238, 0.9418809943872823, 0.9316899916223502, 0.9506756822653222, 0.9432143277206156, 0.9481359576717263, 0.9329677694001279, 0.9418809943872823, 0.9418809943872823, 0.9493543039249562, 0.9391750176742626, 0.9380777339613122, 0.9433150085320025]}, {\"categories\": [\"0\", \"1\", \"2\", \"3\", \"4\", \"5\", \"6\", \"7\", \"8\", \"9\", \"10\", \"11\", \"12\", \"13\", \"14\", \"15\", \"16\", \"17\", \"18\", \"19\", \"20\", \"21\", \"22\", \"23\", \"24\", \"25\", \"26\", \"27\", \"28\", \"29\", \"30\", \"31\", \"32\", \"33\", \"34\", \"35\", \"36\", \"37\", \"38\", \"39\", \"40\", \"41\", \"42\", \"43\", \"44\", \"45\", \"46\", \"47\", \"48\", \"49\", \"50\", \"51\", \"52\", \"53\", \"54\", \"55\", \"56\", \"57\", \"58\", \"59\", \"60\", \"61\", \"62\", \"63\", \"64\", \"65\", \"66\", \"67\", \"68\", \"69\", \"70\", \"71\", \"72\", \"73\", \"74\", \"75\", \"76\", \"77\"], \"mode\": \"lines\", \"name\": \"recall_score_macro_max\", \"stepped\": true, \"type\": \"scatter\", \"data\": [0.9317996806217753, 0.9381233295817186, 0.9381233295817186, 0.9381233295817186, 0.9392165782691251, 0.9392165782691251, 0.9392165782691251, 0.9392656097718977, 0.9392656097718977, 0.9392656097718977, 0.9393331203204209, 0.9393331203204209, 0.9393331203204209, 0.9393331203204209, 0.9393331203204209, 0.9393331203204209, 0.9393331203204209, 0.9406151716024722, 0.9481795582343142, 0.9481795582343142, 0.9481795582343142, 0.9481795582343142, 0.9481795582343142, 0.9481795582343142, 0.9481795582343142, 0.9481795582343142, 0.9481795582343142, 0.9481795582343142, 0.9481795582343142, 0.9481795582343142, 0.9481795582343142, 0.9481795582343142, 0.9481795582343142, 0.9481795582343142, 0.9481795582343142, 0.9481795582343142, 0.9481795582343142, 0.9481795582343142, 0.9481795582343142, 0.9481795582343142, 0.9481795582343142, 0.9481795582343142, 0.9481795582343142, 0.9481795582343142, 0.9481795582343142, 0.9481795582343142, 0.9481795582343142, 0.9481795582343142, 0.9481795582343142, 0.9492867933764331, 0.9492867933764331, 0.9492867933764331, 0.9492867933764331, 0.9492867933764331, 0.9492867933764331, 0.9492867933764331, 0.9492867933764331, 0.9492867933764331, 0.9492867933764331, 0.9492867933764332, 0.9492867933764332, 0.9492867933764332, 0.9492867933764332, 0.9492867933764332, 0.9492867933764332, 0.9492867933764332, 0.9492867933764332, 0.9492867933764332, 0.9506756822653222, 0.9506756822653222, 0.9506756822653222, 0.9506756822653222, 0.9506756822653222, 0.9506756822653222, 0.9506756822653222, 0.9506756822653222, 0.9506756822653222, 0.9506756822653222]}], \"weighted_accuracy\": [{\"categories\": [\"0\", \"1\", \"2\", \"3\", \"4\", \"5\", \"6\", \"7\", \"8\", \"9\", \"10\", \"11\", \"12\", \"13\", \"14\", \"15\", \"16\", \"17\", \"18\", \"19\", \"20\", \"21\", \"22\", \"23\", \"24\", \"25\", \"26\", \"27\", \"28\", \"29\", \"30\", \"31\", \"32\", \"33\", \"34\", \"35\", \"36\", \"37\", \"38\", \"39\", \"40\", \"41\", \"42\", \"43\", \"44\", \"45\", \"46\", \"47\", \"48\", \"49\", \"50\", \"51\", \"52\", \"53\", \"54\", \"55\", \"56\", \"57\", \"58\", \"59\", \"60\", \"61\", \"62\", \"63\", \"64\", \"65\", \"66\", \"67\", \"68\", \"69\", \"70\", \"71\", \"72\", \"73\", \"74\", \"75\", \"76\", \"77\"], \"mode\": \"markers\", \"name\": \"weighted_accuracy\", \"stepped\": false, \"type\": \"scatter\", \"data\": [0.9309677597448595, 0.9373729268912797, 0.9298492716653672, 0.9335955965117625, 0.9387721773590831, 0.929621897926389, 0.8753519594052674, 0.9387777796199209, 0.937445874486332, 0.8948562300968369, 0.9386944898618536, 0.9373325049827285, 0.9033033531603655, 0.9323807118276392, 0.9136519128324114, 0.9271737475221846, 0.9324477744051791, 0.9399602099429896, 0.9476489547623768, 0.9271737475221846, 0.9285643878141997, 0.9373162778022012, 0.8954761921087846, 0.8947141081025698, 0.909464868234944, 0.8785218705048514, 0.9386483943670184, 0.9309106559931506, 0.9142269332489942, 0.9476736318398002, 0.9360505577210653, 0.9400434997010569, 0.9426256339877239, 0.934740270597613, 0.9412421572046528, 0.9360059906787489, 0.9360505577210653, 0.9296449359120146, 0.9476736318398002, 0.9439759302148794, 0.9142269332489942, 0.9373889426405789, 0.9310332304409549, 0.9157383446761406, 0.9424408147082488, 0.5339160184010412, 0.9361716037163506, 0.9091442263884832, 0.9387946728943068, 0.9490701877826659, 0.9297482262742538, 0.9348911849072061, 0.9490701877826659, 0.939976437123517, 0.9466304872753575, 0.9476736318398002, 0.940176699068551, 0.9411181321480214, 0.9360505577210653, 0.9490541720333667, 0.9078161836319849, 0.9360505577210653, 0.9412421572046528, 0.9300772073783315, 0.9400603929754429, 0.9401835098736491, 0.9412421572046528, 0.9310610083287578, 0.9501988461192173, 0.9424408147082488, 0.9476736318398002, 0.9323136492500991, 0.9412421572046528, 0.9412421572046528, 0.9489868980245986, 0.9388617354718468, 0.9373801289300827, 0.9422712824069489]}, {\"categories\": [\"0\", \"1\", \"2\", \"3\", \"4\", \"5\", \"6\", \"7\", \"8\", \"9\", \"10\", \"11\", \"12\", \"13\", \"14\", \"15\", \"16\", \"17\", \"18\", \"19\", \"20\", \"21\", \"22\", \"23\", \"24\", \"25\", \"26\", \"27\", \"28\", \"29\", \"30\", \"31\", \"32\", \"33\", \"34\", \"35\", \"36\", \"37\", \"38\", \"39\", \"40\", \"41\", \"42\", \"43\", \"44\", \"45\", \"46\", \"47\", \"48\", \"49\", \"50\", \"51\", \"52\", \"53\", \"54\", \"55\", \"56\", \"57\", \"58\", \"59\", \"60\", \"61\", \"62\", \"63\", \"64\", \"65\", \"66\", \"67\", \"68\", \"69\", \"70\", \"71\", \"72\", \"73\", \"74\", \"75\", \"76\", \"77\"], \"mode\": \"lines\", \"name\": \"weighted_accuracy_max\", \"stepped\": true, \"type\": \"scatter\", \"data\": [0.9309677597448595, 0.9373729268912797, 0.9373729268912797, 0.9373729268912797, 0.9387721773590831, 0.9387721773590831, 0.9387721773590831, 0.9387777796199209, 0.9387777796199209, 0.9387777796199209, 0.9387777796199209, 0.9387777796199209, 0.9387777796199209, 0.9387777796199209, 0.9387777796199209, 0.9387777796199209, 0.9387777796199209, 0.9399602099429896, 0.9476489547623768, 0.9476489547623768, 0.9476489547623768, 0.9476489547623768, 0.9476489547623768, 0.9476489547623768, 0.9476489547623768, 0.9476489547623768, 0.9476489547623768, 0.9476489547623768, 0.9476489547623768, 0.9476736318398002, 0.9476736318398002, 0.9476736318398002, 0.9476736318398002, 0.9476736318398002, 0.9476736318398002, 0.9476736318398002, 0.9476736318398002, 0.9476736318398002, 0.9476736318398002, 0.9476736318398002, 0.9476736318398002, 0.9476736318398002, 0.9476736318398002, 0.9476736318398002, 0.9476736318398002, 0.9476736318398002, 0.9476736318398002, 0.9476736318398002, 0.9476736318398002, 0.9490701877826659, 0.9490701877826659, 0.9490701877826659, 0.9490701877826659, 0.9490701877826659, 0.9490701877826659, 0.9490701877826659, 0.9490701877826659, 0.9490701877826659, 0.9490701877826659, 0.9490701877826659, 0.9490701877826659, 0.9490701877826659, 0.9490701877826659, 0.9490701877826659, 0.9490701877826659, 0.9490701877826659, 0.9490701877826659, 0.9490701877826659, 0.9501988461192173, 0.9501988461192173, 0.9501988461192173, 0.9501988461192173, 0.9501988461192173, 0.9501988461192173, 0.9501988461192173, 0.9501988461192173, 0.9501988461192173, 0.9501988461192173]}], \"precision_score_weighted\": [{\"categories\": [\"0\", \"1\", \"2\", \"3\", \"4\", \"5\", \"6\", \"7\", \"8\", \"9\", \"10\", \"11\", \"12\", \"13\", \"14\", \"15\", \"16\", \"17\", \"18\", \"19\", \"20\", \"21\", \"22\", \"23\", \"24\", \"25\", \"26\", \"27\", \"28\", \"29\", \"30\", \"31\", \"32\", \"33\", \"34\", \"35\", \"36\", \"37\", \"38\", \"39\", \"40\", \"41\", \"42\", \"43\", \"44\", \"45\", \"46\", \"47\", \"48\", \"49\", \"50\", \"51\", \"52\", \"53\", \"54\", \"55\", \"56\", \"57\", \"58\", \"59\", \"60\", \"61\", \"62\", \"63\", \"64\", \"65\", \"66\", \"67\", \"68\", \"69\", \"70\", \"71\", \"72\", \"73\", \"74\", \"75\", \"76\", \"77\"], \"mode\": \"markers\", \"name\": \"precision_score_weighted\", \"stepped\": false, \"type\": \"scatter\", \"data\": [0.9379135182623433, 0.9396814501401842, 0.9372096085255602, 0.940899186420585, 0.944260868613761, 0.9385911934751633, 0.8992587142226591, 0.9408085145697589, 0.9432264646997133, 0.9137620020190912, 0.940746896425128, 0.9439660472655274, 0.9160432931695979, 0.9395916324968077, 0.9251892387818602, 0.9356797032281184, 0.9390714129845461, 0.942066489514454, 0.9504693256568922, 0.9356797032281184, 0.9349080081404377, 0.9438088975626421, 0.9049053611725034, 0.9037162590208141, 0.9238280483293282, 0.8938941412660373, 0.9411370387290405, 0.9386813048476593, 0.9277007138930685, 0.9511432920440308, 0.9427937905055254, 0.942128107659085, 0.9450756175351538, 0.9419701113023576, 0.9434442427925127, 0.9429626604248718, 0.9427937905055254, 0.9377316729232282, 0.9511432920440308, 0.9483652270771834, 0.9277007138930685, 0.9399266098790621, 0.9389853401993884, 0.9284436796954404, 0.9447867089292826, 0.5374494928882219, 0.9427379726808696, 0.9240550372778564, 0.9442742626498983, 0.952071492002206, 0.9375695286778132, 0.9419296689913249, 0.952071492002206, 0.9421246497031864, 0.9504247984175151, 0.9511432920440308, 0.9456243212380319, 0.9432926598798362, 0.9427937905055254, 0.9519056783542419, 0.923235361563427, 0.9432125304981737, 0.9434442427925127, 0.9369622194359651, 0.9453127055014313, 0.9446010742255744, 0.9434442427925127, 0.9377384996286423, 0.9530487827884857, 0.9447867089292826, 0.9511432920440308, 0.9397269296605831, 0.9434442427925127, 0.9434442427925127, 0.9522706663246264, 0.9438591734532551, 0.944060003813928, 0.9488028468010012]}, {\"categories\": [\"0\", \"1\", \"2\", \"3\", \"4\", \"5\", \"6\", \"7\", \"8\", \"9\", \"10\", \"11\", \"12\", \"13\", \"14\", \"15\", \"16\", \"17\", \"18\", \"19\", \"20\", \"21\", \"22\", \"23\", \"24\", \"25\", \"26\", \"27\", \"28\", \"29\", \"30\", \"31\", \"32\", \"33\", \"34\", \"35\", \"36\", \"37\", \"38\", \"39\", \"40\", \"41\", \"42\", \"43\", \"44\", \"45\", \"46\", \"47\", \"48\", \"49\", \"50\", \"51\", \"52\", \"53\", \"54\", \"55\", \"56\", \"57\", \"58\", \"59\", \"60\", \"61\", \"62\", \"63\", \"64\", \"65\", \"66\", \"67\", \"68\", \"69\", \"70\", \"71\", \"72\", \"73\", \"74\", \"75\", \"76\", \"77\"], \"mode\": \"lines\", \"name\": \"precision_score_weighted_max\", \"stepped\": true, \"type\": \"scatter\", \"data\": [0.9379135182623433, 0.9396814501401842, 0.9396814501401842, 0.940899186420585, 0.944260868613761, 0.944260868613761, 0.944260868613761, 0.944260868613761, 0.944260868613761, 0.944260868613761, 0.944260868613761, 0.944260868613761, 0.944260868613761, 0.944260868613761, 0.944260868613761, 0.944260868613761, 0.944260868613761, 0.944260868613761, 0.9504693256568922, 0.9504693256568922, 0.9504693256568922, 0.9504693256568922, 0.9504693256568922, 0.9504693256568922, 0.9504693256568922, 0.9504693256568922, 0.9504693256568922, 0.9504693256568922, 0.9504693256568922, 0.9511432920440308, 0.9511432920440308, 0.9511432920440308, 0.9511432920440308, 0.9511432920440308, 0.9511432920440308, 0.9511432920440308, 0.9511432920440308, 0.9511432920440308, 0.9511432920440308, 0.9511432920440308, 0.9511432920440308, 0.9511432920440308, 0.9511432920440308, 0.9511432920440308, 0.9511432920440308, 0.9511432920440308, 0.9511432920440308, 0.9511432920440308, 0.9511432920440308, 0.952071492002206, 0.952071492002206, 0.952071492002206, 0.952071492002206, 0.952071492002206, 0.952071492002206, 0.952071492002206, 0.952071492002206, 0.952071492002206, 0.952071492002206, 0.952071492002206, 0.952071492002206, 0.952071492002206, 0.952071492002206, 0.952071492002206, 0.952071492002206, 0.952071492002206, 0.952071492002206, 0.952071492002206, 0.9530487827884857, 0.9530487827884857, 0.9530487827884857, 0.9530487827884857, 0.9530487827884857, 0.9530487827884857, 0.9530487827884857, 0.9530487827884857, 0.9530487827884857, 0.9530487827884857]}], \"average_precision_score_micro\": [{\"categories\": [\"0\", \"1\", \"2\", \"3\", \"4\", \"5\", \"6\", \"7\", \"8\", \"9\", \"10\", \"11\", \"12\", \"13\", \"14\", \"15\", \"16\", \"17\", \"18\", \"19\", \"20\", \"21\", \"22\", \"23\", \"24\", \"25\", \"26\", \"27\", \"28\", \"29\", \"30\", \"31\", \"32\", \"33\", \"34\", \"35\", \"36\", \"37\", \"38\", \"39\", \"40\", \"41\", \"42\", \"43\", \"44\", \"45\", \"46\", \"47\", \"48\", \"49\", \"50\", \"51\", \"52\", \"53\", \"54\", \"55\", \"56\", \"57\", \"58\", \"59\", \"60\", \"61\", \"62\", \"63\", \"64\", \"65\", \"66\", \"67\", \"68\", \"69\", \"70\", \"71\", \"72\", \"73\", \"74\", \"75\", \"76\", \"77\"], \"mode\": \"markers\", \"name\": \"average_precision_score_micro\", \"stepped\": false, \"type\": \"scatter\", \"data\": [0.9767808183507839, 0.9776781785075807, 0.9808325515320693, 0.9817312506682221, 0.9831862480661598, 0.9825717634698762, 0.9359435475105897, 0.9796845120261894, 0.9835893466283586, 0.9521274335448799, 0.9791877787525609, 0.9838100101375229, 0.9606545556217754, 0.9771595778762198, 0.9615785558600909, 0.9807557375051719, 0.9777437142931227, 0.9788807642854644, 0.9817381883101198, 0.9817298458655813, 0.9587955072073159, 0.9839147399433428, 0.9410664902640316, 0.9521945609235664, 0.9701271885337259, 0.949559610865301, 0.9795730485664945, 0.9820163832184138, 0.9738276787879588, 0.9821525174869276, 0.9848810933454318, 0.9791411196442328, 0.9819265247725291, 0.9826596676562623, 0.9798749086249426, 0.9830854492388411, 0.9831811148287637, 0.9818775079144151, 0.9827017120212096, 0.9847664098289093, 0.9742732379469732, 0.9796667771738793, 0.9810866578508073, 0.976941967824405, 0.9799209400352764, 0.5175037542630683, 0.9832118850402909, 0.970711968588355, 0.9816854125111988, 0.9840940654878878, 0.9804298171320355, 0.9835061213423499, 0.9840661160832618, 0.9792159881284134, 0.9854021925914676, 0.9826221222542418, 0.983150194795047, 0.9790489934823805, 0.9841110323747326, 0.9853975656719461, 0.9703295468212726, 0.9814614843013697, 0.9804884770138795, 0.9773708565350461, 0.9830638549274207, 0.9843538577550912, 0.98035434431719, 0.977407210141702, 0.984300167550872, 0.9799353076298191, 0.9827187314817817, 0.9824714083382776, 0.9791732724107349, 0.980355705580674, 0.9828630814949488, 0.9825033301165511, 0.9854311955338872, 0.9758292411742051]}, {\"categories\": [\"0\", \"1\", \"2\", \"3\", \"4\", \"5\", \"6\", \"7\", \"8\", \"9\", \"10\", \"11\", \"12\", \"13\", \"14\", \"15\", \"16\", \"17\", \"18\", \"19\", \"20\", \"21\", \"22\", \"23\", \"24\", \"25\", \"26\", \"27\", \"28\", \"29\", \"30\", \"31\", \"32\", \"33\", \"34\", \"35\", \"36\", \"37\", \"38\", \"39\", \"40\", \"41\", \"42\", \"43\", \"44\", \"45\", \"46\", \"47\", \"48\", \"49\", \"50\", \"51\", \"52\", \"53\", \"54\", \"55\", \"56\", \"57\", \"58\", \"59\", \"60\", \"61\", \"62\", \"63\", \"64\", \"65\", \"66\", \"67\", \"68\", \"69\", \"70\", \"71\", \"72\", \"73\", \"74\", \"75\", \"76\", \"77\"], \"mode\": \"lines\", \"name\": \"average_precision_score_micro_max\", \"stepped\": true, \"type\": \"scatter\", \"data\": [0.9767808183507839, 0.9776781785075807, 0.9808325515320693, 0.9817312506682221, 0.9831862480661598, 0.9831862480661598, 0.9831862480661598, 0.9831862480661598, 0.9835893466283586, 0.9835893466283586, 0.9835893466283586, 0.9838100101375229, 0.9838100101375229, 0.9838100101375229, 0.9838100101375229, 0.9838100101375229, 0.9838100101375229, 0.9838100101375229, 0.9838100101375229, 0.9838100101375229, 0.9838100101375229, 0.9839147399433428, 0.9839147399433428, 0.9839147399433428, 0.9839147399433428, 0.9839147399433428, 0.9839147399433428, 0.9839147399433428, 0.9839147399433428, 0.9839147399433428, 0.9848810933454318, 0.9848810933454318, 0.9848810933454318, 0.9848810933454318, 0.9848810933454318, 0.9848810933454318, 0.9848810933454318, 0.9848810933454318, 0.9848810933454318, 0.9848810933454318, 0.9848810933454318, 0.9848810933454318, 0.9848810933454318, 0.9848810933454318, 0.9848810933454318, 0.9848810933454318, 0.9848810933454318, 0.9848810933454318, 0.9848810933454318, 0.9848810933454318, 0.9848810933454318, 0.9848810933454318, 0.9848810933454318, 0.9848810933454318, 0.9854021925914676, 0.9854021925914676, 0.9854021925914676, 0.9854021925914676, 0.9854021925914676, 0.9854021925914676, 0.9854021925914676, 0.9854021925914676, 0.9854021925914676, 0.9854021925914676, 0.9854021925914676, 0.9854021925914676, 0.9854021925914676, 0.9854021925914676, 0.9854021925914676, 0.9854021925914676, 0.9854021925914676, 0.9854021925914676, 0.9854021925914676, 0.9854021925914676, 0.9854021925914676, 0.9854021925914676, 0.9854311955338872, 0.9854311955338872]}], \"AUC_micro\": [{\"categories\": [\"0\", \"1\", \"2\", \"3\", \"4\", \"5\", \"6\", \"7\", \"8\", \"9\", \"10\", \"11\", \"12\", \"13\", \"14\", \"15\", \"16\", \"17\", \"18\", \"19\", \"20\", \"21\", \"22\", \"23\", \"24\", \"25\", \"26\", \"27\", \"28\", \"29\", \"30\", \"31\", \"32\", \"33\", \"34\", \"35\", \"36\", \"37\", \"38\", \"39\", \"40\", \"41\", \"42\", \"43\", \"44\", \"45\", \"46\", \"47\", \"48\", \"49\", \"50\", \"51\", \"52\", \"53\", \"54\", \"55\", \"56\", \"57\", \"58\", \"59\", \"60\", \"61\", \"62\", \"63\", \"64\", \"65\", \"66\", \"67\", \"68\", \"69\", \"70\", \"71\", \"72\", \"73\", \"74\", \"75\", \"76\", \"77\"], \"mode\": \"markers\", \"name\": \"AUC_micro\", \"stepped\": false, \"type\": \"scatter\", \"data\": [0.9761816265696448, 0.9773114066437503, 0.9803265597750631, 0.9813076273462329, 0.9829339436016555, 0.9820301757066587, 0.9375518938679057, 0.9799600000413431, 0.9830891318989629, 0.9509689899741481, 0.979474291086593, 0.9833122263303264, 0.9593243826873611, 0.9768088045243506, 0.9610208828507283, 0.9801320304744043, 0.9774569966333084, 0.9793554490140108, 0.9822083237567479, 0.9810853776543581, 0.9688054335100024, 0.9836406736544878, 0.94743667101162, 0.9584816095987991, 0.9690321370168882, 0.9484887409032137, 0.9794274504607096, 0.981404072934034, 0.972942380855768, 0.9824656143736996, 0.9844355562870204, 0.9796601945537425, 0.9820317628028199, 0.9821340442111361, 0.9802207716740409, 0.9826296075931881, 0.9827926026614762, 0.9812100812244158, 0.9829017183665327, 0.9842588929502762, 0.9731979309648467, 0.9793311839615804, 0.9804478590352307, 0.9761855684705754, 0.9798873842977484, 0.5247266071662811, 0.9827052181154088, 0.9696648179667008, 0.9812994367209485, 0.9837670410265625, 0.9800416254727511, 0.9829432861148769, 0.9838457230332649, 0.9794339262550812, 0.9849389264400529, 0.98285303484996, 0.9826846645213166, 0.9795900359977331, 0.983598465932287, 0.9849519804116127, 0.9692692835710119, 0.9809276297866493, 0.9808162873365998, 0.9769416730427325, 0.982664955666713, 0.9838813269013176, 0.9804779599081763, 0.9773182919693865, 0.9839680461215929, 0.9799032026053418, 0.9829175366741261, 0.9819615785698504, 0.9798267986975528, 0.9806071683221405, 0.9830403716765342, 0.9820651142489194, 0.9849768340839791, 0.9755349451760171]}, {\"categories\": [\"0\", \"1\", \"2\", \"3\", \"4\", \"5\", \"6\", \"7\", \"8\", \"9\", \"10\", \"11\", \"12\", \"13\", \"14\", \"15\", \"16\", \"17\", \"18\", \"19\", \"20\", \"21\", \"22\", \"23\", \"24\", \"25\", \"26\", \"27\", \"28\", \"29\", \"30\", \"31\", \"32\", \"33\", \"34\", \"35\", \"36\", \"37\", \"38\", \"39\", \"40\", \"41\", \"42\", \"43\", \"44\", \"45\", \"46\", \"47\", \"48\", \"49\", \"50\", \"51\", \"52\", \"53\", \"54\", \"55\", \"56\", \"57\", \"58\", \"59\", \"60\", \"61\", \"62\", \"63\", \"64\", \"65\", \"66\", \"67\", \"68\", \"69\", \"70\", \"71\", \"72\", \"73\", \"74\", \"75\", \"76\", \"77\"], \"mode\": \"lines\", \"name\": \"AUC_micro_max\", \"stepped\": true, \"type\": \"scatter\", \"data\": [0.9761816265696448, 0.9773114066437503, 0.9803265597750631, 0.9813076273462329, 0.9829339436016555, 0.9829339436016555, 0.9829339436016555, 0.9829339436016555, 0.9830891318989629, 0.9830891318989629, 0.9830891318989629, 0.9833122263303264, 0.9833122263303264, 0.9833122263303264, 0.9833122263303264, 0.9833122263303264, 0.9833122263303264, 0.9833122263303264, 0.9833122263303264, 0.9833122263303264, 0.9833122263303264, 0.9836406736544878, 0.9836406736544878, 0.9836406736544878, 0.9836406736544878, 0.9836406736544878, 0.9836406736544878, 0.9836406736544878, 0.9836406736544878, 0.9836406736544878, 0.9844355562870204, 0.9844355562870204, 0.9844355562870204, 0.9844355562870204, 0.9844355562870204, 0.9844355562870204, 0.9844355562870204, 0.9844355562870204, 0.9844355562870204, 0.9844355562870204, 0.9844355562870204, 0.9844355562870204, 0.9844355562870204, 0.9844355562870204, 0.9844355562870204, 0.9844355562870204, 0.9844355562870204, 0.9844355562870204, 0.9844355562870204, 0.9844355562870204, 0.9844355562870204, 0.9844355562870204, 0.9844355562870204, 0.9844355562870204, 0.9849389264400529, 0.9849389264400529, 0.9849389264400529, 0.9849389264400529, 0.9849389264400529, 0.9849519804116127, 0.9849519804116127, 0.9849519804116127, 0.9849519804116127, 0.9849519804116127, 0.9849519804116127, 0.9849519804116127, 0.9849519804116127, 0.9849519804116127, 0.9849519804116127, 0.9849519804116127, 0.9849519804116127, 0.9849519804116127, 0.9849519804116127, 0.9849519804116127, 0.9849519804116127, 0.9849519804116127, 0.9849768340839791, 0.9849768340839791]}], \"f1_score_macro\": [{\"categories\": [\"0\", \"1\", \"2\", \"3\", \"4\", \"5\", \"6\", \"7\", \"8\", \"9\", \"10\", \"11\", \"12\", \"13\", \"14\", \"15\", \"16\", \"17\", \"18\", \"19\", \"20\", \"21\", \"22\", \"23\", \"24\", \"25\", \"26\", \"27\", \"28\", \"29\", \"30\", \"31\", \"32\", \"33\", \"34\", \"35\", \"36\", \"37\", \"38\", \"39\", \"40\", \"41\", \"42\", \"43\", \"44\", \"45\", \"46\", \"47\", \"48\", \"49\", \"50\", \"51\", \"52\", \"53\", \"54\", \"55\", \"56\", \"57\", \"58\", \"59\", \"60\", \"61\", \"62\", \"63\", \"64\", \"65\", \"66\", \"67\", \"68\", \"69\", \"70\", \"71\", \"72\", \"73\", \"74\", \"75\", \"76\", \"77\"], \"mode\": \"markers\", \"name\": \"f1_score_macro\", \"stepped\": false, \"type\": \"scatter\", \"data\": [0.9311284675032606, 0.9376340356777291, 0.9297599664516408, 0.933597248831159, 0.9387640806261418, 0.9297297745595315, 0.875007149767739, 0.9388908533557967, 0.9374824456024691, 0.8947446778552111, 0.9388974400461972, 0.9374650285277134, 0.9025895665143692, 0.9323288563873451, 0.9143906184059911, 0.9271759896543343, 0.9323570794213267, 0.9401710152978421, 0.9477970261895375, 0.9271759896543343, 0.9285546509250822, 0.9374788935728329, 0.8951708586229483, 0.895377586114062, 0.9089293304908687, 0.8799538984881629, 0.938889367204073, 0.9310530981165481, 0.9141978378961628, 0.9477464080381945, 0.9361888680884369, 0.9401644286074416, 0.9427024340638207, 0.9349039426405454, 0.9414420008511447, 0.9361973292558681, 0.9361888680884369, 0.9297520067070973, 0.9477464080381945, 0.9438901201136295, 0.9141978378961628, 0.9376276407869119, 0.9310332536703964, 0.915459134520259, 0.9427169203839447, 0.5347192235385243, 0.9361721997634465, 0.9089863089756902, 0.9387810349393044, 0.9490508642274682, 0.9297437014982574, 0.9348930377556439, 0.9490508642274682, 0.9401684255994998, 0.9464328062506349, 0.9477464080381945, 0.9400234105145628, 0.941438597271722, 0.9361888680884369, 0.9490499004031363, 0.9076833099871056, 0.9361672971822703, 0.9414420008511447, 0.929721780663403, 0.9400680229619434, 0.9400692657006603, 0.9414420008511447, 0.9310985709062347, 0.9503420113324866, 0.9427169203839447, 0.9477464080381945, 0.9323210883918825, 0.9414420008511447, 0.9414420008511447, 0.9490463845419447, 0.9388000193935853, 0.9374673723600992, 0.9425683745236444]}, {\"categories\": [\"0\", \"1\", \"2\", \"3\", \"4\", \"5\", \"6\", \"7\", \"8\", \"9\", \"10\", \"11\", \"12\", \"13\", \"14\", \"15\", \"16\", \"17\", \"18\", \"19\", \"20\", \"21\", \"22\", \"23\", \"24\", \"25\", \"26\", \"27\", \"28\", \"29\", \"30\", \"31\", \"32\", \"33\", \"34\", \"35\", \"36\", \"37\", \"38\", \"39\", \"40\", \"41\", \"42\", \"43\", \"44\", \"45\", \"46\", \"47\", \"48\", \"49\", \"50\", \"51\", \"52\", \"53\", \"54\", \"55\", \"56\", \"57\", \"58\", \"59\", \"60\", \"61\", \"62\", \"63\", \"64\", \"65\", \"66\", \"67\", \"68\", \"69\", \"70\", \"71\", \"72\", \"73\", \"74\", \"75\", \"76\", \"77\"], \"mode\": \"lines\", \"name\": \"f1_score_macro_max\", \"stepped\": true, \"type\": \"scatter\", \"data\": [0.9311284675032606, 0.9376340356777291, 0.9376340356777291, 0.9376340356777291, 0.9387640806261418, 0.9387640806261418, 0.9387640806261418, 0.9388908533557967, 0.9388908533557967, 0.9388908533557967, 0.9388974400461972, 0.9388974400461972, 0.9388974400461972, 0.9388974400461972, 0.9388974400461972, 0.9388974400461972, 0.9388974400461972, 0.9401710152978421, 0.9477970261895375, 0.9477970261895375, 0.9477970261895375, 0.9477970261895375, 0.9477970261895375, 0.9477970261895375, 0.9477970261895375, 0.9477970261895375, 0.9477970261895375, 0.9477970261895375, 0.9477970261895375, 0.9477970261895375, 0.9477970261895375, 0.9477970261895375, 0.9477970261895375, 0.9477970261895375, 0.9477970261895375, 0.9477970261895375, 0.9477970261895375, 0.9477970261895375, 0.9477970261895375, 0.9477970261895375, 0.9477970261895375, 0.9477970261895375, 0.9477970261895375, 0.9477970261895375, 0.9477970261895375, 0.9477970261895375, 0.9477970261895375, 0.9477970261895375, 0.9477970261895375, 0.9490508642274682, 0.9490508642274682, 0.9490508642274682, 0.9490508642274682, 0.9490508642274682, 0.9490508642274682, 0.9490508642274682, 0.9490508642274682, 0.9490508642274682, 0.9490508642274682, 0.9490508642274682, 0.9490508642274682, 0.9490508642274682, 0.9490508642274682, 0.9490508642274682, 0.9490508642274682, 0.9490508642274682, 0.9490508642274682, 0.9490508642274682, 0.9503420113324866, 0.9503420113324866, 0.9503420113324866, 0.9503420113324866, 0.9503420113324866, 0.9503420113324866, 0.9503420113324866, 0.9503420113324866, 0.9503420113324866, 0.9503420113324866]}], \"accuracy\": [{\"categories\": [\"0\", \"1\", \"2\", \"3\", \"4\", \"5\", \"6\", \"7\", \"8\", \"9\", \"10\", \"11\", \"12\", \"13\", \"14\", \"15\", \"16\", \"17\", \"18\", \"19\", \"20\", \"21\", \"22\", \"23\", \"24\", \"25\", \"26\", \"27\", \"28\", \"29\", \"30\", \"31\", \"32\", \"33\", \"34\", \"35\", \"36\", \"37\", \"38\", \"39\", \"40\", \"41\", \"42\", \"43\", \"44\", \"45\", \"46\", \"47\", \"48\", \"49\", \"50\", \"51\", \"52\", \"53\", \"54\", \"55\", \"56\", \"57\", \"58\", \"59\", \"60\", \"61\", \"62\", \"63\", \"64\", \"65\", \"66\", \"67\", \"68\", \"69\", \"70\", \"71\", \"72\", \"73\", \"74\", \"75\", \"76\", \"77\"], \"mode\": \"markers\", \"name\": \"accuracy\", \"stepped\": false, \"type\": \"scatter\", \"data\": [0.931387567523986, 0.9377489317100702, 0.9301056196081593, 0.9339192130936063, 0.9389986293638636, 0.9300975570426508, 0.876779811335967, 0.9390228170603887, 0.937724744013545, 0.8958074659356609, 0.9390147544948804, 0.937724744013545, 0.9034185277755382, 0.9326533903087963, 0.9148512456663711, 0.9275578489075222, 0.9326614528743047, 0.9402886398451986, 0.947915826816093, 0.9275578489075222, 0.9288317342578409, 0.9377247440135452, 0.8958074659356609, 0.8957832782391357, 0.9097637668306054, 0.8806095299524308, 0.9390147544948804, 0.9313633798274612, 0.9148351205353544, 0.9479077642505847, 0.9364508586632265, 0.9402967024107071, 0.9428283479803273, 0.9351850358784166, 0.9415625251955172, 0.9364589212287349, 0.9364508586632265, 0.9300894944771425, 0.9479077642505847, 0.9440941707651375, 0.9148351205353544, 0.9377569942755786, 0.9313795049584778, 0.9161170684511812, 0.9428283479803273, 0.5349350963476578, 0.9364589212287349, 0.9097476416995889, 0.9390147544948801, 0.9491816496009029, 0.9300894944771427, 0.935193098443925, 0.9491816496009029, 0.9402886398451986, 0.946633878900266, 0.9479077642505847, 0.9402886398451986, 0.9415544626300087, 0.9364508586632265, 0.9491735870353948, 0.9084737563492704, 0.9364508586632265, 0.9415625251955172, 0.9301056196081593, 0.9402886398451986, 0.9402805772796905, 0.9415625251955172, 0.931379504958478, 0.9504394098202049, 0.9428283479803273, 0.9479077642505847, 0.9326453277432879, 0.9415625251955172, 0.9415625251955172, 0.9491735870353946, 0.9390228170603885, 0.9377328065790534, 0.942796097718294]}, {\"categories\": [\"0\", \"1\", \"2\", \"3\", \"4\", \"5\", \"6\", \"7\", \"8\", \"9\", \"10\", \"11\", \"12\", \"13\", \"14\", \"15\", \"16\", \"17\", \"18\", \"19\", \"20\", \"21\", \"22\", \"23\", \"24\", \"25\", \"26\", \"27\", \"28\", \"29\", \"30\", \"31\", \"32\", \"33\", \"34\", \"35\", \"36\", \"37\", \"38\", \"39\", \"40\", \"41\", \"42\", \"43\", \"44\", \"45\", \"46\", \"47\", \"48\", \"49\", \"50\", \"51\", \"52\", \"53\", \"54\", \"55\", \"56\", \"57\", \"58\", \"59\", \"60\", \"61\", \"62\", \"63\", \"64\", \"65\", \"66\", \"67\", \"68\", \"69\", \"70\", \"71\", \"72\", \"73\", \"74\", \"75\", \"76\", \"77\"], \"mode\": \"lines\", \"name\": \"accuracy_max\", \"stepped\": true, \"type\": \"scatter\", \"data\": [0.931387567523986, 0.9377489317100702, 0.9377489317100702, 0.9377489317100702, 0.9389986293638636, 0.9389986293638636, 0.9389986293638636, 0.9390228170603887, 0.9390228170603887, 0.9390228170603887, 0.9390228170603887, 0.9390228170603887, 0.9390228170603887, 0.9390228170603887, 0.9390228170603887, 0.9390228170603887, 0.9390228170603887, 0.9402886398451986, 0.947915826816093, 0.947915826816093, 0.947915826816093, 0.947915826816093, 0.947915826816093, 0.947915826816093, 0.947915826816093, 0.947915826816093, 0.947915826816093, 0.947915826816093, 0.947915826816093, 0.947915826816093, 0.947915826816093, 0.947915826816093, 0.947915826816093, 0.947915826816093, 0.947915826816093, 0.947915826816093, 0.947915826816093, 0.947915826816093, 0.947915826816093, 0.947915826816093, 0.947915826816093, 0.947915826816093, 0.947915826816093, 0.947915826816093, 0.947915826816093, 0.947915826816093, 0.947915826816093, 0.947915826816093, 0.947915826816093, 0.9491816496009029, 0.9491816496009029, 0.9491816496009029, 0.9491816496009029, 0.9491816496009029, 0.9491816496009029, 0.9491816496009029, 0.9491816496009029, 0.9491816496009029, 0.9491816496009029, 0.9491816496009029, 0.9491816496009029, 0.9491816496009029, 0.9491816496009029, 0.9491816496009029, 0.9491816496009029, 0.9491816496009029, 0.9491816496009029, 0.9491816496009029, 0.9504394098202049, 0.9504394098202049, 0.9504394098202049, 0.9504394098202049, 0.9504394098202049, 0.9504394098202049, 0.9504394098202049, 0.9504394098202049, 0.9504394098202049, 0.9504394098202049]}], \"average_precision_score_weighted\": [{\"categories\": [\"0\", \"1\", \"2\", \"3\", \"4\", \"5\", \"6\", \"7\", \"8\", \"9\", \"10\", \"11\", \"12\", \"13\", \"14\", \"15\", \"16\", \"17\", \"18\", \"19\", \"20\", \"21\", \"22\", \"23\", \"24\", \"25\", \"26\", \"27\", \"28\", \"29\", \"30\", \"31\", \"32\", \"33\", \"34\", \"35\", \"36\", \"37\", \"38\", \"39\", \"40\", \"41\", \"42\", \"43\", \"44\", \"45\", \"46\", \"47\", \"48\", \"49\", \"50\", \"51\", \"52\", \"53\", \"54\", \"55\", \"56\", \"57\", \"58\", \"59\", \"60\", \"61\", \"62\", \"63\", \"64\", \"65\", \"66\", \"67\", \"68\", \"69\", \"70\", \"71\", \"72\", \"73\", \"74\", \"75\", \"76\", \"77\"], \"mode\": \"markers\", \"name\": \"average_precision_score_weighted\", \"stepped\": false, \"type\": \"scatter\", \"data\": [0.9715383962416346, 0.9667259194068502, 0.9768743180028171, 0.9777929783917646, 0.9769096614953495, 0.9813978477174083, 0.9335766238327038, 0.971686182963556, 0.9793514529837968, 0.96060037463413, 0.970689518167992, 0.9795298272018055, 0.96662432166545, 0.9732398896215486, 0.960251466758238, 0.9776080502949587, 0.9710809430237941, 0.9705804841672043, 0.9745111642812052, 0.9781186988285866, 0.9470083731452099, 0.9785998632920123, 0.92161194384817, 0.9366194052638814, 0.9724999157148939, 0.9490158100463162, 0.9701385600473534, 0.9784227506060192, 0.9718245749576786, 0.9750348635033692, 0.980909324738343, 0.9713215015325085, 0.9741826091501512, 0.9784930146156569, 0.9723215726758404, 0.9790301297322278, 0.9785800049328012, 0.9790025407531022, 0.975697240966982, 0.9805587156806, 0.9759812062579412, 0.9712186267760549, 0.981027214177194, 0.9784150889065565, 0.9716839602924802, 0.5239482881640926, 0.9791758650461768, 0.977724264507786, 0.9776460689509238, 0.9781179395150895, 0.9760659327588845, 0.9815855996112675, 0.9766297290568792, 0.9704011584538321, 0.9812518818577829, 0.9756623654062218, 0.9793639710023647, 0.9719457359944965, 0.9801592015816315, 0.9809865067932874, 0.9778122204637368, 0.9773399271344806, 0.9738161424225229, 0.9739198556750477, 0.9785260774999756, 0.9801830244088705, 0.9729320971461519, 0.9655760320827701, 0.9776001217562748, 0.9716782656973842, 0.9757268933536778, 0.9786144822046525, 0.971452532031214, 0.9731126772040766, 0.975910345354486, 0.9779310234193519, 0.9844605331668574, 0.9841545596348542]}, {\"categories\": [\"0\", \"1\", \"2\", \"3\", \"4\", \"5\", \"6\", \"7\", \"8\", \"9\", \"10\", \"11\", \"12\", \"13\", \"14\", \"15\", \"16\", \"17\", \"18\", \"19\", \"20\", \"21\", \"22\", \"23\", \"24\", \"25\", \"26\", \"27\", \"28\", \"29\", \"30\", \"31\", \"32\", \"33\", \"34\", \"35\", \"36\", \"37\", \"38\", \"39\", \"40\", \"41\", \"42\", \"43\", \"44\", \"45\", \"46\", \"47\", \"48\", \"49\", \"50\", \"51\", \"52\", \"53\", \"54\", \"55\", \"56\", \"57\", \"58\", \"59\", \"60\", \"61\", \"62\", \"63\", \"64\", \"65\", \"66\", \"67\", \"68\", \"69\", \"70\", \"71\", \"72\", \"73\", \"74\", \"75\", \"76\", \"77\"], \"mode\": \"lines\", \"name\": \"average_precision_score_weighted_max\", \"stepped\": true, \"type\": \"scatter\", \"data\": [0.9715383962416346, 0.9715383962416346, 0.9768743180028171, 0.9777929783917646, 0.9777929783917646, 0.9813978477174083, 0.9813978477174083, 0.9813978477174083, 0.9813978477174083, 0.9813978477174083, 0.9813978477174083, 0.9813978477174083, 0.9813978477174083, 0.9813978477174083, 0.9813978477174083, 0.9813978477174083, 0.9813978477174083, 0.9813978477174083, 0.9813978477174083, 0.9813978477174083, 0.9813978477174083, 0.9813978477174083, 0.9813978477174083, 0.9813978477174083, 0.9813978477174083, 0.9813978477174083, 0.9813978477174083, 0.9813978477174083, 0.9813978477174083, 0.9813978477174083, 0.9813978477174083, 0.9813978477174083, 0.9813978477174083, 0.9813978477174083, 0.9813978477174083, 0.9813978477174083, 0.9813978477174083, 0.9813978477174083, 0.9813978477174083, 0.9813978477174083, 0.9813978477174083, 0.9813978477174083, 0.9813978477174083, 0.9813978477174083, 0.9813978477174083, 0.9813978477174083, 0.9813978477174083, 0.9813978477174083, 0.9813978477174083, 0.9813978477174083, 0.9813978477174083, 0.9815855996112675, 0.9815855996112675, 0.9815855996112675, 0.9815855996112675, 0.9815855996112675, 0.9815855996112675, 0.9815855996112675, 0.9815855996112675, 0.9815855996112675, 0.9815855996112675, 0.9815855996112675, 0.9815855996112675, 0.9815855996112675, 0.9815855996112675, 0.9815855996112675, 0.9815855996112675, 0.9815855996112675, 0.9815855996112675, 0.9815855996112675, 0.9815855996112675, 0.9815855996112675, 0.9815855996112675, 0.9815855996112675, 0.9815855996112675, 0.9815855996112675, 0.9844605331668574, 0.9844605331668574]}], \"log_loss\": [{\"categories\": [\"0\", \"1\", \"2\", \"3\", \"4\", \"5\", \"6\", \"7\", \"8\", \"9\", \"10\", \"11\", \"12\", \"13\", \"14\", \"15\", \"16\", \"17\", \"18\", \"19\", \"20\", \"21\", \"22\", \"23\", \"24\", \"25\", \"26\", \"27\", \"28\", \"29\", \"30\", \"31\", \"32\", \"33\", \"34\", \"35\", \"36\", \"37\", \"38\", \"39\", \"40\", \"41\", \"42\", \"43\", \"44\", \"45\", \"46\", \"47\", \"48\", \"49\", \"50\", \"51\", \"52\", \"53\", \"54\", \"55\", \"56\", \"57\", \"58\", \"59\", \"60\", \"61\", \"62\", \"63\", \"64\", \"65\", \"66\", \"67\", \"68\", \"69\", \"70\", \"71\", \"72\", \"73\", \"74\", \"75\", \"76\", \"77\"], \"mode\": \"markers\", \"name\": \"log_loss\", \"stepped\": false, \"type\": \"scatter\", \"data\": [0.20728335135646608, 0.30826968602659177, 0.19962569056943152, 0.1845207494281144, 0.17128969392155904, 0.20839615854516227, 0.5596587389198487, 0.25149697895779394, 0.17459223319456907, 0.5427989860476946, 0.2614385189421192, 0.17414588193553152, 0.3543214730457521, 0.2314492536238192, 0.4084420066347111, 0.21295490761274455, 0.20569404054930743, 0.25580276291978354, 0.17894458650352205, 0.20384563092017155, 0.3996376700519077, 0.17215353127856808, 0.5153941939713145, 0.2421667568245968, 0.30875716287151633, 0.5722982753558666, 0.2610457304022453, 0.19668631696542982, 0.2868465309208175, 0.16443832524609658, 0.16773660130268614, 0.23466575342506557, 0.18397293687266125, 0.18281185499750827, 0.22307330788954874, 0.1838611599278337, 0.17699133344779866, 0.19957243294175703, 0.16291086742555974, 0.15700551785205205, 0.3005095992749858, 0.2566732588689367, 0.212160987734738, 0.24614551786435457, 0.24448884411696978, 0.6930417832055392, 0.17903285844857406, 0.3171521221214205, 0.19007473443775652, 0.15584342999046435, 0.20246910054089087, 0.18620907004324855, 0.1575726960229446, 0.25631004215438946, 0.15199645850737467, 0.16296140396754832, 0.17575007248885205, 0.22870202235507656, 0.17461062935243934, 0.15195803650939527, 0.3213658804849736, 0.19598131809584227, 0.20290011296898225, 0.21456282390726433, 0.17711701726694953, 0.1611349540189546, 0.2315190277881693, 0.18771254739910317, 0.15745500110476804, 0.2446218925117838, 0.1630270418252629, 0.1890502095860273, 0.24648622686239136, 0.22714691093075273, 0.16132682045609698, 0.1754087026439061, 0.1902718475575883, 0.40773868521912293]}, {\"categories\": [\"0\", \"1\", \"2\", \"3\", \"4\", \"5\", \"6\", \"7\", \"8\", \"9\", \"10\", \"11\", \"12\", \"13\", \"14\", \"15\", \"16\", \"17\", \"18\", \"19\", \"20\", \"21\", \"22\", \"23\", \"24\", \"25\", \"26\", \"27\", \"28\", \"29\", \"30\", \"31\", \"32\", \"33\", \"34\", \"35\", \"36\", \"37\", \"38\", \"39\", \"40\", \"41\", \"42\", \"43\", \"44\", \"45\", \"46\", \"47\", \"48\", \"49\", \"50\", \"51\", \"52\", \"53\", \"54\", \"55\", \"56\", \"57\", \"58\", \"59\", \"60\", \"61\", \"62\", \"63\", \"64\", \"65\", \"66\", \"67\", \"68\", \"69\", \"70\", \"71\", \"72\", \"73\", \"74\", \"75\", \"76\", \"77\"], \"mode\": \"lines\", \"name\": \"log_loss_min\", \"stepped\": true, \"type\": \"scatter\", \"data\": [0.20728335135646608, 0.20728335135646608, 0.19962569056943152, 0.1845207494281144, 0.17128969392155904, 0.17128969392155904, 0.17128969392155904, 0.17128969392155904, 0.17128969392155904, 0.17128969392155904, 0.17128969392155904, 0.17128969392155904, 0.17128969392155904, 0.17128969392155904, 0.17128969392155904, 0.17128969392155904, 0.17128969392155904, 0.17128969392155904, 0.17128969392155904, 0.17128969392155904, 0.17128969392155904, 0.17128969392155904, 0.17128969392155904, 0.17128969392155904, 0.17128969392155904, 0.17128969392155904, 0.17128969392155904, 0.17128969392155904, 0.17128969392155904, 0.16443832524609658, 0.16443832524609658, 0.16443832524609658, 0.16443832524609658, 0.16443832524609658, 0.16443832524609658, 0.16443832524609658, 0.16443832524609658, 0.16443832524609658, 0.16291086742555974, 0.15700551785205205, 0.15700551785205205, 0.15700551785205205, 0.15700551785205205, 0.15700551785205205, 0.15700551785205205, 0.15700551785205205, 0.15700551785205205, 0.15700551785205205, 0.15700551785205205, 0.15584342999046435, 0.15584342999046435, 0.15584342999046435, 0.15584342999046435, 0.15584342999046435, 0.15199645850737467, 0.15199645850737467, 0.15199645850737467, 0.15199645850737467, 0.15199645850737467, 0.15195803650939527, 0.15195803650939527, 0.15195803650939527, 0.15195803650939527, 0.15195803650939527, 0.15195803650939527, 0.15195803650939527, 0.15195803650939527, 0.15195803650939527, 0.15195803650939527, 0.15195803650939527, 0.15195803650939527, 0.15195803650939527, 0.15195803650939527, 0.15195803650939527, 0.15195803650939527, 0.15195803650939527, 0.15195803650939527, 0.15195803650939527]}], \"norm_macro_recall\": [{\"categories\": [\"0\", \"1\", \"2\", \"3\", \"4\", \"5\", \"6\", \"7\", \"8\", \"9\", \"10\", \"11\", \"12\", \"13\", \"14\", \"15\", \"16\", \"17\", \"18\", \"19\", \"20\", \"21\", \"22\", \"23\", \"24\", \"25\", \"26\", \"27\", \"28\", \"29\", \"30\", \"31\", \"32\", \"33\", \"34\", \"35\", \"36\", \"37\", \"38\", \"39\", \"40\", \"41\", \"42\", \"43\", \"44\", \"45\", \"46\", \"47\", \"48\", \"49\", \"50\", \"51\", \"52\", \"53\", \"54\", \"55\", \"56\", \"57\", \"58\", \"59\", \"60\", \"61\", \"62\", \"63\", \"64\", \"65\", \"66\", \"67\", \"68\", \"69\", \"70\", \"71\", \"72\", \"73\", \"74\", \"75\", \"76\", \"77\"], \"mode\": \"markers\", \"name\": \"norm_macro_recall\", \"stepped\": false, \"type\": \"scatter\", \"data\": [0.8635993612435507, 0.8762466591634371, 0.8607047695694868, 0.8684671843698762, 0.8784331565382499, 0.8611292757734652, 0.7563930640877004, 0.8785312195437953, 0.8759910609895506, 0.7934957069403626, 0.8786662406408418, 0.8762187032659735, 0.8070330432487467, 0.8658329746976919, 0.8321002030849923, 0.8558660495482139, 0.865730410595128, 0.8812303432049443, 0.8963591164686285, 0.8558660495482139, 0.8581816710084137, 0.8762511602604558, 0.7922602473516402, 0.7937015999754419, 0.8200953814068825, 0.7654171347434737, 0.8787588618202182, 0.863617568444311, 0.8308677391304597, 0.8962719153434527, 0.8736870576963532, 0.8810953221078979, 0.8860551131754312, 0.8712449621476541, 0.8837619887745646, 0.8738090647117567, 0.8736870576963532, 0.8610534658802085, 0.8962719153434527, 0.8884069534524606, 0.8308677391304597, 0.8762466591634371, 0.863433279066663, 0.8329680101331697, 0.8864286554412313, 0.07890090945395087, 0.8734733824826779, 0.8206802670025738, 0.8784525994510892, 0.8985735867528664, 0.8608428618249885, 0.8709711227490848, 0.8985735867528664, 0.881197886210462, 0.8932556163969213, 0.8962719153434527, 0.8807805127302221, 0.8839810670304791, 0.8736870576963532, 0.8985735867528664, 0.81824124261233, 0.8736870576963532, 0.8837619887745646, 0.8602440091665496, 0.8810167020151918, 0.8807371598314475, 0.8837619887745646, 0.8633799832447006, 0.9013513645306441, 0.8864286554412313, 0.8962719153434527, 0.865935538800256, 0.8837619887745646, 0.8837619887745646, 0.8987086078499129, 0.8783500353485252, 0.8761554679226243, 0.886630017064005]}, {\"categories\": [\"0\", \"1\", \"2\", \"3\", \"4\", \"5\", \"6\", \"7\", \"8\", \"9\", \"10\", \"11\", \"12\", \"13\", \"14\", \"15\", \"16\", \"17\", \"18\", \"19\", \"20\", \"21\", \"22\", \"23\", \"24\", \"25\", \"26\", \"27\", \"28\", \"29\", \"30\", \"31\", \"32\", \"33\", \"34\", \"35\", \"36\", \"37\", \"38\", \"39\", \"40\", \"41\", \"42\", \"43\", \"44\", \"45\", \"46\", \"47\", \"48\", \"49\", \"50\", \"51\", \"52\", \"53\", \"54\", \"55\", \"56\", \"57\", \"58\", \"59\", \"60\", \"61\", \"62\", \"63\", \"64\", \"65\", \"66\", \"67\", \"68\", \"69\", \"70\", \"71\", \"72\", \"73\", \"74\", \"75\", \"76\", \"77\"], \"mode\": \"lines\", \"name\": \"norm_macro_recall_max\", \"stepped\": true, \"type\": \"scatter\", \"data\": [0.8635993612435507, 0.8762466591634371, 0.8762466591634371, 0.8762466591634371, 0.8784331565382499, 0.8784331565382499, 0.8784331565382499, 0.8785312195437953, 0.8785312195437953, 0.8785312195437953, 0.8786662406408418, 0.8786662406408418, 0.8786662406408418, 0.8786662406408418, 0.8786662406408418, 0.8786662406408418, 0.8786662406408418, 0.8812303432049443, 0.8963591164686285, 0.8963591164686285, 0.8963591164686285, 0.8963591164686285, 0.8963591164686285, 0.8963591164686285, 0.8963591164686285, 0.8963591164686285, 0.8963591164686285, 0.8963591164686285, 0.8963591164686285, 0.8963591164686285, 0.8963591164686285, 0.8963591164686285, 0.8963591164686285, 0.8963591164686285, 0.8963591164686285, 0.8963591164686285, 0.8963591164686285, 0.8963591164686285, 0.8963591164686285, 0.8963591164686285, 0.8963591164686285, 0.8963591164686285, 0.8963591164686285, 0.8963591164686285, 0.8963591164686285, 0.8963591164686285, 0.8963591164686285, 0.8963591164686285, 0.8963591164686285, 0.8985735867528664, 0.8985735867528664, 0.8985735867528664, 0.8985735867528664, 0.8985735867528664, 0.8985735867528664, 0.8985735867528664, 0.8985735867528664, 0.8985735867528664, 0.8985735867528664, 0.8985735867528664, 0.8985735867528664, 0.8985735867528664, 0.8985735867528664, 0.8985735867528664, 0.8985735867528664, 0.8985735867528664, 0.8985735867528664, 0.8985735867528664, 0.9013513645306441, 0.9013513645306441, 0.9013513645306441, 0.9013513645306441, 0.9013513645306441, 0.9013513645306441, 0.9013513645306441, 0.9013513645306441, 0.9013513645306441, 0.9013513645306441]}], \"average_precision_score_macro\": [{\"categories\": [\"0\", \"1\", \"2\", \"3\", \"4\", \"5\", \"6\", \"7\", \"8\", \"9\", \"10\", \"11\", \"12\", \"13\", \"14\", \"15\", \"16\", \"17\", \"18\", \"19\", \"20\", \"21\", \"22\", \"23\", \"24\", \"25\", \"26\", \"27\", \"28\", \"29\", \"30\", \"31\", \"32\", \"33\", \"34\", \"35\", \"36\", \"37\", \"38\", \"39\", \"40\", \"41\", \"42\", \"43\", \"44\", \"45\", \"46\", \"47\", \"48\", \"49\", \"50\", \"51\", \"52\", \"53\", \"54\", \"55\", \"56\", \"57\", \"58\", \"59\", \"60\", \"61\", \"62\", \"63\", \"64\", \"65\", \"66\", \"67\", \"68\", \"69\", \"70\", \"71\", \"72\", \"73\", \"74\", \"75\", \"76\", \"77\"], \"mode\": \"markers\", \"name\": \"average_precision_score_macro\", \"stepped\": false, \"type\": \"scatter\", \"data\": [0.9712362424589684, 0.9663236566226777, 0.9766732673217493, 0.9775429381721652, 0.9766025726495737, 0.9811650331244373, 0.9334780347302047, 0.9713181330371506, 0.9791318464390318, 0.9606000971364012, 0.9703326692659633, 0.9792962890146605, 0.9663016126162693, 0.9727593672403421, 0.9599783692842621, 0.9773877648773286, 0.970573222263176, 0.9701536163766041, 0.974133214598688, 0.9779056773131833, 0.9466531569290432, 0.9782795335515464, 0.921271842157739, 0.9363347234204987, 0.9722312496842509, 0.948611379987452, 0.9697511878728744, 0.978212946389849, 0.9715580676704685, 0.9746492389549625, 0.9806962656828302, 0.9709257199331954, 0.9737816326670871, 0.9782720200948457, 0.9719235233235782, 0.9788000455063959, 0.9783297385062836, 0.9788231338534576, 0.9753046267468907, 0.980330115005182, 0.975771884459153, 0.970864818540831, 0.9807883988329958, 0.9781981802974791, 0.9713090397886794, 0.5226661866713991, 0.9789825947085976, 0.9774040564390789, 0.9772660458827751, 0.9778576832252341, 0.9758050750014757, 0.9813664900655716, 0.9762897095259481, 0.9700478875975135, 0.9810458337263561, 0.9752709975350345, 0.9790670824241712, 0.9715396666814285, 0.9799913123525592, 0.9808113902053123, 0.9774916490404608, 0.9770660062876317, 0.9734189711325014, 0.9736924048368211, 0.978177996022667, 0.9799102919244966, 0.9725530085922122, 0.9653992868239442, 0.9773156789120379, 0.9713017141715872, 0.9753342504384784, 0.9783800672954367, 0.971052484904955, 0.9727242673165538, 0.9754990365714024, 0.9775859362162566, 0.9842525260203308, 0.9839564594758666]}, {\"categories\": [\"0\", \"1\", \"2\", \"3\", \"4\", \"5\", \"6\", \"7\", \"8\", \"9\", \"10\", \"11\", \"12\", \"13\", \"14\", \"15\", \"16\", \"17\", \"18\", \"19\", \"20\", \"21\", \"22\", \"23\", \"24\", \"25\", \"26\", \"27\", \"28\", \"29\", \"30\", \"31\", \"32\", \"33\", \"34\", \"35\", \"36\", \"37\", \"38\", \"39\", \"40\", \"41\", \"42\", \"43\", \"44\", \"45\", \"46\", \"47\", \"48\", \"49\", \"50\", \"51\", \"52\", \"53\", \"54\", \"55\", \"56\", \"57\", \"58\", \"59\", \"60\", \"61\", \"62\", \"63\", \"64\", \"65\", \"66\", \"67\", \"68\", \"69\", \"70\", \"71\", \"72\", \"73\", \"74\", \"75\", \"76\", \"77\"], \"mode\": \"lines\", \"name\": \"average_precision_score_macro_max\", \"stepped\": true, \"type\": \"scatter\", \"data\": [0.9712362424589684, 0.9712362424589684, 0.9766732673217493, 0.9775429381721652, 0.9775429381721652, 0.9811650331244373, 0.9811650331244373, 0.9811650331244373, 0.9811650331244373, 0.9811650331244373, 0.9811650331244373, 0.9811650331244373, 0.9811650331244373, 0.9811650331244373, 0.9811650331244373, 0.9811650331244373, 0.9811650331244373, 0.9811650331244373, 0.9811650331244373, 0.9811650331244373, 0.9811650331244373, 0.9811650331244373, 0.9811650331244373, 0.9811650331244373, 0.9811650331244373, 0.9811650331244373, 0.9811650331244373, 0.9811650331244373, 0.9811650331244373, 0.9811650331244373, 0.9811650331244373, 0.9811650331244373, 0.9811650331244373, 0.9811650331244373, 0.9811650331244373, 0.9811650331244373, 0.9811650331244373, 0.9811650331244373, 0.9811650331244373, 0.9811650331244373, 0.9811650331244373, 0.9811650331244373, 0.9811650331244373, 0.9811650331244373, 0.9811650331244373, 0.9811650331244373, 0.9811650331244373, 0.9811650331244373, 0.9811650331244373, 0.9811650331244373, 0.9811650331244373, 0.9813664900655716, 0.9813664900655716, 0.9813664900655716, 0.9813664900655716, 0.9813664900655716, 0.9813664900655716, 0.9813664900655716, 0.9813664900655716, 0.9813664900655716, 0.9813664900655716, 0.9813664900655716, 0.9813664900655716, 0.9813664900655716, 0.9813664900655716, 0.9813664900655716, 0.9813664900655716, 0.9813664900655716, 0.9813664900655716, 0.9813664900655716, 0.9813664900655716, 0.9813664900655716, 0.9813664900655716, 0.9813664900655716, 0.9813664900655716, 0.9813664900655716, 0.9842525260203308, 0.9842525260203308]}], \"recall_score_weighted\": [{\"categories\": [\"0\", \"1\", \"2\", \"3\", \"4\", \"5\", \"6\", \"7\", \"8\", \"9\", \"10\", \"11\", \"12\", \"13\", \"14\", \"15\", \"16\", \"17\", \"18\", \"19\", \"20\", \"21\", \"22\", \"23\", \"24\", \"25\", \"26\", \"27\", \"28\", \"29\", \"30\", \"31\", \"32\", \"33\", \"34\", \"35\", \"36\", \"37\", \"38\", \"39\", \"40\", \"41\", \"42\", \"43\", \"44\", \"45\", \"46\", \"47\", \"48\", \"49\", \"50\", \"51\", \"52\", \"53\", \"54\", \"55\", \"56\", \"57\", \"58\", \"59\", \"60\", \"61\", \"62\", \"63\", \"64\", \"65\", \"66\", \"67\", \"68\", \"69\", \"70\", \"71\", \"72\", \"73\", \"74\", \"75\", \"76\", \"77\"], \"mode\": \"markers\", \"name\": \"recall_score_weighted\", \"stepped\": false, \"type\": \"scatter\", \"data\": [0.931387567523986, 0.9377489317100702, 0.9301056196081593, 0.9339192130936063, 0.9389986293638636, 0.9300975570426508, 0.876779811335967, 0.9390228170603887, 0.937724744013545, 0.8958074659356609, 0.9390147544948804, 0.937724744013545, 0.9034185277755382, 0.9326533903087963, 0.9148512456663711, 0.9275578489075222, 0.9326614528743047, 0.9402886398451986, 0.947915826816093, 0.9275578489075222, 0.9288317342578409, 0.9377247440135452, 0.8958074659356609, 0.8957832782391357, 0.9097637668306054, 0.8806095299524308, 0.9390147544948804, 0.9313633798274612, 0.9148351205353544, 0.9479077642505847, 0.9364508586632265, 0.9402967024107071, 0.9428283479803273, 0.9351850358784166, 0.9415625251955172, 0.9364589212287349, 0.9364508586632265, 0.9300894944771425, 0.9479077642505847, 0.9440941707651375, 0.9148351205353544, 0.9377569942755786, 0.9313795049584778, 0.9161170684511812, 0.9428283479803273, 0.5349350963476578, 0.9364589212287349, 0.9097476416995889, 0.9390147544948801, 0.9491816496009029, 0.9300894944771427, 0.935193098443925, 0.9491816496009029, 0.9402886398451986, 0.946633878900266, 0.9479077642505847, 0.9402886398451986, 0.9415544626300087, 0.9364508586632265, 0.9491735870353948, 0.9084737563492704, 0.9364508586632265, 0.9415625251955172, 0.9301056196081593, 0.9402886398451986, 0.9402805772796905, 0.9415625251955172, 0.931379504958478, 0.9504394098202049, 0.9428283479803273, 0.9479077642505847, 0.9326453277432879, 0.9415625251955172, 0.9415625251955172, 0.9491735870353946, 0.9390228170603885, 0.9377328065790534, 0.942796097718294]}, {\"categories\": [\"0\", \"1\", \"2\", \"3\", \"4\", \"5\", \"6\", \"7\", \"8\", \"9\", \"10\", \"11\", \"12\", \"13\", \"14\", \"15\", \"16\", \"17\", \"18\", \"19\", \"20\", \"21\", \"22\", \"23\", \"24\", \"25\", \"26\", \"27\", \"28\", \"29\", \"30\", \"31\", \"32\", \"33\", \"34\", \"35\", \"36\", \"37\", \"38\", \"39\", \"40\", \"41\", \"42\", \"43\", \"44\", \"45\", \"46\", \"47\", \"48\", \"49\", \"50\", \"51\", \"52\", \"53\", \"54\", \"55\", \"56\", \"57\", \"58\", \"59\", \"60\", \"61\", \"62\", \"63\", \"64\", \"65\", \"66\", \"67\", \"68\", \"69\", \"70\", \"71\", \"72\", \"73\", \"74\", \"75\", \"76\", \"77\"], \"mode\": \"lines\", \"name\": \"recall_score_weighted_max\", \"stepped\": true, \"type\": \"scatter\", \"data\": [0.931387567523986, 0.9377489317100702, 0.9377489317100702, 0.9377489317100702, 0.9389986293638636, 0.9389986293638636, 0.9389986293638636, 0.9390228170603887, 0.9390228170603887, 0.9390228170603887, 0.9390228170603887, 0.9390228170603887, 0.9390228170603887, 0.9390228170603887, 0.9390228170603887, 0.9390228170603887, 0.9390228170603887, 0.9402886398451986, 0.947915826816093, 0.947915826816093, 0.947915826816093, 0.947915826816093, 0.947915826816093, 0.947915826816093, 0.947915826816093, 0.947915826816093, 0.947915826816093, 0.947915826816093, 0.947915826816093, 0.947915826816093, 0.947915826816093, 0.947915826816093, 0.947915826816093, 0.947915826816093, 0.947915826816093, 0.947915826816093, 0.947915826816093, 0.947915826816093, 0.947915826816093, 0.947915826816093, 0.947915826816093, 0.947915826816093, 0.947915826816093, 0.947915826816093, 0.947915826816093, 0.947915826816093, 0.947915826816093, 0.947915826816093, 0.947915826816093, 0.9491816496009029, 0.9491816496009029, 0.9491816496009029, 0.9491816496009029, 0.9491816496009029, 0.9491816496009029, 0.9491816496009029, 0.9491816496009029, 0.9491816496009029, 0.9491816496009029, 0.9491816496009029, 0.9491816496009029, 0.9491816496009029, 0.9491816496009029, 0.9491816496009029, 0.9491816496009029, 0.9491816496009029, 0.9491816496009029, 0.9491816496009029, 0.9504394098202049, 0.9504394098202049, 0.9504394098202049, 0.9504394098202049, 0.9504394098202049, 0.9504394098202049, 0.9504394098202049, 0.9504394098202049, 0.9504394098202049, 0.9504394098202049]}], \"f1_score_micro\": [{\"categories\": [\"0\", \"1\", \"2\", \"3\", \"4\", \"5\", \"6\", \"7\", \"8\", \"9\", \"10\", \"11\", \"12\", \"13\", \"14\", \"15\", \"16\", \"17\", \"18\", \"19\", \"20\", \"21\", \"22\", \"23\", \"24\", \"25\", \"26\", \"27\", \"28\", \"29\", \"30\", \"31\", \"32\", \"33\", \"34\", \"35\", \"36\", \"37\", \"38\", \"39\", \"40\", \"41\", \"42\", \"43\", \"44\", \"45\", \"46\", \"47\", \"48\", \"49\", \"50\", \"51\", \"52\", \"53\", \"54\", \"55\", \"56\", \"57\", \"58\", \"59\", \"60\", \"61\", \"62\", \"63\", \"64\", \"65\", \"66\", \"67\", \"68\", \"69\", \"70\", \"71\", \"72\", \"73\", \"74\", \"75\", \"76\", \"77\"], \"mode\": \"markers\", \"name\": \"f1_score_micro\", \"stepped\": false, \"type\": \"scatter\", \"data\": [0.931387567523986, 0.9377489317100702, 0.9301056196081593, 0.9339192130936063, 0.9389986293638636, 0.9300975570426508, 0.876779811335967, 0.9390228170603887, 0.937724744013545, 0.8958074659356609, 0.9390147544948804, 0.937724744013545, 0.9034185277755382, 0.9326533903087963, 0.9148512456663711, 0.9275578489075222, 0.9326614528743047, 0.9402886398451986, 0.947915826816093, 0.9275578489075222, 0.9288317342578409, 0.9377247440135452, 0.8958074659356606, 0.8957832782391357, 0.9097637668306054, 0.8806095299524308, 0.9390147544948804, 0.9313633798274612, 0.9148351205353544, 0.9479077642505847, 0.9364508586632265, 0.9402967024107071, 0.9428283479803273, 0.9351850358784166, 0.9415625251955172, 0.9364589212287349, 0.9364508586632265, 0.9300894944771425, 0.9479077642505847, 0.9440941707651375, 0.9148351205353544, 0.9377569942755786, 0.9313795049584778, 0.9161170684511812, 0.9428283479803273, 0.5349350963476578, 0.9364589212287349, 0.9097476416995889, 0.9390147544948801, 0.9491816496009029, 0.9300894944771427, 0.935193098443925, 0.9491816496009029, 0.9402886398451986, 0.946633878900266, 0.9479077642505847, 0.9402886398451986, 0.9415544626300087, 0.9364508586632265, 0.9491735870353948, 0.9084737563492704, 0.9364508586632265, 0.9415625251955172, 0.9301056196081593, 0.9402886398451986, 0.9402805772796905, 0.9415625251955172, 0.931379504958478, 0.9504394098202049, 0.9428283479803273, 0.9479077642505847, 0.9326453277432879, 0.9415625251955172, 0.9415625251955172, 0.9491735870353946, 0.9390228170603885, 0.9377328065790534, 0.942796097718294]}, {\"categories\": [\"0\", \"1\", \"2\", \"3\", \"4\", \"5\", \"6\", \"7\", \"8\", \"9\", \"10\", \"11\", \"12\", \"13\", \"14\", \"15\", \"16\", \"17\", \"18\", \"19\", \"20\", \"21\", \"22\", \"23\", \"24\", \"25\", \"26\", \"27\", \"28\", \"29\", \"30\", \"31\", \"32\", \"33\", \"34\", \"35\", \"36\", \"37\", \"38\", \"39\", \"40\", \"41\", \"42\", \"43\", \"44\", \"45\", \"46\", \"47\", \"48\", \"49\", \"50\", \"51\", \"52\", \"53\", \"54\", \"55\", \"56\", \"57\", \"58\", \"59\", \"60\", \"61\", \"62\", \"63\", \"64\", \"65\", \"66\", \"67\", \"68\", \"69\", \"70\", \"71\", \"72\", \"73\", \"74\", \"75\", \"76\", \"77\"], \"mode\": \"lines\", \"name\": \"f1_score_micro_max\", \"stepped\": true, \"type\": \"scatter\", \"data\": [0.931387567523986, 0.9377489317100702, 0.9377489317100702, 0.9377489317100702, 0.9389986293638636, 0.9389986293638636, 0.9389986293638636, 0.9390228170603887, 0.9390228170603887, 0.9390228170603887, 0.9390228170603887, 0.9390228170603887, 0.9390228170603887, 0.9390228170603887, 0.9390228170603887, 0.9390228170603887, 0.9390228170603887, 0.9402886398451986, 0.947915826816093, 0.947915826816093, 0.947915826816093, 0.947915826816093, 0.947915826816093, 0.947915826816093, 0.947915826816093, 0.947915826816093, 0.947915826816093, 0.947915826816093, 0.947915826816093, 0.947915826816093, 0.947915826816093, 0.947915826816093, 0.947915826816093, 0.947915826816093, 0.947915826816093, 0.947915826816093, 0.947915826816093, 0.947915826816093, 0.947915826816093, 0.947915826816093, 0.947915826816093, 0.947915826816093, 0.947915826816093, 0.947915826816093, 0.947915826816093, 0.947915826816093, 0.947915826816093, 0.947915826816093, 0.947915826816093, 0.9491816496009029, 0.9491816496009029, 0.9491816496009029, 0.9491816496009029, 0.9491816496009029, 0.9491816496009029, 0.9491816496009029, 0.9491816496009029, 0.9491816496009029, 0.9491816496009029, 0.9491816496009029, 0.9491816496009029, 0.9491816496009029, 0.9491816496009029, 0.9491816496009029, 0.9491816496009029, 0.9491816496009029, 0.9491816496009029, 0.9491816496009029, 0.9504394098202049, 0.9504394098202049, 0.9504394098202049, 0.9504394098202049, 0.9504394098202049, 0.9504394098202049, 0.9504394098202049, 0.9504394098202049, 0.9504394098202049, 0.9504394098202049]}], \"AUC_macro\": [{\"categories\": [\"0\", \"1\", \"2\", \"3\", \"4\", \"5\", \"6\", \"7\", \"8\", \"9\", \"10\", \"11\", \"12\", \"13\", \"14\", \"15\", \"16\", \"17\", \"18\", \"19\", \"20\", \"21\", \"22\", \"23\", \"24\", \"25\", \"26\", \"27\", \"28\", \"29\", \"30\", \"31\", \"32\", \"33\", \"34\", \"35\", \"36\", \"37\", \"38\", \"39\", \"40\", \"41\", \"42\", \"43\", \"44\", \"45\", \"46\", \"47\", \"48\", \"49\", \"50\", \"51\", \"52\", \"53\", \"54\", \"55\", \"56\", \"57\", \"58\", \"59\", \"60\", \"61\", \"62\", \"63\", \"64\", \"65\", \"66\", \"67\", \"68\", \"69\", \"70\", \"71\", \"72\", \"73\", \"74\", \"75\", \"76\", \"77\"], \"mode\": \"markers\", \"name\": \"AUC_macro\", \"stepped\": false, \"type\": \"scatter\", \"data\": [0.9719979112410911, 0.9701416309356883, 0.9776009345911957, 0.9783126419976874, 0.9788977623294619, 0.9819496963634773, 0.9448411764535894, 0.9754736618780248, 0.9796733786558185, 0.960016165709581, 0.9747923113789844, 0.9798998725586798, 0.9671599086005263, 0.9772384177768565, 0.961150603473949, 0.9779276413619069, 0.9750344445943646, 0.9747351560114594, 0.978229569613933, 0.9781880004983028, 0.9628042672972625, 0.9803569337062307, 0.932691977394347, 0.9494993295807411, 0.9728790716474895, 0.9505903726988603, 0.9742774195336281, 0.9784471904739978, 0.9725884338975549, 0.9789099326229254, 0.9812920017119732, 0.976023702260934, 0.9779062782094247, 0.9786996173174497, 0.976350788251841, 0.9794801309238146, 0.9793535737754807, 0.9788295316864053, 0.9794291431804245, 0.9807686463848111, 0.9758213836667237, 0.9741234479260866, 0.9814889840068171, 0.9791419891872316, 0.9754086631516149, 0.5363299021235449, 0.9792124745543399, 0.9784797732404705, 0.9799291734602221, 0.9794270734866828, 0.977125360101887, 0.9820690335841189, 0.9796841601399023, 0.9744694406244054, 0.981482315785259, 0.9793965782891172, 0.9803218084008843, 0.9762833162927956, 0.9803179603860291, 0.9809910434437707, 0.978576829718157, 0.9782477287728524, 0.9775474822065467, 0.9744330194969166, 0.980284703423456, 0.9808686614332508, 0.9765093966088447, 0.9701869504930493, 0.9790724612392434, 0.9754084425680137, 0.9794616001749068, 0.9791300911065907, 0.9755397500157903, 0.9768352472418267, 0.9795603549533862, 0.9793197100975621, 0.9851443564379878, 0.9846882672513126]}, {\"categories\": [\"0\", \"1\", \"2\", \"3\", \"4\", \"5\", \"6\", \"7\", \"8\", \"9\", \"10\", \"11\", \"12\", \"13\", \"14\", \"15\", \"16\", \"17\", \"18\", \"19\", \"20\", \"21\", \"22\", \"23\", \"24\", \"25\", \"26\", \"27\", \"28\", \"29\", \"30\", \"31\", \"32\", \"33\", \"34\", \"35\", \"36\", \"37\", \"38\", \"39\", \"40\", \"41\", \"42\", \"43\", \"44\", \"45\", \"46\", \"47\", \"48\", \"49\", \"50\", \"51\", \"52\", \"53\", \"54\", \"55\", \"56\", \"57\", \"58\", \"59\", \"60\", \"61\", \"62\", \"63\", \"64\", \"65\", \"66\", \"67\", \"68\", \"69\", \"70\", \"71\", \"72\", \"73\", \"74\", \"75\", \"76\", \"77\"], \"mode\": \"lines\", \"name\": \"AUC_macro_max\", \"stepped\": true, \"type\": \"scatter\", \"data\": [0.9719979112410911, 0.9719979112410911, 0.9776009345911957, 0.9783126419976874, 0.9788977623294619, 0.9819496963634773, 0.9819496963634773, 0.9819496963634773, 0.9819496963634773, 0.9819496963634773, 0.9819496963634773, 0.9819496963634773, 0.9819496963634773, 0.9819496963634773, 0.9819496963634773, 0.9819496963634773, 0.9819496963634773, 0.9819496963634773, 0.9819496963634773, 0.9819496963634773, 0.9819496963634773, 0.9819496963634773, 0.9819496963634773, 0.9819496963634773, 0.9819496963634773, 0.9819496963634773, 0.9819496963634773, 0.9819496963634773, 0.9819496963634773, 0.9819496963634773, 0.9819496963634773, 0.9819496963634773, 0.9819496963634773, 0.9819496963634773, 0.9819496963634773, 0.9819496963634773, 0.9819496963634773, 0.9819496963634773, 0.9819496963634773, 0.9819496963634773, 0.9819496963634773, 0.9819496963634773, 0.9819496963634773, 0.9819496963634773, 0.9819496963634773, 0.9819496963634773, 0.9819496963634773, 0.9819496963634773, 0.9819496963634773, 0.9819496963634773, 0.9819496963634773, 0.9820690335841189, 0.9820690335841189, 0.9820690335841189, 0.9820690335841189, 0.9820690335841189, 0.9820690335841189, 0.9820690335841189, 0.9820690335841189, 0.9820690335841189, 0.9820690335841189, 0.9820690335841189, 0.9820690335841189, 0.9820690335841189, 0.9820690335841189, 0.9820690335841189, 0.9820690335841189, 0.9820690335841189, 0.9820690335841189, 0.9820690335841189, 0.9820690335841189, 0.9820690335841189, 0.9820690335841189, 0.9820690335841189, 0.9820690335841189, 0.9820690335841189, 0.9851443564379878, 0.9851443564379878]}], \"AUC_weighted\": [{\"categories\": [\"0\", \"1\", \"2\", \"3\", \"4\", \"5\", \"6\", \"7\", \"8\", \"9\", \"10\", \"11\", \"12\", \"13\", \"14\", \"15\", \"16\", \"17\", \"18\", \"19\", \"20\", \"21\", \"22\", \"23\", \"24\", \"25\", \"26\", \"27\", \"28\", \"29\", \"30\", \"31\", \"32\", \"33\", \"34\", \"35\", \"36\", \"37\", \"38\", \"39\", \"40\", \"41\", \"42\", \"43\", \"44\", \"45\", \"46\", \"47\", \"48\", \"49\", \"50\", \"51\", \"52\", \"53\", \"54\", \"55\", \"56\", \"57\", \"58\", \"59\", \"60\", \"61\", \"62\", \"63\", \"64\", \"65\", \"66\", \"67\", \"68\", \"69\", \"70\", \"71\", \"72\", \"73\", \"74\", \"75\", \"76\", \"77\"], \"mode\": \"markers\", \"name\": \"AUC_weighted\", \"stepped\": false, \"type\": \"scatter\", \"data\": [0.9719979112410911, 0.9701416309356885, 0.9776009345911959, 0.9783126419976872, 0.9788977623294617, 0.9819496963634773, 0.9448411764535894, 0.9754736618780248, 0.9796733786558185, 0.960016165709581, 0.9747923113789844, 0.97989987255868, 0.9671599086005263, 0.9772384177768565, 0.9611506034739492, 0.9779276413619069, 0.9750344445943646, 0.9747351560114594, 0.978229569613933, 0.9781880004983028, 0.9628042672972625, 0.9803569337062307, 0.932691977394347, 0.9494993295807411, 0.9728790716474895, 0.9505903726988603, 0.9742774195336281, 0.9784471904739979, 0.9725884338975549, 0.9789099326229254, 0.9812920017119732, 0.976023702260934, 0.9779062782094247, 0.9786996173174497, 0.976350788251841, 0.9794801309238148, 0.9793535737754807, 0.9788295316864053, 0.9794291431804245, 0.9807686463848111, 0.9758213836667237, 0.9741234479260866, 0.9814889840068171, 0.9791419891872317, 0.9754086631516149, 0.5363299021235449, 0.9792124745543399, 0.9784797732404705, 0.9799291734602221, 0.9794270734866828, 0.977125360101887, 0.9820690335841189, 0.9796841601399022, 0.9744694406244054, 0.981482315785259, 0.9793965782891172, 0.9803218084008846, 0.9762833162927956, 0.9803179603860294, 0.9809910434437707, 0.9785768297181571, 0.9782477287728524, 0.9775474822065467, 0.9744330194969166, 0.9802847034234562, 0.9808686614332508, 0.9765093966088448, 0.9701869504930493, 0.9790724612392434, 0.9754084425680137, 0.9794616001749068, 0.9791300911065905, 0.9755397500157905, 0.9768352472418265, 0.979560354953386, 0.979319710097562, 0.9851443564379879, 0.9846882672513126]}, {\"categories\": [\"0\", \"1\", \"2\", \"3\", \"4\", \"5\", \"6\", \"7\", \"8\", \"9\", \"10\", \"11\", \"12\", \"13\", \"14\", \"15\", \"16\", \"17\", \"18\", \"19\", \"20\", \"21\", \"22\", \"23\", \"24\", \"25\", \"26\", \"27\", \"28\", \"29\", \"30\", \"31\", \"32\", \"33\", \"34\", \"35\", \"36\", \"37\", \"38\", \"39\", \"40\", \"41\", \"42\", \"43\", \"44\", \"45\", \"46\", \"47\", \"48\", \"49\", \"50\", \"51\", \"52\", \"53\", \"54\", \"55\", \"56\", \"57\", \"58\", \"59\", \"60\", \"61\", \"62\", \"63\", \"64\", \"65\", \"66\", \"67\", \"68\", \"69\", \"70\", \"71\", \"72\", \"73\", \"74\", \"75\", \"76\", \"77\"], \"mode\": \"lines\", \"name\": \"AUC_weighted_max\", \"stepped\": true, \"type\": \"scatter\", \"data\": [0.9719979112410911, 0.9719979112410911, 0.9776009345911959, 0.9783126419976872, 0.9788977623294617, 0.9819496963634773, 0.9819496963634773, 0.9819496963634773, 0.9819496963634773, 0.9819496963634773, 0.9819496963634773, 0.9819496963634773, 0.9819496963634773, 0.9819496963634773, 0.9819496963634773, 0.9819496963634773, 0.9819496963634773, 0.9819496963634773, 0.9819496963634773, 0.9819496963634773, 0.9819496963634773, 0.9819496963634773, 0.9819496963634773, 0.9819496963634773, 0.9819496963634773, 0.9819496963634773, 0.9819496963634773, 0.9819496963634773, 0.9819496963634773, 0.9819496963634773, 0.9819496963634773, 0.9819496963634773, 0.9819496963634773, 0.9819496963634773, 0.9819496963634773, 0.9819496963634773, 0.9819496963634773, 0.9819496963634773, 0.9819496963634773, 0.9819496963634773, 0.9819496963634773, 0.9819496963634773, 0.9819496963634773, 0.9819496963634773, 0.9819496963634773, 0.9819496963634773, 0.9819496963634773, 0.9819496963634773, 0.9819496963634773, 0.9819496963634773, 0.9819496963634773, 0.9820690335841189, 0.9820690335841189, 0.9820690335841189, 0.9820690335841189, 0.9820690335841189, 0.9820690335841189, 0.9820690335841189, 0.9820690335841189, 0.9820690335841189, 0.9820690335841189, 0.9820690335841189, 0.9820690335841189, 0.9820690335841189, 0.9820690335841189, 0.9820690335841189, 0.9820690335841189, 0.9820690335841189, 0.9820690335841189, 0.9820690335841189, 0.9820690335841189, 0.9820690335841189, 0.9820690335841189, 0.9820690335841189, 0.9820690335841189, 0.9820690335841189, 0.9851443564379879, 0.9851443564379879]}]}, \"metricName\": null, \"primaryMetricName\": \"AUC_weighted\", \"showLegend\": false}, \"run_metrics\": [{\"name\": \"log_loss\", \"run_id\": \"AutoML_631207ea-e024-420c-a5e8-efbb263a4dc1\", \"categories\": [0], \"series\": [{\"data\": [0.1902718475575883]}]}, {\"name\": \"norm_macro_recall\", \"run_id\": \"AutoML_631207ea-e024-420c-a5e8-efbb263a4dc1\", \"categories\": [0], \"series\": [{\"data\": [0.8761554679226243]}]}, {\"name\": \"f1_score_micro\", \"run_id\": \"AutoML_631207ea-e024-420c-a5e8-efbb263a4dc1\", \"categories\": [0], \"series\": [{\"data\": [0.9377328065790534]}]}, {\"name\": \"f1_score_macro\", \"run_id\": \"AutoML_631207ea-e024-420c-a5e8-efbb263a4dc1\", \"categories\": [0], \"series\": [{\"data\": [0.9374673723600992]}]}, {\"name\": \"weighted_accuracy\", \"run_id\": \"AutoML_631207ea-e024-420c-a5e8-efbb263a4dc1\", \"categories\": [0], \"series\": [{\"data\": [0.9373801289300827]}]}, {\"name\": \"accuracy\", \"run_id\": \"AutoML_631207ea-e024-420c-a5e8-efbb263a4dc1\", \"categories\": [0], \"series\": [{\"data\": [0.9377328065790534]}]}, {\"name\": \"precision_score_weighted\", \"run_id\": \"AutoML_631207ea-e024-420c-a5e8-efbb263a4dc1\", \"categories\": [0], \"series\": [{\"data\": [0.944060003813928]}]}, {\"name\": \"average_precision_score_micro\", \"run_id\": \"AutoML_631207ea-e024-420c-a5e8-efbb263a4dc1\", \"categories\": [0], \"series\": [{\"data\": [0.9854311955338872]}]}, {\"name\": \"AUC_macro\", \"run_id\": \"AutoML_631207ea-e024-420c-a5e8-efbb263a4dc1\", \"categories\": [0], \"series\": [{\"data\": [0.9851443564379878]}]}, {\"name\": \"recall_score_micro\", \"run_id\": \"AutoML_631207ea-e024-420c-a5e8-efbb263a4dc1\", \"categories\": [0], \"series\": [{\"data\": [0.9377328065790534]}]}, {\"name\": \"average_precision_score_weighted\", \"run_id\": \"AutoML_631207ea-e024-420c-a5e8-efbb263a4dc1\", \"categories\": [0], \"series\": [{\"data\": [0.9844605331668574]}]}, {\"name\": \"AUC_micro\", \"run_id\": \"AutoML_631207ea-e024-420c-a5e8-efbb263a4dc1\", \"categories\": [0], \"series\": [{\"data\": [0.9849768340839791]}]}, {\"name\": \"average_precision_score_macro\", \"run_id\": \"AutoML_631207ea-e024-420c-a5e8-efbb263a4dc1\", \"categories\": [0], \"series\": [{\"data\": [0.9842525260203308]}]}, {\"name\": \"f1_score_weighted\", \"run_id\": \"AutoML_631207ea-e024-420c-a5e8-efbb263a4dc1\", \"categories\": [0], \"series\": [{\"data\": [0.9375475505596989]}]}, {\"name\": \"matthews_correlation\", \"run_id\": \"AutoML_631207ea-e024-420c-a5e8-efbb263a4dc1\", \"categories\": [0], \"series\": [{\"data\": [0.8816183302101018]}]}, {\"name\": \"recall_score_weighted\", \"run_id\": \"AutoML_631207ea-e024-420c-a5e8-efbb263a4dc1\", \"categories\": [0], \"series\": [{\"data\": [0.9377328065790534]}]}, {\"name\": \"balanced_accuracy\", \"run_id\": \"AutoML_631207ea-e024-420c-a5e8-efbb263a4dc1\", \"categories\": [0], \"series\": [{\"data\": [0.9380777339613122]}]}, {\"name\": \"AUC_weighted\", \"run_id\": \"AutoML_631207ea-e024-420c-a5e8-efbb263a4dc1\", \"categories\": [0], \"series\": [{\"data\": [0.9851443564379879]}]}, {\"name\": \"recall_score_macro\", \"run_id\": \"AutoML_631207ea-e024-420c-a5e8-efbb263a4dc1\", \"categories\": [0], \"series\": [{\"data\": [0.9380777339613122]}]}, {\"name\": \"precision_score_macro\", \"run_id\": \"AutoML_631207ea-e024-420c-a5e8-efbb263a4dc1\", \"categories\": [0], \"series\": [{\"data\": [0.9435664861107831]}]}, {\"name\": \"precision_score_micro\", \"run_id\": \"AutoML_631207ea-e024-420c-a5e8-efbb263a4dc1\", \"categories\": [0], \"series\": [{\"data\": [0.9377328065790534]}]}], \"run_logs\": \"\\nRun is completed.\", \"graph\": {}, \"widget_settings\": {\"childWidgetDisplay\": \"popup\", \"send_telemetry\": false, \"log_level\": \"INFO\", \"sdk_version\": \"1.36.0\"}, \"loading\": false}"
          },
          "metadata": {}
        }
      ],
      "execution_count": 29,
      "metadata": {
        "jupyter": {
          "source_hidden": false,
          "outputs_hidden": false
        },
        "nteract": {
          "transient": {
            "deleting": false
          }
        },
        "gather": {
          "logged": 1642704657849
        }
      },
      "id": "ba5e0b87-8c34-4c2c-95c9-bc1fb711c033"
    },
    {
      "cell_type": "code",
      "source": [
        "#Getting the best model\r\n",
        "best_run, fitted_model = local_run.get_output()\r\n",
        "print(best_run)"
      ],
      "outputs": [
        {
          "output_type": "stream",
          "name": "stdout",
          "text": "Run(Experiment: Credit-Card,\nId: AutoML_631207ea-e024-420c-a5e8-efbb263a4dc1_76,\nType: None,\nStatus: Completed)\n"
        }
      ],
      "execution_count": 35,
      "metadata": {
        "jupyter": {
          "source_hidden": false,
          "outputs_hidden": false
        },
        "nteract": {
          "transient": {
            "deleting": false
          }
        },
        "gather": {
          "logged": 1642704989180
        }
      },
      "id": "41a529e4-e5fd-4a67-bbec-23e0b8a78780"
    },
    {
      "cell_type": "code",
      "source": [
        "print(fitted_model)"
      ],
      "outputs": [
        {
          "output_type": "stream",
          "name": "stdout",
          "text": "Pipeline(memory=None,\n         steps=[('datatransformer',\n                 DataTransformer(enable_dnn=False, enable_feature_sweeping=True, feature_sweeping_config={}, feature_sweeping_timeout=86400, featurization_config=None, force_text_dnn=False, is_cross_validation=True, is_onnx_compatible=False, observer=None, task='classification', working_dir='/mnt/batch/tasks/shared/LS_root/mount...\n)), ('logisticregression', LogisticRegression(C=0.0062505519252739694, class_weight='balanced', dual=False, fit_intercept=True, intercept_scaling=1, l1_ratio=None, max_iter=100, multi_class='multinomial', n_jobs=1, penalty='l2', random_state=None, solver='saga', tol=0.0001, verbose=0, warm_start=False))], verbose=False))], flatten_transform=None, weights=[0.07142857142857142, 0.2857142857142857, 0.07142857142857142, 0.07142857142857142, 0.07142857142857142, 0.07142857142857142, 0.07142857142857142, 0.14285714285714285, 0.07142857142857142, 0.07142857142857142]))],\n         verbose=False)\n"
        }
      ],
      "execution_count": 36,
      "metadata": {
        "jupyter": {
          "source_hidden": false,
          "outputs_hidden": false
        },
        "nteract": {
          "transient": {
            "deleting": false
          }
        },
        "gather": {
          "logged": 1642705002070
        }
      },
      "id": "e6b417ca-57ab-41b5-b84a-28635fe79912"
    },
    {
      "cell_type": "code",
      "source": [
        "y_predict = fitted_model.predict(X_test)\r\n",
        "print(y_predict[:10])"
      ],
      "outputs": [
        {
          "output_type": "stream",
          "name": "stdout",
          "text": "[1 0 0 0 1 0 1 1 0 1]\n"
        }
      ],
      "execution_count": 31,
      "metadata": {
        "jupyter": {
          "source_hidden": false,
          "outputs_hidden": false
        },
        "nteract": {
          "transient": {
            "deleting": false
          }
        },
        "gather": {
          "logged": 1642704664190
        }
      },
      "id": "b5bf76ab-a7d6-4bd5-a8a6-b0cf7a078b4c"
    },
    {
      "cell_type": "code",
      "source": [
        "from sklearn.metrics import mean_squared_error\r\n",
        "from math import sqrt\r\n",
        "\r\n",
        "y_actual = Y_test.values.flatten().tolist()\r\n",
        "rmse = sqrt(mean_squared_error(y_actual, y_predict))\r\n",
        "rmse"
      ],
      "outputs": [
        {
          "output_type": "execute_result",
          "execution_count": 32,
          "data": {
            "text/plain": "0.2759386380695814"
          },
          "metadata": {}
        }
      ],
      "execution_count": 32,
      "metadata": {
        "jupyter": {
          "source_hidden": false,
          "outputs_hidden": false
        },
        "nteract": {
          "transient": {
            "deleting": false
          }
        },
        "gather": {
          "logged": 1642704666970
        }
      },
      "id": "85a56867-0f84-4dc5-a36e-2b8670684e03"
    },
    {
      "cell_type": "code",
      "source": [
        "sum_actuals = sum_errors = 0\r\n",
        "\r\n",
        "for actual_val, predict_val in zip(y_actual, y_predict):\r\n",
        "    abs_error = actual_val - predict_val\r\n",
        "    if abs_error < 0:\r\n",
        "        abs_error = abs_error * -1\r\n",
        "\r\n",
        "    sum_errors = sum_errors + abs_error\r\n",
        "    sum_actuals = sum_actuals + actual_val\r\n",
        "\r\n",
        "mean_abs_percent_error = sum_errors / sum_actuals\r\n",
        "print(\"Model MAPE:\")\r\n",
        "print(mean_abs_percent_error)\r\n",
        "print()\r\n",
        "print(\"Model Accuracy:\")\r\n",
        "print(1 - mean_abs_percent_error)"
      ],
      "outputs": [
        {
          "output_type": "stream",
          "name": "stdout",
          "text": "Model MAPE:\n0.15306122448979592\n\nModel Accuracy:\n0.846938775510204\n"
        }
      ],
      "execution_count": 33,
      "metadata": {
        "jupyter": {
          "source_hidden": false,
          "outputs_hidden": false
        },
        "nteract": {
          "transient": {
            "deleting": false
          }
        },
        "gather": {
          "logged": 1642704669621
        }
      },
      "id": "1eb1c4bc-6116-4ee3-82e1-ac0886bc7696"
    },
    {
      "cell_type": "markdown",
      "source": [
        "**Registering and Deploying the model**"
      ],
      "metadata": {
        "nteract": {
          "transient": {
            "deleting": false
          }
        }
      },
      "id": "f67ce695-80ff-4723-83e2-b428acb0d707"
    },
    {
      "cell_type": "code",
      "source": [
        "model_name = best_run.properties[\"model_name\"]\r\n",
        "registered_model = local_run.register_model(model_name=model_name, description = \"AutoML Credit card fraud detection\", tags=None)"
      ],
      "outputs": [],
      "execution_count": 37,
      "metadata": {
        "jupyter": {
          "source_hidden": false,
          "outputs_hidden": false
        },
        "nteract": {
          "transient": {
            "deleting": false
          }
        },
        "gather": {
          "logged": 1642705330344
        }
      },
      "id": "bfab641b-9713-42af-9a3e-c89fd7709a5e"
    },
    {
      "cell_type": "code",
      "source": [
        "from azureml.core.model import InferenceConfig\r\n",
        "from azureml.core.webservice import AciWebservice, Webservice\r\n",
        "from azureml.core.model import Model\r\n",
        "from azureml.core.environment import Environment"
      ],
      "outputs": [],
      "execution_count": 38,
      "metadata": {
        "jupyter": {
          "source_hidden": false,
          "outputs_hidden": false
        },
        "nteract": {
          "transient": {
            "deleting": false
          }
        },
        "gather": {
          "logged": 1642705591756
        }
      },
      "id": "488dc726-1630-42eb-bc6c-4467b80f3ad6"
    },
    {
      "cell_type": "code",
      "source": [
        "best_run.download_file(\"outputs/scoring_file_v_1_0_0.py\",\"inference/score.py\")"
      ],
      "outputs": [],
      "execution_count": 39,
      "metadata": {
        "jupyter": {
          "source_hidden": false,
          "outputs_hidden": false
        },
        "nteract": {
          "transient": {
            "deleting": false
          }
        },
        "gather": {
          "logged": 1642705968123
        }
      },
      "id": "afe75cc4-58ff-4755-844d-9ea7a94b0096"
    },
    {
      "cell_type": "code",
      "source": [
        "from azureml.automl.core.shared import constants\r\n",
        "best_run.download_file(constants.CONDA_ENV_FILE_PATH, \"myenv.yml\")\r\n",
        "env = Environment.from_conda_specification(name=\"myenv\", file_path=\"myenv.yml\")"
      ],
      "outputs": [],
      "execution_count": 41,
      "metadata": {
        "jupyter": {
          "source_hidden": false,
          "outputs_hidden": false
        },
        "nteract": {
          "transient": {
            "deleting": false
          }
        },
        "gather": {
          "logged": 1642706865760
        }
      },
      "id": "a1abc493-54c8-402d-b142-057f0cb523c4"
    },
    {
      "cell_type": "code",
      "source": [
        "inference_config = InferenceConfig(entry_script= \"inference/score.py\", environment=env)\r\n",
        "aciconfig = AciWebservice.deploy_configuration(cpu_cores=1, memory_gb=1, description= \"Credit Card Fraud Detection\")\r\n",
        "service = Model.deploy(ws, \"automl-fraud-detection\", [registered_model], inference_config, aciconfig)\r\n",
        "service.wait_for_deployment(True)"
      ],
      "outputs": [
        {
          "output_type": "stream",
          "name": "stdout",
          "text": "Tips: You can try get_logs(): https://aka.ms/debugimage#dockerlog or local deployment: https://aka.ms/debugimage#debug-locally to debug if deployment takes longer than 10 minutes.\nRunning\n2022-01-20 19:49:12+00:00 Creating Container Registry if not exists..\n2022-01-20 19:59:12+00:00 Registering the environment..\n2022-01-20 19:59:17+00:00 Building image..\n2022-01-20 20:11:50+00:00 Generating deployment configuration.\n2022-01-20 20:11:51+00:00 Submitting deployment to compute..\n2022-01-20 20:12:02+00:00 Checking the status of deployment automl-fraud-detection..\n2022-01-20 20:17:07+00:00 Checking the status of inference endpoint automl-fraud-detection.\nSucceeded\nACI service creation operation finished, operation \"Succeeded\"\n"
        }
      ],
      "execution_count": 51,
      "metadata": {
        "jupyter": {
          "source_hidden": false,
          "outputs_hidden": false
        },
        "nteract": {
          "transient": {
            "deleting": false
          }
        },
        "gather": {
          "logged": 1642709831169
        }
      },
      "id": "8e8d34df-0123-4fb9-8f14-71a672d05a4d"
    },
    {
      "cell_type": "code",
      "source": [],
      "outputs": [],
      "execution_count": null,
      "metadata": {
        "jupyter": {
          "source_hidden": false,
          "outputs_hidden": false
        },
        "nteract": {
          "transient": {
            "deleting": false
          }
        }
      },
      "id": "ad5c6d3e-dd7e-419d-befb-c7a276dcacce"
    }
  ],
  "metadata": {
    "kernelspec": {
      "name": "python3-azureml",
      "language": "python",
      "display_name": "Python 3.6 - AzureML"
    },
    "language_info": {
      "name": "python",
      "version": "3.6.9",
      "mimetype": "text/x-python",
      "codemirror_mode": {
        "name": "ipython",
        "version": 3
      },
      "pygments_lexer": "ipython3",
      "nbconvert_exporter": "python",
      "file_extension": ".py"
    },
    "kernel_info": {
      "name": "python3-azureml"
    },
    "nteract": {
      "version": "nteract-front-end@1.0.0"
    },
    "microsoft": {
      "host": {
        "AzureML": {
          "notebookHasBeenCompleted": true
        }
      }
    }
  },
  "nbformat": 4,
  "nbformat_minor": 5
}