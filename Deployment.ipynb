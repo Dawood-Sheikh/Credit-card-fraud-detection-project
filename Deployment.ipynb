{
 "cells": [
  {
   "cell_type": "code",
   "execution_count": 2,
   "metadata": {},
   "outputs": [
    {
     "name": "stdout",
     "output_type": "stream",
     "text": [
      "Predictions (1 = fraudulent, 0 = non-fraudulent):\n",
      " Value: 1. Predicted class: 0\n",
      " Value: 2. Predicted class: 0\n",
      " Value: 3. Predicted class: 1\n"
     ]
    }
   ],
   "source": [
    "endpoint = 'http://ee497da8-5f20-4479-b6f4-bc4fc0539c47.centralindia.azurecontainer.io/score' #Endpoint\n",
    "\n",
    "import json\n",
    "import requests\n",
    "\n",
    "#An array of features based on credit card transactions\n",
    "x = [[11,1.069373588,0.287722129,0.828612727,2.71252043,-0.178398016,\n",
    "    0.33754373,-0.096716862,0.115981736,-0.221082566,0.460230444,-0.773656931,\n",
    "    0.323387245,-0.011075887,-0.178485175,-0.655564278,-0.199925171,0.124005415,\n",
    "    -0.980496202,-0.982916082,-0.153197231,-0.036875532,0.074412403,-0.071407433,\n",
    "    0.104743753,0.548264725,0.104094153,0.021491058,0.021293311,27.5],\n",
    "    [51227,0.803410402,-0.172433565,1.635630474,2.563566328,-1.061009267,0.301191093,\n",
    "    -0.595020157,0.224124719,-0.468006724,0.716784842,1.353996799,0.995507677,0.82391323,\n",
    "    -0.114253248,0.325749129,1.428710993,-1.144913937,0.836865423,-1.257977604,\n",
    "    0.20341783,0.388247349,0.805214599,-0.141513882,0.560961364,0.165150946,0.063832241,\n",
    "    0.02128449,0.059166807,141.67],\n",
    "    [51155,-11.20546139,7.914633492,-13.98775164,4.33334118,-8.484969523,-3.506561173,\n",
    "    -8.935243032,7.704449151,-2.33658418,-5.927359169,2.470401016,-5.788517031,\n",
    "    -0.391939257,-6.527462241,0.899859362,-3.847292842,-6.700637448,-2.492616107,\n",
    "    0.469554314,0.860911742,0.942593331,-0.987848115,-0.279446305,\n",
    "    -0.027299225,0.644344196,-0.263077923,1.084022528,0.211933357,99.99]]\n",
    "\n",
    "#Convert the array to JSON format\n",
    "input_json = json.dumps({\"data\": x})\n",
    "\n",
    "#Set the content type and authentication for the request\n",
    "headers = {\"Content-Type\":\"application/json\",}\n",
    "\n",
    "#Send the request\n",
    "response = requests.post(endpoint, input_json, headers=headers)\n",
    "\n",
    "#If we got a valid response, display the predictions\n",
    "if response.status_code == 200:\n",
    "    y = json.loads(response.json())\n",
    "    print(\"Predictions (1 = fraudulent, 0 = non-fraudulent):\")\n",
    "    for i in range(len(x)):\n",
    "        print (\" Value: {}. Predicted class: {}\".format(i+1, max(0, round(y[\"result\"][i]))))\n",
    "else:\n",
    "    print(response)\n"
   ]
  }
 ],
 "metadata": {
  "interpreter": {
   "hash": "396abdf13271e3a02f1d79aced3a0715c69c89efb5dde9f4c6d0ceaabd442c5a"
  },
  "kernelspec": {
   "display_name": "Python 3.8.0 64-bit",
   "language": "python",
   "name": "python3"
  },
  "language_info": {
   "codemirror_mode": {
    "name": "ipython",
    "version": 3
   },
   "file_extension": ".py",
   "mimetype": "text/x-python",
   "name": "python",
   "nbconvert_exporter": "python",
   "pygments_lexer": "ipython3",
   "version": "3.8.3"
  },
  "orig_nbformat": 4
 },
 "nbformat": 4,
 "nbformat_minor": 2
}
